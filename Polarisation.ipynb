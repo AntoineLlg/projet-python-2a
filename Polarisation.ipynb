{
 "cells": [
  {
   "cell_type": "markdown",
   "id": "a23c0569",
   "metadata": {},
   "source": [
    "# Polarisation des commentaires"
   ]
  },
  {
   "cell_type": "markdown",
   "id": "58fad76e",
   "metadata": {},
   "source": [
    "## Récupération de la base de données et ajout de colonnes de polarités"
   ]
  },
  {
   "cell_type": "code",
   "execution_count": null,
   "id": "fd52e6ce",
   "metadata": {},
   "outputs": [],
   "source": [
    "#!pip install textblob\n",
    "#!pip install textblob-fr"
   ]
  },
  {
   "cell_type": "code",
   "execution_count": 1,
   "id": "77e22c9e",
   "metadata": {},
   "outputs": [
    {
     "name": "stderr",
     "output_type": "stream",
     "text": [
      "[nltk_data] Downloading package punkt to\n",
      "[nltk_data]     C:\\Users\\yseul\\AppData\\Roaming\\nltk_data...\n",
      "[nltk_data]   Package punkt is already up-to-date!\n"
     ]
    },
    {
     "data": {
      "text/plain": [
       "True"
      ]
     },
     "execution_count": 1,
     "metadata": {},
     "output_type": "execute_result"
    }
   ],
   "source": [
    "import pandas as pd\n",
    "import numpy as np\n",
    "import matplotlib.pyplot as plt\n",
    "from textblob import TextBlob\n",
    "from textblob_fr import PatternTagger, PatternAnalyzer\n",
    "import nltk\n",
    "nltk.download('punkt')"
   ]
  },
  {
   "cell_type": "code",
   "execution_count": 2,
   "id": "181fb9a2",
   "metadata": {},
   "outputs": [],
   "source": [
    "#import du dataframe avec la colonne clean\n",
    "\n",
    "#choisir le bon path\n",
    "path = \"C:/Users/yseul/Documents/ENSAE/2A/Info/projet-python-2a/comments.csv\"\n",
    "data = pd.read_csv(path)"
   ]
  },
  {
   "cell_type": "code",
   "execution_count": 3,
   "id": "cdcd3b6b",
   "metadata": {},
   "outputs": [],
   "source": [
    "def blober(text):\n",
    "    '''renvoie un score entre -1 et 1.\n",
    "    Plus le score est proche de 1, plus le commentaire est positif.\n",
    "    Plus il est proche de -1, plus le commentaire est négatif.'''\n",
    "    return TextBlob(text, pos_tagger=PatternTagger(), analyzer=PatternAnalyzer()).sentiment[0]\n",
    "\n",
    "blober = np.vectorize(blober)\n",
    "\n",
    "def sentences(comment):\n",
    "    '''renvoie une liste des phrases d'un commentaire'''\n",
    "    tokenizer = nltk.data.load('tokenizers/punkt/french.pickle')\n",
    "    return tokenizer.tokenize(comment)\n",
    "\n",
    "def polarisation(comment):\n",
    "    '''renvoie la moyenne des polarisations des phrases d'un commentaire'''\n",
    "    s = sentences(comment)\n",
    "    return np.mean(blober(s))\n",
    "\n",
    "polarisation = np.vectorize(polarisation)"
   ]
  },
  {
   "cell_type": "markdown",
   "id": "3745418d",
   "metadata": {},
   "source": [
    "Création de 2 nouvelles colonnes:\n",
    "\n",
    "    - Polarity : polarité de chaque commentaire, calculée sur le commentaire entier directement\n",
    "    \n",
    "    - sentencesPolarity : polarité de chaque commentaire, calculée en prenant la moyenne des polarités sur chaque phrase que comporte le commentaire."
   ]
  },
  {
   "cell_type": "code",
   "execution_count": 4,
   "id": "d634d130",
   "metadata": {},
   "outputs": [],
   "source": [
    "data[\"Polarity\"] = data.loc[:,['textClean']].apply(blober)\n",
    "data[\"sentencesPolarity\"] = data.loc[:,['textClean']].apply(polarisation)"
   ]
  },
  {
   "cell_type": "markdown",
   "id": "24c0c66b",
   "metadata": {},
   "source": [
    "## Analyse des polarités"
   ]
  },
  {
   "cell_type": "code",
   "execution_count": 5,
   "id": "882ae9f9",
   "metadata": {},
   "outputs": [],
   "source": [
    "datapol = data.groupby(['videoTitle']).mean().sort_values('Polarity', ascending = False).loc[:, ['Polarity', 'sentencesPolarity']]"
   ]
  },
  {
   "cell_type": "code",
   "execution_count": 6,
   "id": "a7073435",
   "metadata": {},
   "outputs": [
    {
     "data": {
      "text/html": [
       "<div>\n",
       "<style scoped>\n",
       "    .dataframe tbody tr th:only-of-type {\n",
       "        vertical-align: middle;\n",
       "    }\n",
       "\n",
       "    .dataframe tbody tr th {\n",
       "        vertical-align: top;\n",
       "    }\n",
       "\n",
       "    .dataframe thead th {\n",
       "        text-align: right;\n",
       "    }\n",
       "</style>\n",
       "<table border=\"1\" class=\"dataframe\">\n",
       "  <thead>\n",
       "    <tr style=\"text-align: right;\">\n",
       "      <th></th>\n",
       "      <th>Polarity</th>\n",
       "      <th>sentencesPolarity</th>\n",
       "    </tr>\n",
       "    <tr>\n",
       "      <th>videoTitle</th>\n",
       "      <th></th>\n",
       "      <th></th>\n",
       "    </tr>\n",
       "  </thead>\n",
       "  <tbody>\n",
       "    <tr>\n",
       "      <th>Cet oiseau prédira les catastrophes ? (expédition) - DBY #81</th>\n",
       "      <td>0.388586</td>\n",
       "      <td>0.316646</td>\n",
       "    </tr>\n",
       "    <tr>\n",
       "      <th>Sommes-nous seuls à savoir que l&amp;#39;on existe ? - DBY #72</th>\n",
       "      <td>0.388143</td>\n",
       "      <td>0.366431</td>\n",
       "    </tr>\n",
       "    <tr>\n",
       "      <th>L&amp;#39;irréalité virtuelle - DBY #74</th>\n",
       "      <td>0.368912</td>\n",
       "      <td>0.313011</td>\n",
       "    </tr>\n",
       "    <tr>\n",
       "      <th>La méthode pour ressusciter des espèces disparues - DBY#84</th>\n",
       "      <td>0.346526</td>\n",
       "      <td>0.290913</td>\n",
       "    </tr>\n",
       "    <tr>\n",
       "      <th>Vivre autonome dans l&amp;#39;espace - DBY #80</th>\n",
       "      <td>0.344769</td>\n",
       "      <td>0.317818</td>\n",
       "    </tr>\n",
       "    <tr>\n",
       "      <th>Comment ces champis nous ont façonnés - DBY #76</th>\n",
       "      <td>0.344403</td>\n",
       "      <td>0.299452</td>\n",
       "    </tr>\n",
       "    <tr>\n",
       "      <th>Vous ne savez pas à quoi ressemble le monde vivant (mais personne en fait) - DBY #75</th>\n",
       "      <td>0.339257</td>\n",
       "      <td>0.321685</td>\n",
       "    </tr>\n",
       "    <tr>\n",
       "      <th>L&amp;#39;internet des animaux du futur - DBY #82</th>\n",
       "      <td>0.324370</td>\n",
       "      <td>0.287537</td>\n",
       "    </tr>\n",
       "    <tr>\n",
       "      <th>Comment créer une couleur ? - DBY #69</th>\n",
       "      <td>0.320576</td>\n",
       "      <td>0.290094</td>\n",
       "    </tr>\n",
       "    <tr>\n",
       "      <th>Comment avoir peur de presque tout - DBY #77</th>\n",
       "      <td>0.305730</td>\n",
       "      <td>0.269304</td>\n",
       "    </tr>\n",
       "    <tr>\n",
       "      <th>Faut-il laisser brûler ces forêts ? - DBY #83</th>\n",
       "      <td>0.301446</td>\n",
       "      <td>0.290385</td>\n",
       "    </tr>\n",
       "    <tr>\n",
       "      <th>Le rose n&amp;#39;existe pas - DBY #70</th>\n",
       "      <td>0.297198</td>\n",
       "      <td>0.253022</td>\n",
       "    </tr>\n",
       "    <tr>\n",
       "      <th>Les futures épidémies que nous vivrons - DBY #68</th>\n",
       "      <td>0.292227</td>\n",
       "      <td>0.260381</td>\n",
       "    </tr>\n",
       "    <tr>\n",
       "      <th>Comment une agence russe a essayé de m&amp;#39;utiliser - DBY #79</th>\n",
       "      <td>0.292015</td>\n",
       "      <td>0.248394</td>\n",
       "    </tr>\n",
       "    <tr>\n",
       "      <th>Combien de personnes sommes-nous dans une vie ? - DBY #71</th>\n",
       "      <td>0.289989</td>\n",
       "      <td>0.267783</td>\n",
       "    </tr>\n",
       "    <tr>\n",
       "      <th>Cette pandémie, vue depuis 2021 - DBY #67</th>\n",
       "      <td>0.284478</td>\n",
       "      <td>0.261503</td>\n",
       "    </tr>\n",
       "    <tr>\n",
       "      <th>Il y aura toujours de nouveaux variants (voici pourquoi) - DBY #78</th>\n",
       "      <td>0.276883</td>\n",
       "      <td>0.257082</td>\n",
       "    </tr>\n",
       "    <tr>\n",
       "      <th>Pourquoi l&amp;#39;évolution se répète en boucle - DBY #86</th>\n",
       "      <td>0.268408</td>\n",
       "      <td>0.224362</td>\n",
       "    </tr>\n",
       "    <tr>\n",
       "      <th>Cette chaîne Youtube est maintenant un pays indépendant (ou presque) - DBY #85</th>\n",
       "      <td>0.249636</td>\n",
       "      <td>0.202323</td>\n",
       "    </tr>\n",
       "    <tr>\n",
       "      <th>Ce virus nous manipule ? - DBY #73</th>\n",
       "      <td>0.245916</td>\n",
       "      <td>0.227706</td>\n",
       "    </tr>\n",
       "  </tbody>\n",
       "</table>\n",
       "</div>"
      ],
      "text/plain": [
       "                                                    Polarity  \\\n",
       "videoTitle                                                     \n",
       "Cet oiseau prédira les catastrophes ? (expéditi...  0.388586   \n",
       "Sommes-nous seuls à savoir que l&#39;on existe ...  0.388143   \n",
       "L&#39;irréalité virtuelle - DBY #74                 0.368912   \n",
       "La méthode pour ressusciter des espèces disparu...  0.346526   \n",
       "Vivre autonome dans l&#39;espace - DBY #80          0.344769   \n",
       "Comment ces champis nous ont façonnés - DBY #76     0.344403   \n",
       "Vous ne savez pas à quoi ressemble le monde viv...  0.339257   \n",
       "L&#39;internet des animaux du futur - DBY #82       0.324370   \n",
       "Comment créer une couleur ? - DBY #69               0.320576   \n",
       "Comment avoir peur de presque tout - DBY #77        0.305730   \n",
       "Faut-il laisser brûler ces forêts ? - DBY #83       0.301446   \n",
       "Le rose n&#39;existe pas - DBY #70                  0.297198   \n",
       "Les futures épidémies que nous vivrons - DBY #68    0.292227   \n",
       "Comment une agence russe a essayé de m&#39;util...  0.292015   \n",
       "Combien de personnes sommes-nous dans une vie ?...  0.289989   \n",
       "Cette pandémie, vue depuis 2021 - DBY #67           0.284478   \n",
       "Il y aura toujours de nouveaux variants (voici ...  0.276883   \n",
       "Pourquoi l&#39;évolution se répète en boucle - ...  0.268408   \n",
       "Cette chaîne Youtube est maintenant un pays ind...  0.249636   \n",
       "Ce virus nous manipule ? - DBY #73                  0.245916   \n",
       "\n",
       "                                                    sentencesPolarity  \n",
       "videoTitle                                                             \n",
       "Cet oiseau prédira les catastrophes ? (expéditi...           0.316646  \n",
       "Sommes-nous seuls à savoir que l&#39;on existe ...           0.366431  \n",
       "L&#39;irréalité virtuelle - DBY #74                          0.313011  \n",
       "La méthode pour ressusciter des espèces disparu...           0.290913  \n",
       "Vivre autonome dans l&#39;espace - DBY #80                   0.317818  \n",
       "Comment ces champis nous ont façonnés - DBY #76              0.299452  \n",
       "Vous ne savez pas à quoi ressemble le monde viv...           0.321685  \n",
       "L&#39;internet des animaux du futur - DBY #82                0.287537  \n",
       "Comment créer une couleur ? - DBY #69                        0.290094  \n",
       "Comment avoir peur de presque tout - DBY #77                 0.269304  \n",
       "Faut-il laisser brûler ces forêts ? - DBY #83                0.290385  \n",
       "Le rose n&#39;existe pas - DBY #70                           0.253022  \n",
       "Les futures épidémies que nous vivrons - DBY #68             0.260381  \n",
       "Comment une agence russe a essayé de m&#39;util...           0.248394  \n",
       "Combien de personnes sommes-nous dans une vie ?...           0.267783  \n",
       "Cette pandémie, vue depuis 2021 - DBY #67                    0.261503  \n",
       "Il y aura toujours de nouveaux variants (voici ...           0.257082  \n",
       "Pourquoi l&#39;évolution se répète en boucle - ...           0.224362  \n",
       "Cette chaîne Youtube est maintenant un pays ind...           0.202323  \n",
       "Ce virus nous manipule ? - DBY #73                           0.227706  "
      ]
     },
     "execution_count": 6,
     "metadata": {},
     "output_type": "execute_result"
    }
   ],
   "source": [
    "datapol"
   ]
  },
  {
   "cell_type": "markdown",
   "id": "e7a5b67a",
   "metadata": {},
   "source": [
    "A faire: des graphiques en tout genres (diagrammes batons, comparaison avec le nbr de likes,...)"
   ]
  }
 ],
 "metadata": {
  "kernelspec": {
   "display_name": "Python (projetpython2a)",
   "language": "python",
   "name": "projetpython2a"
  },
  "language_info": {
   "codemirror_mode": {
    "name": "ipython",
    "version": 3
   },
   "file_extension": ".py",
   "mimetype": "text/x-python",
   "name": "python",
   "nbconvert_exporter": "python",
   "pygments_lexer": "ipython3",
   "version": "3.9.7"
  }
 },
 "nbformat": 4,
 "nbformat_minor": 5
}
