{
 "cells": [
  {
   "cell_type": "code",
   "execution_count": 11,
   "id": "9351c094-45d3-40ca-a3a3-874850a50b18",
   "metadata": {},
   "outputs": [
    {
     "ename": "ModuleNotFoundError",
     "evalue": "No module named 'dotenv'",
     "output_type": "error",
     "traceback": [
      "\u001b[0;31m---------------------------------------------------------------------------\u001b[0m",
      "\u001b[0;31mModuleNotFoundError\u001b[0m                       Traceback (most recent call last)",
      "\u001b[0;32m/tmp/ipykernel_1131/1127895871.py\u001b[0m in \u001b[0;36m<module>\u001b[0;34m\u001b[0m\n\u001b[1;32m      1\u001b[0m \u001b[0;32mfrom\u001b[0m \u001b[0mgoogleapiclient\u001b[0m\u001b[0;34m.\u001b[0m\u001b[0mdiscovery\u001b[0m \u001b[0;32mimport\u001b[0m \u001b[0mbuild\u001b[0m\u001b[0;34m\u001b[0m\u001b[0;34m\u001b[0m\u001b[0m\n\u001b[1;32m      2\u001b[0m \u001b[0;32mimport\u001b[0m \u001b[0mos\u001b[0m\u001b[0;34m\u001b[0m\u001b[0;34m\u001b[0m\u001b[0m\n\u001b[0;32m----> 3\u001b[0;31m \u001b[0;32mfrom\u001b[0m \u001b[0mdotenv\u001b[0m \u001b[0;32mimport\u001b[0m \u001b[0mload_dotenv\u001b[0m\u001b[0;34m\u001b[0m\u001b[0;34m\u001b[0m\u001b[0m\n\u001b[0m\u001b[1;32m      4\u001b[0m \u001b[0;32mimport\u001b[0m \u001b[0mpandas\u001b[0m \u001b[0;32mas\u001b[0m \u001b[0mpd\u001b[0m\u001b[0;34m\u001b[0m\u001b[0;34m\u001b[0m\u001b[0m\n\u001b[1;32m      5\u001b[0m \u001b[0;34m\u001b[0m\u001b[0m\n",
      "\u001b[0;31mModuleNotFoundError\u001b[0m: No module named 'dotenv'"
     ]
    }
   ],
   "source": [
    "from googleapiclient.discovery import build\n",
    "import os\n",
    "from dotenv import load_dotenv\n",
    "import pandas as pd\n",
    "\n",
    "load_dotenv()\n",
    "apikey = os.getenv('APIKEY')\n",
    "\n",
    "youtube = build('youtube', \"v3\", developerKey=apikey)\n",
    "\n",
    "request = youtube.channels().list(\n",
    "    part='statistics',\n",
    "    forUsername='dirtybiology'\n",
    ")\n",
    "general_statistics = request.execute()\n",
    "channel_id = general_statistics['items'][0]['id']\n",
    "\n",
    "request = youtube.search().list(\n",
    "    part=\"id,snippet\",\n",
    "    channelId=channel_id,\n",
    "    order='date',\n",
    "    maxResults=20\n",
    ")\n",
    "response = request.execute()\n",
    "video_ids = []\n",
    "more_info = []\n",
    "for item in response['items']:\n",
    "    video_ids.append(item['id']['videoId'])\n",
    "    more_info.append({'videoTitle': item['snippet']['title'], 'videoDate': item['snippet']['publishedAt']})\n",
    "# Scraping des commentaires des vidéos cibles\n",
    "\n",
    "comments_list = []\n",
    "\n",
    "for videoId in video_ids:\n",
    "    specific_info = more_info[video_ids.index(videoId)]\n",
    "    # Requête pour obtenir jusqu'à 100 (maximum autorisé par l'API) commentaires sur une vidéo YouTube\n",
    "    request = youtube.videos().list(\n",
    "        part='statistics',\n",
    "        id=videoId\n",
    "    )\n",
    "    response = request.execute()\n",
    "    stats = response['items'][0]['statistics']\n",
    "    stats.pop('favoriteCount')\n",
    "    stats['videoLikeCount'] = stats.pop('likeCount')\n",
    "    specific_info = {**stats, **specific_info}\n",
    "\n",
    "    request = youtube.commentThreads().list(\n",
    "        part=\"snippet\",\n",
    "        videoId=videoId,\n",
    "        maxResults=100,\n",
    "        order='relevance'\n",
    "    )\n",
    "    response = request.execute()\n",
    "\n",
    "    # Stockage des sorties dans une dataframe\n",
    "    for item in response['items']:\n",
    "        snippet = item['snippet']['topLevelComment']['snippet']\n",
    "        snippet['authorChannelId'] = snippet['authorChannelId']['value']  # lissage\n",
    "        snippet['commentLikeCount'] = snippet.pop('likeCount')\n",
    "        comments_list.append({**snippet, **specific_info})\n",
    "\n",
    "data = pd.DataFrame(comments_list)\n",
    "\n",
    "# Stockage dans un fichier en dehors du script\n",
    "data.to_csv(path_or_buf='./comments.csv',\n",
    "            index=False)\n",
    "\n",
    "if __name__ == \"__main__\":\n",
    "    print(data)\n",
    "    print(data.columns)"
   ]
  },
  {
   "cell_type": "code",
   "execution_count": null,
   "id": "6338b78a-e97a-422d-b0b3-677aafeaab42",
   "metadata": {},
   "outputs": [],
   "source": [
    "import pandas as pd\n",
    "\n",
    "\n",
    "data = pd.read_csv(\"./comments.csv\")\n",
    "\n",
    "data[\"textClean\"] = data.loc[:, [\"textOriginal\"]]\n",
    "data[\"textClean\"] = data[\"textClean\"].str.lower().replace('\\n', ' ').replace('\\r', '')\n",
    "\n",
    "data.to_csv(path_or_buf='./comments.csv',\n",
    "            index=False)"
   ]
  },
  {
   "cell_type": "code",
   "execution_count": null,
   "id": "6d4d9d86-7c0a-4241-9c48-e9a17a661f15",
   "metadata": {},
   "outputs": [],
   "source": []
  },
  {
   "cell_type": "code",
   "execution_count": null,
   "id": "c276658a-5009-4631-a876-7157f2e2b71a",
   "metadata": {},
   "outputs": [],
   "source": [
    "!pip install google-api-python-client"
   ]
  },
  {
   "cell_type": "code",
   "execution_count": null,
   "id": "48bbfda9-f479-4582-840e-ad0dd6963109",
   "metadata": {},
   "outputs": [],
   "source": [
    "!pip install nltk\n"
   ]
  },
  {
   "cell_type": "code",
   "execution_count": null,
   "id": "f46bad43-e6d2-42c7-9ec0-ecba27538c1e",
   "metadata": {},
   "outputs": [],
   "source": [
    "!pip install pywaffle\n"
   ]
  },
  {
   "cell_type": "code",
   "execution_count": null,
   "id": "c59cf11e-50aa-41b9-b035-38e907672dfb",
   "metadata": {},
   "outputs": [
    {
     "name": "stdout",
     "output_type": "stream",
     "text": [
      "Collecting package metadata (current_repodata.json): done\n",
      "Solving environment: done\n",
      "\n",
      "\n",
      "==> WARNING: A newer version of conda exists. <==\n",
      "  current version: 4.10.3\n",
      "  latest version: 4.11.0\n",
      "\n",
      "Please update conda by running\n",
      "\n",
      "    $ conda update -n base conda\n",
      "\n",
      "\n",
      "\n",
      "## Package Plan ##\n",
      "\n",
      "  environment location: /opt/conda\n",
      "\n",
      "  added / updated specs:\n",
      "    - wordcloud\n",
      "\n",
      "\n",
      "The following packages will be downloaded:\n",
      "\n",
      "    package                    |            build\n",
      "    ---------------------------|-----------------\n",
      "    certifi-2021.10.8          |   py39hf3d152e_1         145 KB  conda-forge\n",
      "    wordcloud-1.8.1            |   py39h3811e60_2         190 KB  conda-forge\n",
      "    ------------------------------------------------------------\n",
      "                                           Total:         335 KB\n",
      "\n",
      "The following NEW packages will be INSTALLED:\n",
      "\n",
      "  wordcloud          conda-forge/linux-64::wordcloud-1.8.1-py39h3811e60_2\n",
      "\n",
      "The following packages will be UPDATED:\n",
      "\n",
      "  certifi                          2021.10.8-py39hf3d152e_0 --> 2021.10.8-py39hf3d152e_1\n",
      "\n",
      "\n",
      "Proceed ([y]/n)? "
     ]
    }
   ],
   "source": [
    "!conda install -c conda-forge wordcloud"
   ]
  },
  {
   "cell_type": "code",
   "execution_count": null,
   "id": "1a3fbd0b-5b14-4a46-b5c3-7d5dee64e362",
   "metadata": {},
   "outputs": [],
   "source": []
  }
 ],
 "metadata": {
  "kernelspec": {
   "display_name": "Python 3 (ipykernel)",
   "language": "python",
   "name": "python3"
  },
  "language_info": {
   "codemirror_mode": {
    "name": "ipython",
    "version": 3
   },
   "file_extension": ".py",
   "mimetype": "text/x-python",
   "name": "python",
   "nbconvert_exporter": "python",
   "pygments_lexer": "ipython3",
   "version": "3.9.7"
  }
 },
 "nbformat": 4,
 "nbformat_minor": 5
}
