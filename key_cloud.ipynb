{
 "cells": [
  {
   "cell_type": "markdown",
   "id": "b6f66624-e088-4369-b66f-f968bc76f042",
   "metadata": {},
   "source": [
    "## Key Clouds"
   ]
  },
  {
   "cell_type": "code",
   "execution_count": 3,
   "id": "b4162dc1-fad0-4e09-88cb-6940bc630c01",
   "metadata": {},
   "outputs": [],
   "source": [
    "import pandas as pd\n",
    "import numpy as np"
   ]
  },
  {
   "cell_type": "code",
   "execution_count": 2,
   "id": "ba3c13a5-3e99-49a1-bdc3-60dd1069e8ed",
   "metadata": {},
   "outputs": [
    {
     "name": "stdout",
     "output_type": "stream",
     "text": [
      "Collecting nltk\n",
      "  Downloading nltk-3.6.5-py3-none-any.whl (1.5 MB)\n",
      "     |████████████████████████████████| 1.5 MB 1.6 MB/s            \n",
      "\u001b[?25hCollecting regex>=2021.8.3\n",
      "  Downloading regex-2021.11.10-cp39-cp39-manylinux_2_17_x86_64.manylinux2014_x86_64.whl (763 kB)\n",
      "     |████████████████████████████████| 763 kB 46.0 MB/s            \n",
      "\u001b[?25hRequirement already satisfied: click in /opt/conda/lib/python3.9/site-packages (from nltk) (8.0.3)\n",
      "Requirement already satisfied: tqdm in /opt/conda/lib/python3.9/site-packages (from nltk) (4.62.3)\n",
      "Requirement already satisfied: joblib in /opt/conda/lib/python3.9/site-packages (from nltk) (1.1.0)\n",
      "Installing collected packages: regex, nltk\n",
      "Successfully installed nltk-3.6.5 regex-2021.11.10\n"
     ]
    }
   ],
   "source": [
    "!pip install nltk"
   ]
  },
  {
   "cell_type": "code",
   "execution_count": 5,
   "id": "59bbef1a-a4f5-4743-93a0-861901d25e76",
   "metadata": {},
   "outputs": [
    {
     "name": "stdout",
     "output_type": "stream",
     "text": [
      "Collecting pywaffle\n",
      "  Downloading pywaffle-0.6.3-py2.py3-none-any.whl (526 kB)\n",
      "     |████████████████████████████████| 526 kB 1.8 MB/s            \n",
      "\u001b[?25hRequirement already satisfied: matplotlib in /opt/conda/lib/python3.9/site-packages (from pywaffle) (3.4.3)\n",
      "Requirement already satisfied: kiwisolver>=1.0.1 in /opt/conda/lib/python3.9/site-packages (from matplotlib->pywaffle) (1.3.2)\n",
      "Requirement already satisfied: pillow>=6.2.0 in /opt/conda/lib/python3.9/site-packages (from matplotlib->pywaffle) (8.3.2)\n",
      "Requirement already satisfied: python-dateutil>=2.7 in /opt/conda/lib/python3.9/site-packages (from matplotlib->pywaffle) (2.8.2)\n",
      "Requirement already satisfied: numpy>=1.16 in /opt/conda/lib/python3.9/site-packages (from matplotlib->pywaffle) (1.20.3)\n",
      "Requirement already satisfied: pyparsing>=2.2.1 in /opt/conda/lib/python3.9/site-packages (from matplotlib->pywaffle) (2.4.7)\n",
      "Requirement already satisfied: cycler>=0.10 in /opt/conda/lib/python3.9/site-packages (from matplotlib->pywaffle) (0.10.0)\n",
      "Requirement already satisfied: six in /opt/conda/lib/python3.9/site-packages (from cycler>=0.10->matplotlib->pywaffle) (1.16.0)\n",
      "Installing collected packages: pywaffle\n",
      "Successfully installed pywaffle-0.6.3\n"
     ]
    }
   ],
   "source": [
    "!pip install pywaffle"
   ]
  },
  {
   "cell_type": "code",
   "execution_count": 6,
   "id": "65c10e0d-a3e2-4089-b833-aec73f441d06",
   "metadata": {},
   "outputs": [
    {
     "name": "stdout",
     "output_type": "stream",
     "text": [
      "Collecting package metadata (current_repodata.json): done\n",
      "Solving environment: done\n",
      "\n",
      "\n",
      "==> WARNING: A newer version of conda exists. <==\n",
      "  current version: 4.10.3\n",
      "  latest version: 4.11.0\n",
      "\n",
      "Please update conda by running\n",
      "\n",
      "    $ conda update -n base conda\n",
      "\n",
      "\n",
      "\n",
      "## Package Plan ##\n",
      "\n",
      "  environment location: /opt/conda\n",
      "\n",
      "  added / updated specs:\n",
      "    - wordcloud\n",
      "\n",
      "\n",
      "The following packages will be downloaded:\n",
      "\n",
      "    package                    |            build\n",
      "    ---------------------------|-----------------\n",
      "    certifi-2021.10.8          |   py39hf3d152e_1         145 KB  conda-forge\n",
      "    wordcloud-1.8.1            |   py39h3811e60_2         190 KB  conda-forge\n",
      "    ------------------------------------------------------------\n",
      "                                           Total:         335 KB\n",
      "\n",
      "The following NEW packages will be INSTALLED:\n",
      "\n",
      "  wordcloud          conda-forge/linux-64::wordcloud-1.8.1-py39h3811e60_2\n",
      "\n",
      "The following packages will be UPDATED:\n",
      "\n",
      "  certifi                          2021.10.8-py39hf3d152e_0 --> 2021.10.8-py39hf3d152e_1\n",
      "\n",
      "\n",
      "\n",
      "Downloading and Extracting Packages\n",
      "certifi-2021.10.8    | 145 KB    | ##################################### | 100% \n",
      "wordcloud-1.8.1      | 190 KB    | ##################################### | 100% \n",
      "Preparing transaction: done\n",
      "Verifying transaction: done\n",
      "Executing transaction: done\n",
      "\n",
      "Note: you may need to restart the kernel to use updated packages.\n"
     ]
    }
   ],
   "source": [
    "conda install -c conda-forge wordcloud"
   ]
  },
  {
   "cell_type": "code",
   "execution_count": 7,
   "id": "3b0e5793-d142-48d8-a18d-6e908c73fe8a",
   "metadata": {},
   "outputs": [
    {
     "name": "stderr",
     "output_type": "stream",
     "text": [
      "[nltk_data] Downloading package stopwords to /home/jovyan/nltk_data...\n",
      "[nltk_data]   Unzipping corpora/stopwords.zip.\n"
     ]
    },
    {
     "data": {
      "text/plain": [
       "True"
      ]
     },
     "execution_count": 7,
     "metadata": {},
     "output_type": "execute_result"
    }
   ],
   "source": [
    "import numpy as np\n",
    "import pandas as pd\n",
    "import seaborn as sns\n",
    "import matplotlib.pyplot as plt\n",
    "from wordcloud import WordCloud\n",
    "import base64\n",
    "import string\n",
    "import re\n",
    "import nltk\n",
    "\n",
    "from collections import Counter\n",
    "from time import time\n",
    "# from sklearn.feature_extraction.stop_words import ENGLISH_STOP_WORDS as stopwords\n",
    "from sklearn.metrics import log_loss\n",
    "import matplotlib.pyplot as plt\n",
    "#!pip install pywaffle\n",
    "from pywaffle import Waffle\n",
    "\n",
    "from nltk.stem import WordNetLemmatizer\n",
    "from sklearn.feature_extraction.text import TfidfVectorizer, CountVectorizer\n",
    "from sklearn.decomposition import NMF, LatentDirichletAllocation\n",
    "\n",
    "nltk.download('stopwords')"
   ]
  },
  {
   "cell_type": "code",
   "execution_count": 8,
   "id": "ef70b200-5409-47d4-bd65-733bb884ca13",
   "metadata": {},
   "outputs": [
    {
     "name": "stderr",
     "output_type": "stream",
     "text": [
      "[nltk_data] Downloading package punkt to /home/jovyan/nltk_data...\n",
      "[nltk_data]   Unzipping tokenizers/punkt.zip.\n"
     ]
    },
    {
     "data": {
      "text/plain": [
       "True"
      ]
     },
     "execution_count": 8,
     "metadata": {},
     "output_type": "execute_result"
    }
   ],
   "source": [
    "nltk.download('punkt')"
   ]
  },
  {
   "cell_type": "code",
   "execution_count": 9,
   "id": "878cd87b-d35c-46f4-bd0d-4ffa3f3add8d",
   "metadata": {},
   "outputs": [
    {
     "name": "stderr",
     "output_type": "stream",
     "text": [
      "[nltk_data] Downloading package genesis to /home/jovyan/nltk_data...\n",
      "[nltk_data]   Unzipping corpora/genesis.zip.\n"
     ]
    },
    {
     "data": {
      "text/plain": [
       "True"
      ]
     },
     "execution_count": 9,
     "metadata": {},
     "output_type": "execute_result"
    }
   ],
   "source": [
    "nltk.download('genesis')"
   ]
  },
  {
   "cell_type": "code",
   "execution_count": 10,
   "id": "61ccf8c1-3138-4713-8e6e-cb8acb30d23c",
   "metadata": {},
   "outputs": [
    {
     "name": "stderr",
     "output_type": "stream",
     "text": [
      "[nltk_data] Downloading package wordnet to /home/jovyan/nltk_data...\n",
      "[nltk_data]   Unzipping corpora/wordnet.zip.\n"
     ]
    },
    {
     "data": {
      "text/plain": [
       "True"
      ]
     },
     "execution_count": 10,
     "metadata": {},
     "output_type": "execute_result"
    }
   ],
   "source": [
    "nltk.download('wordnet')"
   ]
  },
  {
   "cell_type": "code",
   "execution_count": 11,
   "id": "e6543556-fd82-4e36-9fb1-0ccbc406215d",
   "metadata": {},
   "outputs": [
    {
     "data": {
      "text/html": [
       "<div>\n",
       "<style scoped>\n",
       "    .dataframe tbody tr th:only-of-type {\n",
       "        vertical-align: middle;\n",
       "    }\n",
       "\n",
       "    .dataframe tbody tr th {\n",
       "        vertical-align: top;\n",
       "    }\n",
       "\n",
       "    .dataframe thead th {\n",
       "        text-align: right;\n",
       "    }\n",
       "</style>\n",
       "<table border=\"1\" class=\"dataframe\">\n",
       "  <thead>\n",
       "    <tr style=\"text-align: right;\">\n",
       "      <th></th>\n",
       "      <th>videoId</th>\n",
       "      <th>textDisplay</th>\n",
       "      <th>textOriginal</th>\n",
       "      <th>authorDisplayName</th>\n",
       "      <th>authorProfileImageUrl</th>\n",
       "      <th>authorChannelUrl</th>\n",
       "      <th>authorChannelId</th>\n",
       "      <th>canRate</th>\n",
       "      <th>viewerRating</th>\n",
       "      <th>likeCount</th>\n",
       "      <th>publishedAt</th>\n",
       "      <th>updatedAt</th>\n",
       "      <th>videoTitle</th>\n",
       "      <th>videoDate</th>\n",
       "    </tr>\n",
       "  </thead>\n",
       "  <tbody>\n",
       "    <tr>\n",
       "      <th>0</th>\n",
       "      <td>ehmyaX0lJew</td>\n",
       "      <td>Je vote pour que l&amp;#39;hymne national soit &amp;qu...</td>\n",
       "      <td>Je vote pour que l hymne national soit \"Never ...</td>\n",
       "      <td>fauteuillouisxv</td>\n",
       "      <td>https://yt3.ggpht.com/ytc/AKedOLRiOIE_FfOYMmtJ...</td>\n",
       "      <td>http://www.youtube.com/channel/UCB3SlhavTJwpvQ...</td>\n",
       "      <td>UCB3SlhavTJwpvQslrjYfvlA</td>\n",
       "      <td>True</td>\n",
       "      <td>none</td>\n",
       "      <td>4363</td>\n",
       "      <td>2021-11-01T14:31:33Z</td>\n",
       "      <td>2021-11-01T14:31:33Z</td>\n",
       "      <td>Pourquoi l&amp;#39;évolution se répète en boucle -...</td>\n",
       "      <td>2021-12-12T13:00:37Z</td>\n",
       "    </tr>\n",
       "    <tr>\n",
       "      <th>1</th>\n",
       "      <td>ehmyaX0lJew</td>\n",
       "      <td>Une idée d’hymne pour le pays ? 🤔</td>\n",
       "      <td>Une idée d’hymne pour le pays ? 🤔</td>\n",
       "      <td>YouTube</td>\n",
       "      <td>https://yt3.ggpht.com/584JjRp5QMuKbyduM_2k5RlX...</td>\n",
       "      <td>http://www.youtube.com/channel/UCBR8-60-B28hp2...</td>\n",
       "      <td>UCBR8-60-B28hp2BmDPdntcQ</td>\n",
       "      <td>True</td>\n",
       "      <td>none</td>\n",
       "      <td>887</td>\n",
       "      <td>2021-11-04T18:46:45Z</td>\n",
       "      <td>2021-11-04T18:46:45Z</td>\n",
       "      <td>Pourquoi l&amp;#39;évolution se répète en boucle -...</td>\n",
       "      <td>2021-12-12T13:00:37Z</td>\n",
       "    </tr>\n",
       "    <tr>\n",
       "      <th>2</th>\n",
       "      <td>ehmyaX0lJew</td>\n",
       "      <td>&amp;quot;Ce sera internet le territoire&amp;quot; ça ...</td>\n",
       "      <td>\"Ce sera internet le territoire\" ça me fait me...</td>\n",
       "      <td>Do</td>\n",
       "      <td>https://yt3.ggpht.com/ytc/AKedOLSR54io4bDtzKIN...</td>\n",
       "      <td>http://www.youtube.com/channel/UC91xKGD78Fjsyi...</td>\n",
       "      <td>UC91xKGD78FjsyijwAKSEBpw</td>\n",
       "      <td>True</td>\n",
       "      <td>none</td>\n",
       "      <td>521</td>\n",
       "      <td>2021-11-02T10:18:34Z</td>\n",
       "      <td>2021-11-02T10:21:44Z</td>\n",
       "      <td>Pourquoi l&amp;#39;évolution se répète en boucle -...</td>\n",
       "      <td>2021-12-12T13:00:37Z</td>\n",
       "    </tr>\n",
       "    <tr>\n",
       "      <th>3</th>\n",
       "      <td>ehmyaX0lJew</td>\n",
       "      <td>Je veux absolument un passeport de Dirtybiolog...</td>\n",
       "      <td>Je veux absolument un passeport de Dirtybiolog...</td>\n",
       "      <td>Dark</td>\n",
       "      <td>https://yt3.ggpht.com/Cv3SNTMi0KHR4x3goJUK7VlR...</td>\n",
       "      <td>http://www.youtube.com/channel/UC6hZ64RB21tnY-...</td>\n",
       "      <td>UC6hZ64RB21tnY-M7jfguuzg</td>\n",
       "      <td>True</td>\n",
       "      <td>none</td>\n",
       "      <td>2</td>\n",
       "      <td>2021-11-26T15:00:01Z</td>\n",
       "      <td>2021-11-26T15:00:01Z</td>\n",
       "      <td>Pourquoi l&amp;#39;évolution se répète en boucle -...</td>\n",
       "      <td>2021-12-12T13:00:37Z</td>\n",
       "    </tr>\n",
       "    <tr>\n",
       "      <th>4</th>\n",
       "      <td>ehmyaX0lJew</td>\n",
       "      <td>Je veux absolument un passeport de Dirtybiolog...</td>\n",
       "      <td>Je veux absolument un passeport de Dirtybiolog...</td>\n",
       "      <td>Jeffrey 75</td>\n",
       "      <td>https://yt3.ggpht.com/ytc/AKedOLRDIEz77_NQDNnm...</td>\n",
       "      <td>http://www.youtube.com/channel/UCIOWsD3jQ44JZA...</td>\n",
       "      <td>UCIOWsD3jQ44JZA2E1DNgZTg</td>\n",
       "      <td>True</td>\n",
       "      <td>none</td>\n",
       "      <td>107</td>\n",
       "      <td>2021-11-02T08:12:55Z</td>\n",
       "      <td>2021-11-02T08:12:55Z</td>\n",
       "      <td>Pourquoi l&amp;#39;évolution se répète en boucle -...</td>\n",
       "      <td>2021-12-12T13:00:37Z</td>\n",
       "    </tr>\n",
       "  </tbody>\n",
       "</table>\n",
       "</div>"
      ],
      "text/plain": [
       "       videoId                                        textDisplay  \\\n",
       "0  ehmyaX0lJew  Je vote pour que l&#39;hymne national soit &qu...   \n",
       "1  ehmyaX0lJew                  Une idée d’hymne pour le pays ? 🤔   \n",
       "2  ehmyaX0lJew  &quot;Ce sera internet le territoire&quot; ça ...   \n",
       "3  ehmyaX0lJew  Je veux absolument un passeport de Dirtybiolog...   \n",
       "4  ehmyaX0lJew  Je veux absolument un passeport de Dirtybiolog...   \n",
       "\n",
       "                                        textOriginal authorDisplayName  \\\n",
       "0  Je vote pour que l hymne national soit \"Never ...   fauteuillouisxv   \n",
       "1                  Une idée d’hymne pour le pays ? 🤔           YouTube   \n",
       "2  \"Ce sera internet le territoire\" ça me fait me...                Do   \n",
       "3  Je veux absolument un passeport de Dirtybiolog...              Dark   \n",
       "4  Je veux absolument un passeport de Dirtybiolog...        Jeffrey 75   \n",
       "\n",
       "                               authorProfileImageUrl  \\\n",
       "0  https://yt3.ggpht.com/ytc/AKedOLRiOIE_FfOYMmtJ...   \n",
       "1  https://yt3.ggpht.com/584JjRp5QMuKbyduM_2k5RlX...   \n",
       "2  https://yt3.ggpht.com/ytc/AKedOLSR54io4bDtzKIN...   \n",
       "3  https://yt3.ggpht.com/Cv3SNTMi0KHR4x3goJUK7VlR...   \n",
       "4  https://yt3.ggpht.com/ytc/AKedOLRDIEz77_NQDNnm...   \n",
       "\n",
       "                                    authorChannelUrl  \\\n",
       "0  http://www.youtube.com/channel/UCB3SlhavTJwpvQ...   \n",
       "1  http://www.youtube.com/channel/UCBR8-60-B28hp2...   \n",
       "2  http://www.youtube.com/channel/UC91xKGD78Fjsyi...   \n",
       "3  http://www.youtube.com/channel/UC6hZ64RB21tnY-...   \n",
       "4  http://www.youtube.com/channel/UCIOWsD3jQ44JZA...   \n",
       "\n",
       "            authorChannelId  canRate viewerRating  likeCount  \\\n",
       "0  UCB3SlhavTJwpvQslrjYfvlA     True         none       4363   \n",
       "1  UCBR8-60-B28hp2BmDPdntcQ     True         none        887   \n",
       "2  UC91xKGD78FjsyijwAKSEBpw     True         none        521   \n",
       "3  UC6hZ64RB21tnY-M7jfguuzg     True         none          2   \n",
       "4  UCIOWsD3jQ44JZA2E1DNgZTg     True         none        107   \n",
       "\n",
       "            publishedAt             updatedAt  \\\n",
       "0  2021-11-01T14:31:33Z  2021-11-01T14:31:33Z   \n",
       "1  2021-11-04T18:46:45Z  2021-11-04T18:46:45Z   \n",
       "2  2021-11-02T10:18:34Z  2021-11-02T10:21:44Z   \n",
       "3  2021-11-26T15:00:01Z  2021-11-26T15:00:01Z   \n",
       "4  2021-11-02T08:12:55Z  2021-11-02T08:12:55Z   \n",
       "\n",
       "                                          videoTitle             videoDate  \n",
       "0  Pourquoi l&#39;évolution se répète en boucle -...  2021-12-12T13:00:37Z  \n",
       "1  Pourquoi l&#39;évolution se répète en boucle -...  2021-12-12T13:00:37Z  \n",
       "2  Pourquoi l&#39;évolution se répète en boucle -...  2021-12-12T13:00:37Z  \n",
       "3  Pourquoi l&#39;évolution se répète en boucle -...  2021-12-12T13:00:37Z  \n",
       "4  Pourquoi l&#39;évolution se répète en boucle -...  2021-12-12T13:00:37Z  "
      ]
     },
     "execution_count": 11,
     "metadata": {},
     "output_type": "execute_result"
    }
   ],
   "source": [
    "df = pd.read_csv('comments.csv')\n",
    "df['textOriginal'] = df['textOriginal'].str.replace(\"\\n\" , \"  \")\n",
    "df['textOriginal'] = df['textOriginal'].str.replace(\"\\'\", \" \")\n",
    "df.head()"
   ]
  },
  {
   "cell_type": "code",
   "execution_count": null,
   "id": "4c86a2ac-bd7f-4639-bd74-62fcd787fe97",
   "metadata": {},
   "outputs": [],
   "source": []
  },
  {
   "cell_type": "markdown",
   "id": "0eed967a-d6f0-4f9e-b03f-2b771ba9852a",
   "metadata": {},
   "source": [
    "## Tokenisation"
   ]
  },
  {
   "cell_type": "code",
   "execution_count": 12,
   "id": "168f2732-7141-4d86-abf6-02dc3c3b59db",
   "metadata": {},
   "outputs": [
    {
     "name": "stderr",
     "output_type": "stream",
     "text": [
      "[nltk_data] Downloading package punkt to /home/jovyan/nltk_data...\n",
      "[nltk_data]   Package punkt is already up-to-date!\n"
     ]
    },
    {
     "data": {
      "text/plain": [
       "True"
      ]
     },
     "execution_count": 12,
     "metadata": {},
     "output_type": "execute_result"
    }
   ],
   "source": [
    "import nltk\n",
    "nltk.download('punkt')"
   ]
  },
  {
   "cell_type": "code",
   "execution_count": 31,
   "id": "b60cb2d9-d577-4a87-b4c4-7dbb7ad37866",
   "metadata": {},
   "outputs": [
    {
     "data": {
      "text/plain": [
       "str"
      ]
     },
     "execution_count": 31,
     "metadata": {},
     "output_type": "execute_result"
    }
   ],
   "source": [
    "#df['textOriginal'] = df['textOriginal'].str.replace(\",\", \" \")\n",
    "#df['textOriginal'] = df['textOriginal'].str.replace(\".\", \" \")\n",
    "#df['textOriginal'] = df['textOriginal'].str.replace(\"'\", \" \")\n",
    "#df['textOriginal'] = df['textOriginal'].str.replace(\"''\", \" \")\n",
    "#df['textOriginal'] = df['textOriginal'].str.replace('``', \" \")\n",
    "#df['textOriginal'] = df['textOriginal'].str.replace('!', \" \")\n",
    "#df['textOriginal'] = df['textOriginal'].str.replace('?', \" \")\n",
    "\n",
    "dumas = \" \".join(df['textOriginal'])\n",
    "type(dumas)"
   ]
  },
  {
   "cell_type": "code",
   "execution_count": 32,
   "id": "2f2daf85-a206-4138-a0a4-5a1eec1c1aec",
   "metadata": {},
   "outputs": [],
   "source": [
    "import re\n",
    "\n",
    "def clean_text(text):\n",
    "    text = text.lower() # mettre les mots en minuscule\n",
    "    text = \" \".join(text.split())\n",
    "    return text\n",
    "\n",
    "dumas = clean_text(dumas)"
   ]
  },
  {
   "cell_type": "code",
   "execution_count": 30,
   "id": "fc742c39-cc19-4786-8913-2897df75ed47",
   "metadata": {},
   "outputs": [
    {
     "data": {
      "text/plain": [
       "['appeler',\n",
       " '``',\n",
       " 'le',\n",
       " 'balkany',\n",
       " \"''\",\n",
       " 'de',\n",
       " 'plus',\n",
       " 'serait-ce',\n",
       " 'un',\n",
       " 'paradis',\n",
       " 'fiscal',\n",
       " 'c',\n",
       " 'est',\n",
       " 'tellement',\n",
       " 'ouf',\n",
       " 'cette',\n",
       " 'idée',\n",
       " 'trop',\n",
       " 'hâte',\n",
       " 'de']"
      ]
     },
     "execution_count": 30,
     "metadata": {},
     "output_type": "execute_result"
    }
   ],
   "source": [
    "words = nltk.word_tokenize(dumas, language='french')\n",
    "words[1030:1050]"
   ]
  },
  {
   "cell_type": "code",
   "execution_count": 33,
   "id": "4c36ace9-99c2-4035-9133-bf9718fe6c71",
   "metadata": {},
   "outputs": [
    {
     "data": {
      "text/plain": [
       "['ça',\n",
       " 'rentrer',\n",
       " 'dans',\n",
       " 'une',\n",
       " 'logique',\n",
       " 'de',\n",
       " 'représentation',\n",
       " 'internationale',\n",
       " 'avec',\n",
       " 'des',\n",
       " 'ambassabes',\n",
       " 'par',\n",
       " 'exemple',\n",
       " 'ainsi',\n",
       " 'que',\n",
       " 'rédiger',\n",
       " 'tes',\n",
       " 'communiqués',\n",
       " 'selon',\n",
       " 'un']"
      ]
     },
     "execution_count": 33,
     "metadata": {},
     "output_type": "execute_result"
    }
   ],
   "source": [
    "words = [word for word in words if word.isalpha()]\n",
    "words[1030:1050]"
   ]
  },
  {
   "cell_type": "code",
   "execution_count": 34,
   "id": "0c764949-a801-4b67-9afd-8b8926f8d78d",
   "metadata": {},
   "outputs": [
    {
     "name": "stderr",
     "output_type": "stream",
     "text": [
      "[nltk_data] Downloading package punkt to /home/jovyan/nltk_data...\n",
      "[nltk_data]   Package punkt is already up-to-date!\n"
     ]
    },
    {
     "data": {
      "text/plain": [
       "True"
      ]
     },
     "execution_count": 34,
     "metadata": {},
     "output_type": "execute_result"
    }
   ],
   "source": [
    "import nltk\n",
    "nltk.download('punkt')"
   ]
  },
  {
   "cell_type": "markdown",
   "id": "2bd8b596-4730-46d8-851e-df0bf9d9fefe",
   "metadata": {},
   "source": [
    "## Retirer les stopwords"
   ]
  },
  {
   "cell_type": "code",
   "execution_count": 36,
   "id": "ae035485-230a-4c68-b9a8-2b74603384af",
   "metadata": {},
   "outputs": [
    {
     "name": "stderr",
     "output_type": "stream",
     "text": [
      "[nltk_data] Downloading package stopwords to /home/jovyan/nltk_data...\n",
      "[nltk_data]   Package stopwords is already up-to-date!\n"
     ]
    }
   ],
   "source": [
    "import nltk\n",
    "nltk.download('stopwords')\n",
    "\n",
    "from nltk.corpus import stopwords\n",
    "#print(stopwords.words(\"french\"))"
   ]
  },
  {
   "cell_type": "code",
   "execution_count": 37,
   "id": "e60226d1-f8a2-4c51-abe9-4650b84247cf",
   "metadata": {},
   "outputs": [
    {
     "name": "stdout",
     "output_type": "stream",
     "text": [
      "['intégrer', 'pays', 'mail', 'déjà', 'existant', 'si', 'fais', 'mot', 'passe', 'oublié', 'erreur', 'survenue', 'ça', 'belle', 'aventure', 'dis', 'oui', 'pays', 'oui', 'petit']\n"
     ]
    }
   ],
   "source": [
    "stop_words = set(stopwords.words('french'))\n",
    "\n",
    "words = [w for w in words if not w in stop_words]\n",
    "print(words[1030:1050])"
   ]
  },
  {
   "cell_type": "markdown",
   "id": "cce8c880-40fd-4324-b9e1-1a7209e38ad3",
   "metadata": {},
   "source": [
    "## Stemming"
   ]
  },
  {
   "cell_type": "code",
   "execution_count": null,
   "id": "c369febb-a6f3-48dc-9a18-b24880e6925a",
   "metadata": {},
   "outputs": [],
   "source": [
    "# ne garder que la racine des mots\n",
    "# pas idéal pour créer des key clouds"
   ]
  },
  {
   "cell_type": "markdown",
   "id": "70549434-5a61-4925-ad1b-cfda8df6ec20",
   "metadata": {},
   "source": [
    "## Reconnaissance des entités nommées"
   ]
  },
  {
   "cell_type": "code",
   "execution_count": 47,
   "id": "c01ffc82-d9e3-41e9-bc92-927101a8d4f8",
   "metadata": {},
   "outputs": [],
   "source": [
    "#!pip install deplacy\n",
    "#!python -m spacy download fr_core_news_sm\n",
    "import pkg_resources,imp\n",
    "imp.reload(pkg_resources)\n",
    "import spacy\n",
    "from spacy import displacy"
   ]
  },
  {
   "cell_type": "code",
   "execution_count": 49,
   "id": "af6f2e1e-dc4a-4898-aaf6-acd295518874",
   "metadata": {},
   "outputs": [],
   "source": [
    "nlp=spacy.load(\"fr_core_news_sm\")\n",
    "doc = nlp(dumas)\n",
    "#displacy.render(doc, style=\"ent\", jupyter=True)"
   ]
  },
  {
   "cell_type": "code",
   "execution_count": null,
   "id": "2b84f5e3-bcd3-45cb-ac40-b798282e9ecf",
   "metadata": {},
   "outputs": [],
   "source": []
  },
  {
   "cell_type": "code",
   "execution_count": null,
   "id": "f024375e-0b6b-4612-8ed4-fbc4091eaddf",
   "metadata": {},
   "outputs": [],
   "source": []
  },
  {
   "cell_type": "markdown",
   "id": "e3519b1f-3bf8-4d10-a5ae-0d18b42b7ab1",
   "metadata": {},
   "source": [
    "## Word Cloud"
   ]
  },
  {
   "cell_type": "code",
   "execution_count": 51,
   "id": "97d01351-9b0e-4b36-a990-df5c3fc3f359",
   "metadata": {},
   "outputs": [],
   "source": [
    "from os import path\n",
    "from PIL import Image\n",
    "from wordcloud import WordCloud, STOPWORDS, ImageColorGenerator\n",
    "\n",
    "import matplotlib.pyplot as plt\n",
    "#% matplotlib inline"
   ]
  },
  {
   "cell_type": "code",
   "execution_count": 76,
   "id": "ced18249-3399-4ba8-8eb9-711638621961",
   "metadata": {},
   "outputs": [],
   "source": [
    "import warnings\n",
    "warnings.filterwarnings(\"ignore\")"
   ]
  },
  {
   "cell_type": "code",
   "execution_count": 77,
   "id": "35134f5e-2f1a-4c27-90c1-24606099aeca",
   "metadata": {},
   "outputs": [
    {
     "data": {
      "text/plain": [
       "str"
      ]
     },
     "execution_count": 77,
     "metadata": {},
     "output_type": "execute_result"
    }
   ],
   "source": [
    "text = \" \".join(words)\n",
    "type(text)"
   ]
  },
  {
   "cell_type": "code",
   "execution_count": 78,
   "id": "6b4f6909-3bc1-4cb7-9f2b-c35f7a8169a4",
   "metadata": {},
   "outputs": [
    {
     "data": {
      "image/png": "[encoded data removed]",
      "text/plain": [
       "<Figure size 432x288 with 1 Axes>"
      ]
     },
     "metadata": {
      "needs_background": "light"
     },
     "output_type": "display_data"
    }
   ],
   "source": [
    "# Create and generate a word cloud image:\n",
    "wordcloud = WordCloud().generate(text)\n",
    "\n",
    "# Display the generated image:\n",
    "plt.imshow(wordcloud, interpolation='bilinear')\n",
    "plt.axis(\"off\")\n",
    "plt.show()"
   ]
  },
  {
   "cell_type": "code",
   "execution_count": 79,
   "id": "2442b20c-a29e-45a3-9b17-d4b44d309a0b",
   "metadata": {},
   "outputs": [
    {
     "data": {
      "image/png": "[encoded data removed]",
      "text/plain": [
       "<Figure size 432x288 with 1 Axes>"
      ]
     },
     "metadata": {
      "needs_background": "light"
     },
     "output_type": "display_data"
    }
   ],
   "source": [
    "# lower max_font_size, change the maximum number of word and lighten the background:\n",
    "wordcloud = WordCloud(max_font_size=50, max_words=60, background_color=\"white\").generate(text)\n",
    "plt.figure()\n",
    "plt.imshow(wordcloud, interpolation=\"bilinear\")\n",
    "plt.axis(\"off\")\n",
    "plt.show()"
   ]
  },
  {
   "cell_type": "code",
   "execution_count": 83,
   "id": "b9853cd4-bd35-4cbc-babe-5ee45b4916fa",
   "metadata": {},
   "outputs": [
    {
     "ename": "FileNotFoundError",
     "evalue": "[Errno 2] No such file or directory: 'img/first_review.png'",
     "output_type": "error",
     "traceback": [
      "\u001b[0;31m---------------------------------------------------------------------------\u001b[0m",
      "\u001b[0;31mFileNotFoundError\u001b[0m                         Traceback (most recent call last)",
      "\u001b[0;32m/tmp/ipykernel_990/1996693104.py\u001b[0m in \u001b[0;36m<module>\u001b[0;34m\u001b[0m\n\u001b[1;32m      1\u001b[0m \u001b[0;31m# Save the image in the img folder:\u001b[0m\u001b[0;34m\u001b[0m\u001b[0;34m\u001b[0m\u001b[0m\n\u001b[0;32m----> 2\u001b[0;31m \u001b[0mwordcloud\u001b[0m\u001b[0;34m.\u001b[0m\u001b[0mto_file\u001b[0m\u001b[0;34m(\u001b[0m\u001b[0;34m\"img/first_review.png\"\u001b[0m\u001b[0;34m)\u001b[0m\u001b[0;34m\u001b[0m\u001b[0;34m\u001b[0m\u001b[0m\n\u001b[0m",
      "\u001b[0;32m/opt/conda/lib/python3.9/site-packages/wordcloud/wordcloud.py\u001b[0m in \u001b[0;36mto_file\u001b[0;34m(self, filename)\u001b[0m\n\u001b[1;32m    717\u001b[0m \u001b[0;34m\u001b[0m\u001b[0m\n\u001b[1;32m    718\u001b[0m         \u001b[0mimg\u001b[0m \u001b[0;34m=\u001b[0m \u001b[0mself\u001b[0m\u001b[0;34m.\u001b[0m\u001b[0mto_image\u001b[0m\u001b[0;34m(\u001b[0m\u001b[0;34m)\u001b[0m\u001b[0;34m\u001b[0m\u001b[0;34m\u001b[0m\u001b[0m\n\u001b[0;32m--> 719\u001b[0;31m         \u001b[0mimg\u001b[0m\u001b[0;34m.\u001b[0m\u001b[0msave\u001b[0m\u001b[0;34m(\u001b[0m\u001b[0mfilename\u001b[0m\u001b[0;34m,\u001b[0m \u001b[0moptimize\u001b[0m\u001b[0;34m=\u001b[0m\u001b[0;32mTrue\u001b[0m\u001b[0;34m)\u001b[0m\u001b[0;34m\u001b[0m\u001b[0;34m\u001b[0m\u001b[0m\n\u001b[0m\u001b[1;32m    720\u001b[0m         \u001b[0;32mreturn\u001b[0m \u001b[0mself\u001b[0m\u001b[0;34m\u001b[0m\u001b[0;34m\u001b[0m\u001b[0m\n\u001b[1;32m    721\u001b[0m \u001b[0;34m\u001b[0m\u001b[0m\n",
      "\u001b[0;32m/opt/conda/lib/python3.9/site-packages/PIL/Image.py\u001b[0m in \u001b[0;36msave\u001b[0;34m(self, fp, format, **params)\u001b[0m\n\u001b[1;32m   2230\u001b[0m                 \u001b[0mfp\u001b[0m \u001b[0;34m=\u001b[0m \u001b[0mbuiltins\u001b[0m\u001b[0;34m.\u001b[0m\u001b[0mopen\u001b[0m\u001b[0;34m(\u001b[0m\u001b[0mfilename\u001b[0m\u001b[0;34m,\u001b[0m \u001b[0;34m\"r+b\"\u001b[0m\u001b[0;34m)\u001b[0m\u001b[0;34m\u001b[0m\u001b[0;34m\u001b[0m\u001b[0m\n\u001b[1;32m   2231\u001b[0m             \u001b[0;32melse\u001b[0m\u001b[0;34m:\u001b[0m\u001b[0;34m\u001b[0m\u001b[0;34m\u001b[0m\u001b[0m\n\u001b[0;32m-> 2232\u001b[0;31m                 \u001b[0mfp\u001b[0m \u001b[0;34m=\u001b[0m \u001b[0mbuiltins\u001b[0m\u001b[0;34m.\u001b[0m\u001b[0mopen\u001b[0m\u001b[0;34m(\u001b[0m\u001b[0mfilename\u001b[0m\u001b[0;34m,\u001b[0m \u001b[0;34m\"w+b\"\u001b[0m\u001b[0;34m)\u001b[0m\u001b[0;34m\u001b[0m\u001b[0;34m\u001b[0m\u001b[0m\n\u001b[0m\u001b[1;32m   2233\u001b[0m \u001b[0;34m\u001b[0m\u001b[0m\n\u001b[1;32m   2234\u001b[0m         \u001b[0;32mtry\u001b[0m\u001b[0;34m:\u001b[0m\u001b[0;34m\u001b[0m\u001b[0;34m\u001b[0m\u001b[0m\n",
      "\u001b[0;31mFileNotFoundError\u001b[0m: [Errno 2] No such file or directory: 'img/first_review.png'"
     ]
    }
   ],
   "source": [
    "# Save the image in the img folder:\n",
    "wordcloud.to_file(\"img/first_review.png\")"
   ]
  },
  {
   "cell_type": "markdown",
   "id": "095e4ca6-be20-4381-8e64-50042d06c04f",
   "metadata": {},
   "source": [
    "### Autre essai"
   ]
  },
  {
   "cell_type": "code",
   "execution_count": 85,
   "id": "463d2c50-5cb6-4139-b5e1-42452932739d",
   "metadata": {},
   "outputs": [
    {
     "data": {
      "text/plain": [
       "array([[[255, 255, 255, 255],\n",
       "        [255, 255, 255, 255],\n",
       "        [255, 255, 255, 255],\n",
       "        ...,\n",
       "        [255, 255, 255, 255],\n",
       "        [255, 255, 255, 255],\n",
       "        [255, 255, 255, 255]],\n",
       "\n",
       "       [[255, 255, 255, 255],\n",
       "        [255, 255, 255, 255],\n",
       "        [255, 255, 255, 255],\n",
       "        ...,\n",
       "        [255, 255, 255, 255],\n",
       "        [255, 255, 255, 255],\n",
       "        [255, 255, 255, 255]],\n",
       "\n",
       "       [[255, 255, 255, 255],\n",
       "        [255, 255, 255, 255],\n",
       "        [255, 255, 255, 255],\n",
       "        ...,\n",
       "        [255, 255, 255, 255],\n",
       "        [255, 255, 255, 255],\n",
       "        [255, 255, 255, 255]],\n",
       "\n",
       "       ...,\n",
       "\n",
       "       [[255, 255, 255, 255],\n",
       "        [255, 255, 255, 255],\n",
       "        [255, 255, 255, 255],\n",
       "        ...,\n",
       "        [255, 255, 255, 255],\n",
       "        [255, 255, 255, 255],\n",
       "        [255, 255, 255, 255]],\n",
       "\n",
       "       [[255, 255, 255, 255],\n",
       "        [255, 255, 255, 255],\n",
       "        [255, 255, 255, 255],\n",
       "        ...,\n",
       "        [255, 255, 255, 255],\n",
       "        [255, 255, 255, 255],\n",
       "        [255, 255, 255, 255]],\n",
       "\n",
       "       [[255, 255, 255, 255],\n",
       "        [255, 255, 255, 255],\n",
       "        [255, 255, 255, 255],\n",
       "        ...,\n",
       "        [255, 255, 255, 255],\n",
       "        [255, 255, 255, 255],\n",
       "        [255, 255, 255, 255]]], dtype=uint8)"
      ]
     },
     "execution_count": 85,
     "metadata": {},
     "output_type": "execute_result"
    }
   ],
   "source": [
    "mask = np.array(Image.open(\"img:mask.png\"))\n",
    "mask"
   ]
  },
  {
   "cell_type": "code",
   "execution_count": null,
   "id": "cf2e56e2-f1f4-426c-a27f-d2b56cf34c3d",
   "metadata": {},
   "outputs": [],
   "source": []
  },
  {
   "cell_type": "code",
   "execution_count": null,
   "id": "96558a04-0cba-43e8-9a27-e85c6813f246",
   "metadata": {},
   "outputs": [],
   "source": []
  },
  {
   "cell_type": "code",
   "execution_count": null,
   "id": "4600dc51-ef7e-4d6b-a5c5-a6a7af26b8cb",
   "metadata": {},
   "outputs": [],
   "source": []
  },
  {
   "cell_type": "code",
   "execution_count": null,
   "id": "0d83427f-a2c9-4dd9-a133-5835a50313dc",
   "metadata": {},
   "outputs": [],
   "source": []
  },
  {
   "cell_type": "code",
   "execution_count": null,
   "id": "88224f1a-d9d9-4b20-b4c4-bf4c17b4e508",
   "metadata": {},
   "outputs": [],
   "source": []
  },
  {
   "cell_type": "code",
   "execution_count": null,
   "id": "ef25ebc5-1ce5-4d65-968a-ec7172781bc0",
   "metadata": {},
   "outputs": [],
   "source": []
  },
  {
   "cell_type": "code",
   "execution_count": null,
   "id": "4412b5b6-60a1-446c-9966-c8781f122d22",
   "metadata": {},
   "outputs": [],
   "source": []
  },
  {
   "cell_type": "code",
   "execution_count": null,
   "id": "47f339db-acda-4f74-8243-5eebe7764193",
   "metadata": {},
   "outputs": [],
   "source": []
  }
 ],
 "metadata": {
  "kernelspec": {
   "display_name": "Python 3 (ipykernel)",
   "language": "python",
   "name": "python3"
  },
  "language_info": {
   "codemirror_mode": {
    "name": "ipython",
    "version": 3
   },
   "file_extension": ".py",
   "mimetype": "text/x-python",
   "name": "python",
   "nbconvert_exporter": "python",
   "pygments_lexer": "ipython3",
   "version": "3.9.7"
  }
 },
 "nbformat": 4,
 "nbformat_minor": 5
}
