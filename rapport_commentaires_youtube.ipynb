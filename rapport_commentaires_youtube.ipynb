{
 "cells": [
  {
   "cell_type": "markdown",
   "id": "67aae7ba",
   "metadata": {},
   "source": [
    "# Analyse de commentaires YouTube"
   ]
  },
  {
   "cell_type": "markdown",
   "id": "62d00d13",
   "metadata": {},
   "source": [
    "Projet Python de deuxième année à l'ENSAE Paris.\n",
    "\n",
    "Antoine Lelong, Louisa Camadini, Yseult Masson"
   ]
  },
  {
   "cell_type": "markdown",
   "id": "9fc0199d",
   "metadata": {},
   "source": [
    "# Introduction"
   ]
  },
  {
   "cell_type": "markdown",
   "id": "96262ed1",
   "metadata": {},
   "source": [
    "Les commentaires postés sous les vidéos YouTube sont une source d'information, complémentaire avec les \"likes\", pour les créateurs de contenu. Ils permettent au vidéaste de déterminer si son travail a plu ou non à son audience. Cependant, les Youtubeurs n'ont pas nécessairement le temps de tous les lire. Il nous a donc semblé intéressant d'analyser ces commentaires informatiquement, plutôt que de les traiter un à un.\n",
    "\n",
    "Pour ce projet, nous nous sommes penchés sur la chaîne YouTube DirtyBiology, qui fait de la vulgarisation scientifique. Notre choix a été motivé par le fait que les commentaires sous de telles vidéos étaient à la fois nombreux (car la chaîne est relativement connue), constructifs (de par le contenu scientifique) et sans trop de fautes d'ortographes. Cela nous permettait d'avoir des données exploitables pour l'analyse que nous voulions en faire.\n",
    "\n",
    "Annonce du plan"
   ]
  },
  {
   "cell_type": "code",
   "execution_count": 14,
   "id": "acf30f8d",
   "metadata": {},
   "outputs": [
    {
     "name": "stderr",
     "output_type": "stream",
     "text": [
      "[nltk_data] Downloading package punkt to /home/jovyan/nltk_data...\n",
      "[nltk_data]   Package punkt is already up-to-date!\n"
     ]
    },
    {
     "data": {
      "text/plain": [
       "True"
      ]
     },
     "execution_count": 14,
     "metadata": {},
     "output_type": "execute_result"
    }
   ],
   "source": [
    "# Import des modules utiles\n",
    "\n",
    "from googleapiclient.discovery import build\n",
    "import os\n",
    "from dotenv import load_dotenv\n",
    "import pandas as pd\n",
    "import numpy as np\n",
    "import matplotlib.pyplot as plt\n",
    "from textblob import TextBlob\n",
    "from textblob_fr import PatternTagger, PatternAnalyzer\n",
    "import nltk\n",
    "nltk.download('punkt')"
   ]
  },
  {
   "cell_type": "code",
   "execution_count": 13,
   "id": "eb37faab-d5f5-4e9a-971e-38c025d5024c",
   "metadata": {},
   "outputs": [],
   "source": [
    "#!pip install --upgrade google-api-python-client\n",
    "#!pip install python-dotenv\n",
    "#!pip install textblob\n",
    "#!pip install textblob_fr"
   ]
  },
  {
   "cell_type": "markdown",
   "id": "ef65218e",
   "metadata": {},
   "source": [
    "# 1 - Webscraping, création et nettoyage de la base de données (Antoine)"
   ]
  },
  {
   "cell_type": "markdown",
   "id": "6f5e3a60",
   "metadata": {},
   "source": [
    "On met le code pour de webscrapping ici, mais à la fin de cette partie/au début de la suivante on importe la base qu'on utilise depuis de début, et on garde celle là pour la suite?"
   ]
  },
  {
   "cell_type": "markdown",
   "id": "df69afc9",
   "metadata": {},
   "source": [
    "On a récupéré les 100 comentaires les plus pertinents (avec le plus grand nombre de likes) de 20 vidéos de DirtyBiology."
   ]
  },
  {
   "cell_type": "markdown",
   "id": "fc0e932b",
   "metadata": {},
   "source": [
    "## 1.1 - Webscraping"
   ]
  },
  {
   "cell_type": "markdown",
   "id": "bda058cf",
   "metadata": {},
   "source": [
    "## 1.2 - Nettoyage de la base de données"
   ]
  },
  {
   "cell_type": "markdown",
   "id": "eeb273e8",
   "metadata": {},
   "source": [
    "# 2 - Analyse des commentaires"
   ]
  },
  {
   "cell_type": "markdown",
   "id": "4b10774c",
   "metadata": {},
   "source": [
    "Import de la base créée grâce au code de la partie 1: (mettre le chemin autrement)"
   ]
  },
  {
   "cell_type": "code",
   "execution_count": 2,
   "id": "e3a0213a",
   "metadata": {},
   "outputs": [
    {
     "name": "stdout",
     "output_type": "stream",
     "text": [
      "C:\\Users\\yseul\\Documents\\ENSAE\\2A\\Info\\projet-python-2a\n"
     ]
    }
   ],
   "source": [
    "cd C:\\Users\\yseul\\Documents\\ENSAE\\2A\\Info\\projet-python-2a\\"
   ]
  },
  {
   "cell_type": "code",
   "execution_count": 15,
   "id": "ab4d6eba",
   "metadata": {},
   "outputs": [],
   "source": [
    "data = pd.read_csv(\"comments.csv\")"
   ]
  },
  {
   "cell_type": "markdown",
   "id": "ddddc445",
   "metadata": {},
   "source": [
    "## 2.1 - Thèmes majoritairement abordés dans les commentaires (Louisa)"
   ]
  },
  {
   "cell_type": "code",
   "execution_count": null,
   "id": "b3688b3c-afdc-4639-847a-da8e3d2b09b7",
   "metadata": {},
   "outputs": [],
   "source": [
    "# Installations nécessaires \n",
    "\n",
    "#!pip install nltk\n",
    "#!pip install pywaffle\n",
    "#conda install -c conda-forge wordcloud"
   ]
  },
  {
   "cell_type": "code",
   "execution_count": 16,
   "id": "67ddd81d-f0a1-40ec-a774-ffa7173c5914",
   "metadata": {},
   "outputs": [],
   "source": [
    "# Import des modules\n",
    "\n",
    "import numpy as np\n",
    "import pandas as pd\n",
    "import seaborn as sns\n",
    "import matplotlib.pyplot as plt\n",
    "from wordcloud import WordCloud\n",
    "import base64\n",
    "import string\n",
    "import re\n",
    "import nltk\n",
    "\n",
    "from collections import Counter\n",
    "from time import time\n",
    "# from sklearn.feature_extraction.stop_words import ENGLISH_STOP_WORDS as stopwords\n",
    "from sklearn.metrics import log_loss\n",
    "import matplotlib.pyplot as plt\n",
    "#!pip install pywaffle\n",
    "from pywaffle import Waffle\n",
    "\n",
    "from nltk.stem import WordNetLemmatizer\n",
    "from sklearn.feature_extraction.text import TfidfVectorizer, CountVectorizer\n",
    "from sklearn.decomposition import NMF, LatentDirichletAllocation"
   ]
  },
  {
   "cell_type": "code",
   "execution_count": 17,
   "id": "e9585d6b-6ee6-4d83-bc3d-5a08bfe38b08",
   "metadata": {},
   "outputs": [
    {
     "name": "stderr",
     "output_type": "stream",
     "text": [
      "[nltk_data] Downloading package stopwords to /home/jovyan/nltk_data...\n",
      "[nltk_data]   Package stopwords is already up-to-date!\n"
     ]
    },
    {
     "data": {
      "text/plain": [
       "True"
      ]
     },
     "execution_count": 17,
     "metadata": {},
     "output_type": "execute_result"
    }
   ],
   "source": [
    "nltk.download('stopwords')"
   ]
  },
  {
   "cell_type": "code",
   "execution_count": 18,
   "id": "599df3ea-2e76-4d21-bc85-4468caf9d43c",
   "metadata": {},
   "outputs": [
    {
     "name": "stderr",
     "output_type": "stream",
     "text": [
      "[nltk_data] Downloading package punkt to /home/jovyan/nltk_data...\n",
      "[nltk_data]   Package punkt is already up-to-date!\n"
     ]
    },
    {
     "data": {
      "text/plain": [
       "True"
      ]
     },
     "execution_count": 18,
     "metadata": {},
     "output_type": "execute_result"
    }
   ],
   "source": [
    "nltk.download('punkt')"
   ]
  },
  {
   "cell_type": "code",
   "execution_count": 19,
   "id": "4570a5d2-61ed-46c0-9bf6-a000ea07a995",
   "metadata": {},
   "outputs": [
    {
     "name": "stderr",
     "output_type": "stream",
     "text": [
      "[nltk_data] Downloading package genesis to /home/jovyan/nltk_data...\n",
      "[nltk_data]   Package genesis is already up-to-date!\n"
     ]
    },
    {
     "data": {
      "text/plain": [
       "True"
      ]
     },
     "execution_count": 19,
     "metadata": {},
     "output_type": "execute_result"
    }
   ],
   "source": [
    "nltk.download('genesis')"
   ]
  },
  {
   "cell_type": "code",
   "execution_count": 20,
   "id": "c24f98cc-952b-45b0-af72-15ac6fecfbae",
   "metadata": {},
   "outputs": [
    {
     "name": "stderr",
     "output_type": "stream",
     "text": [
      "[nltk_data] Downloading package wordnet to /home/jovyan/nltk_data...\n",
      "[nltk_data]   Package wordnet is already up-to-date!\n"
     ]
    },
    {
     "data": {
      "text/plain": [
       "True"
      ]
     },
     "execution_count": 20,
     "metadata": {},
     "output_type": "execute_result"
    }
   ],
   "source": [
    "nltk.download('wordnet')"
   ]
  },
  {
   "cell_type": "code",
   "execution_count": 21,
   "id": "cde010dc-3ab5-4bbb-a168-9657298413f2",
   "metadata": {},
   "outputs": [
    {
     "data": {
      "text/html": [
       "<div>\n",
       "<style scoped>\n",
       "    .dataframe tbody tr th:only-of-type {\n",
       "        vertical-align: middle;\n",
       "    }\n",
       "\n",
       "    .dataframe tbody tr th {\n",
       "        vertical-align: top;\n",
       "    }\n",
       "\n",
       "    .dataframe thead th {\n",
       "        text-align: right;\n",
       "    }\n",
       "</style>\n",
       "<table border=\"1\" class=\"dataframe\">\n",
       "  <thead>\n",
       "    <tr style=\"text-align: right;\">\n",
       "      <th></th>\n",
       "      <th>videoId</th>\n",
       "      <th>textDisplay</th>\n",
       "      <th>textOriginal</th>\n",
       "      <th>authorDisplayName</th>\n",
       "      <th>authorProfileImageUrl</th>\n",
       "      <th>authorChannelUrl</th>\n",
       "      <th>authorChannelId</th>\n",
       "      <th>canRate</th>\n",
       "      <th>viewerRating</th>\n",
       "      <th>publishedAt</th>\n",
       "      <th>updatedAt</th>\n",
       "      <th>commentLikeCount</th>\n",
       "      <th>viewCount</th>\n",
       "      <th>commentCount</th>\n",
       "      <th>videoLikeCount</th>\n",
       "      <th>videoTitle</th>\n",
       "      <th>videoDate</th>\n",
       "      <th>textClean</th>\n",
       "    </tr>\n",
       "  </thead>\n",
       "  <tbody>\n",
       "    <tr>\n",
       "      <th>0</th>\n",
       "      <td>8Y-ObRQk5TA</td>\n",
       "      <td>Qui d&amp;#39;autre veut la vidéo de 10h en mode t...</td>\n",
       "      <td>Qui d autre veut la vidéo de 10h en mode top 5...</td>\n",
       "      <td>Victorin Demange</td>\n",
       "      <td>https://yt3.ggpht.com/ytc/AKedOLRM36O43sCehBU5...</td>\n",
       "      <td>http://www.youtube.com/channel/UCqj3nApyBpfWW0...</td>\n",
       "      <td>UCqj3nApyBpfWW0zuVTxfRXw</td>\n",
       "      <td>True</td>\n",
       "      <td>none</td>\n",
       "      <td>2021-12-12T13:16:45Z</td>\n",
       "      <td>2021-12-13T14:19:23Z</td>\n",
       "      <td>1060</td>\n",
       "      <td>378580</td>\n",
       "      <td>767</td>\n",
       "      <td>35255</td>\n",
       "      <td>Pourquoi l&amp;#39;évolution se répète en boucle -...</td>\n",
       "      <td>2021-12-12T13:00:37Z</td>\n",
       "      <td>qui d'autre veut la vidéo de 10h en mode top 5...</td>\n",
       "    </tr>\n",
       "    <tr>\n",
       "      <th>1</th>\n",
       "      <td>8Y-ObRQk5TA</td>\n",
       "      <td>Un ASMR de 10h sur des exemples d&amp;#39;évolutio...</td>\n",
       "      <td>Un ASMR de 10h sur des exemples d évolutions c...</td>\n",
       "      <td>Terry Anouilh</td>\n",
       "      <td>https://yt3.ggpht.com/ytc/AKedOLTWe1mt7NByzkUT...</td>\n",
       "      <td>http://www.youtube.com/channel/UCn5G6QaD5w_TCO...</td>\n",
       "      <td>UCn5G6QaD5w_TCODclVbKENQ</td>\n",
       "      <td>True</td>\n",
       "      <td>none</td>\n",
       "      <td>2021-12-12T14:21:48Z</td>\n",
       "      <td>2021-12-12T14:21:48Z</td>\n",
       "      <td>409</td>\n",
       "      <td>378580</td>\n",
       "      <td>767</td>\n",
       "      <td>35255</td>\n",
       "      <td>Pourquoi l&amp;#39;évolution se répète en boucle -...</td>\n",
       "      <td>2021-12-12T13:00:37Z</td>\n",
       "      <td>un asmr de 10h sur des exemples d'évolutions c...</td>\n",
       "    </tr>\n",
       "    <tr>\n",
       "      <th>2</th>\n",
       "      <td>8Y-ObRQk5TA</td>\n",
       "      <td>toujours un plaisir ces vidéos</td>\n",
       "      <td>toujours un plaisir ces vidéos</td>\n",
       "      <td>Dark</td>\n",
       "      <td>https://yt3.ggpht.com/Cv3SNTMi0KHR4x3goJUK7VlR...</td>\n",
       "      <td>http://www.youtube.com/channel/UC6hZ64RB21tnY-...</td>\n",
       "      <td>UC6hZ64RB21tnY-M7jfguuzg</td>\n",
       "      <td>True</td>\n",
       "      <td>none</td>\n",
       "      <td>2021-12-13T07:11:21Z</td>\n",
       "      <td>2021-12-13T07:11:21Z</td>\n",
       "      <td>110</td>\n",
       "      <td>378580</td>\n",
       "      <td>767</td>\n",
       "      <td>35255</td>\n",
       "      <td>Pourquoi l&amp;#39;évolution se répète en boucle -...</td>\n",
       "      <td>2021-12-12T13:00:37Z</td>\n",
       "      <td>toujours un plaisir ces vidéos</td>\n",
       "    </tr>\n",
       "    <tr>\n",
       "      <th>3</th>\n",
       "      <td>8Y-ObRQk5TA</td>\n",
       "      <td>Nickel j&amp;#39;avais exactement 15 min à perdre ...</td>\n",
       "      <td>Nickel j avais exactement 15 min à perdre à 14...</td>\n",
       "      <td>Salade Furtive</td>\n",
       "      <td>https://yt3.ggpht.com/ytc/AKedOLSEBH5bF4sYCTD0...</td>\n",
       "      <td>http://www.youtube.com/channel/UCsBjmNhPIpw9y4...</td>\n",
       "      <td>UCsBjmNhPIpw9y4menljVAXw</td>\n",
       "      <td>True</td>\n",
       "      <td>none</td>\n",
       "      <td>2021-12-12T13:03:48Z</td>\n",
       "      <td>2021-12-12T13:03:48Z</td>\n",
       "      <td>464</td>\n",
       "      <td>378580</td>\n",
       "      <td>767</td>\n",
       "      <td>35255</td>\n",
       "      <td>Pourquoi l&amp;#39;évolution se répète en boucle -...</td>\n",
       "      <td>2021-12-12T13:00:37Z</td>\n",
       "      <td>nickel j'avais exactement 15 min à perdre à 14...</td>\n",
       "    </tr>\n",
       "    <tr>\n",
       "      <th>4</th>\n",
       "      <td>8Y-ObRQk5TA</td>\n",
       "      <td>Je suis en première année de licence de bio et...</td>\n",
       "      <td>Je suis en première année de licence de bio et...</td>\n",
       "      <td>Amélie 18290</td>\n",
       "      <td>https://yt3.ggpht.com/ytc/AKedOLTVVya6P2ld2fj2...</td>\n",
       "      <td>http://www.youtube.com/channel/UCUeYZGxv_AgSYJ...</td>\n",
       "      <td>UCUeYZGxv_AgSYJltQiThiXA</td>\n",
       "      <td>True</td>\n",
       "      <td>none</td>\n",
       "      <td>2021-12-12T23:06:39Z</td>\n",
       "      <td>2021-12-12T23:06:39Z</td>\n",
       "      <td>83</td>\n",
       "      <td>378580</td>\n",
       "      <td>767</td>\n",
       "      <td>35255</td>\n",
       "      <td>Pourquoi l&amp;#39;évolution se répète en boucle -...</td>\n",
       "      <td>2021-12-12T13:00:37Z</td>\n",
       "      <td>je suis en première année de licence de bio et...</td>\n",
       "    </tr>\n",
       "  </tbody>\n",
       "</table>\n",
       "</div>"
      ],
      "text/plain": [
       "       videoId                                        textDisplay  \\\n",
       "0  8Y-ObRQk5TA  Qui d&#39;autre veut la vidéo de 10h en mode t...   \n",
       "1  8Y-ObRQk5TA  Un ASMR de 10h sur des exemples d&#39;évolutio...   \n",
       "2  8Y-ObRQk5TA                     toujours un plaisir ces vidéos   \n",
       "3  8Y-ObRQk5TA  Nickel j&#39;avais exactement 15 min à perdre ...   \n",
       "4  8Y-ObRQk5TA  Je suis en première année de licence de bio et...   \n",
       "\n",
       "                                        textOriginal authorDisplayName  \\\n",
       "0  Qui d autre veut la vidéo de 10h en mode top 5...  Victorin Demange   \n",
       "1  Un ASMR de 10h sur des exemples d évolutions c...     Terry Anouilh   \n",
       "2                     toujours un plaisir ces vidéos              Dark   \n",
       "3  Nickel j avais exactement 15 min à perdre à 14...    Salade Furtive   \n",
       "4  Je suis en première année de licence de bio et...      Amélie 18290   \n",
       "\n",
       "                               authorProfileImageUrl  \\\n",
       "0  https://yt3.ggpht.com/ytc/AKedOLRM36O43sCehBU5...   \n",
       "1  https://yt3.ggpht.com/ytc/AKedOLTWe1mt7NByzkUT...   \n",
       "2  https://yt3.ggpht.com/Cv3SNTMi0KHR4x3goJUK7VlR...   \n",
       "3  https://yt3.ggpht.com/ytc/AKedOLSEBH5bF4sYCTD0...   \n",
       "4  https://yt3.ggpht.com/ytc/AKedOLTVVya6P2ld2fj2...   \n",
       "\n",
       "                                    authorChannelUrl  \\\n",
       "0  http://www.youtube.com/channel/UCqj3nApyBpfWW0...   \n",
       "1  http://www.youtube.com/channel/UCn5G6QaD5w_TCO...   \n",
       "2  http://www.youtube.com/channel/UC6hZ64RB21tnY-...   \n",
       "3  http://www.youtube.com/channel/UCsBjmNhPIpw9y4...   \n",
       "4  http://www.youtube.com/channel/UCUeYZGxv_AgSYJ...   \n",
       "\n",
       "            authorChannelId  canRate viewerRating           publishedAt  \\\n",
       "0  UCqj3nApyBpfWW0zuVTxfRXw     True         none  2021-12-12T13:16:45Z   \n",
       "1  UCn5G6QaD5w_TCODclVbKENQ     True         none  2021-12-12T14:21:48Z   \n",
       "2  UC6hZ64RB21tnY-M7jfguuzg     True         none  2021-12-13T07:11:21Z   \n",
       "3  UCsBjmNhPIpw9y4menljVAXw     True         none  2021-12-12T13:03:48Z   \n",
       "4  UCUeYZGxv_AgSYJltQiThiXA     True         none  2021-12-12T23:06:39Z   \n",
       "\n",
       "              updatedAt  commentLikeCount  viewCount  commentCount  \\\n",
       "0  2021-12-13T14:19:23Z              1060     378580           767   \n",
       "1  2021-12-12T14:21:48Z               409     378580           767   \n",
       "2  2021-12-13T07:11:21Z               110     378580           767   \n",
       "3  2021-12-12T13:03:48Z               464     378580           767   \n",
       "4  2021-12-12T23:06:39Z                83     378580           767   \n",
       "\n",
       "   videoLikeCount                                         videoTitle  \\\n",
       "0           35255  Pourquoi l&#39;évolution se répète en boucle -...   \n",
       "1           35255  Pourquoi l&#39;évolution se répète en boucle -...   \n",
       "2           35255  Pourquoi l&#39;évolution se répète en boucle -...   \n",
       "3           35255  Pourquoi l&#39;évolution se répète en boucle -...   \n",
       "4           35255  Pourquoi l&#39;évolution se répète en boucle -...   \n",
       "\n",
       "              videoDate                                          textClean  \n",
       "0  2021-12-12T13:00:37Z  qui d'autre veut la vidéo de 10h en mode top 5...  \n",
       "1  2021-12-12T13:00:37Z  un asmr de 10h sur des exemples d'évolutions c...  \n",
       "2  2021-12-12T13:00:37Z                     toujours un plaisir ces vidéos  \n",
       "3  2021-12-12T13:00:37Z  nickel j'avais exactement 15 min à perdre à 14...  \n",
       "4  2021-12-12T13:00:37Z  je suis en première année de licence de bio et...  "
      ]
     },
     "execution_count": 21,
     "metadata": {},
     "output_type": "execute_result"
    }
   ],
   "source": [
    "df = data # (pd.read_csv(\"comments.csv\"))\n",
    "df['textOriginal'] = df['textOriginal'].str.replace(\"\\n\" , \"  \")\n",
    "df['textOriginal'] = df['textOriginal'].str.replace(\"\\'\", \" \")\n",
    "#df.head()"
   ]
  },
  {
   "cell_type": "markdown",
   "id": "21584305-8683-4500-87a9-534e02c8a01d",
   "metadata": {},
   "source": [
    "### Tokenisation"
   ]
  },
  {
   "cell_type": "markdown",
   "id": "be232413-9a39-4047-a0ce-aeb9edaa127c",
   "metadata": {},
   "source": [
    "On voit que l'on va s'intéresser ici à la colonne 'textOriginal'. Chaque ligne du dataframe représente un commentaire. L'ensemble de ces lignes, c'est-à-dire tous les commentaires, correspondent donc à notre texte d'étude. Il s'agit tout d'abord de décomposer le texte en unités lexicales."
   ]
  },
  {
   "cell_type": "code",
   "execution_count": 22,
   "id": "b64c4aa0-14db-440c-bb78-13b605a28b70",
   "metadata": {},
   "outputs": [
    {
     "data": {
      "text/plain": [
       "str"
      ]
     },
     "execution_count": 22,
     "metadata": {},
     "output_type": "execute_result"
    }
   ],
   "source": [
    "dumas = \" \".join(df['textOriginal'])\n",
    "type(dumas)"
   ]
  },
  {
   "cell_type": "markdown",
   "id": "35dee2a1-5793-4158-ae81-685fc6a80d40",
   "metadata": {},
   "source": [
    "Il faut d'abord nettoyer le texte, ce qui signifie le diviser en mots, gérer la ponctuation et la casse."
   ]
  },
  {
   "cell_type": "code",
   "execution_count": 31,
   "id": "657c0426-55c6-4d32-ab71-9db893d720be",
   "metadata": {},
   "outputs": [],
   "source": [
    "import re\n",
    "\n",
    "def clean_text(text):\n",
    "    text = text.lower() # mettre les mots en minuscule\n",
    "    text = \" \".join(text.split())\n",
    "    return text\n",
    "\n",
    "dumas = clean_text(dumas)"
   ]
  },
  {
   "cell_type": "code",
   "execution_count": 32,
   "id": "d6bf0081-f695-4776-bcc7-6cc03ebfb6e4",
   "metadata": {},
   "outputs": [
    {
     "data": {
      "text/plain": [
       "57831"
      ]
     },
     "execution_count": 32,
     "metadata": {},
     "output_type": "execute_result"
    }
   ],
   "source": [
    "words = nltk.word_tokenize(dumas, language='french')\n",
    "#words[1030:1050]\n",
    "len(words)"
   ]
  },
  {
   "cell_type": "markdown",
   "id": "8efec424-619b-417e-a354-01c7f52c5e46",
   "metadata": {},
   "source": [
    "La texte a bien été décomposé en 'tokens', mais ce ne sont pas tous des mots : certains peuvent être des signes de ponctuation, des smileys... \n",
    "La méthode isalpha() renvoie \"True\" si tous les caractères de la chaîne sont des alphabets, sinon, elle renvoie \"False\".  Cette fonction est utilisée pour vérifier si l'argument ne comprend que des caractères alphabétiques (mentionnés ci-dessous). \n"
   ]
  },
  {
   "cell_type": "code",
   "execution_count": 33,
   "id": "6752a3be-d381-42fa-b59d-630ba98ab485",
   "metadata": {},
   "outputs": [
    {
     "data": {
      "text/plain": [
       "48813"
      ]
     },
     "execution_count": 33,
     "metadata": {},
     "output_type": "execute_result"
    }
   ],
   "source": [
    "words = [word for word in words if word.isalpha()]\n",
    "#words[1030:1050]\n",
    "len(words)"
   ]
  },
  {
   "cell_type": "markdown",
   "id": "6543be82-2d73-402e-bf7d-cd47f6397421",
   "metadata": {},
   "source": [
    "De plus, certains mots comme les déterminnats, pronoms, sont répétitifs et inutiles à l'analyse du texte. On supprime donc ce qu'on appelle les 'stopwords' :"
   ]
  },
  {
   "cell_type": "code",
   "execution_count": null,
   "id": "01d0c789-5994-4db1-859e-729f88eaa388",
   "metadata": {},
   "outputs": [],
   "source": [
    "from nltk.corpus import stopwords\n",
    "#print(stopwords.words(\"french\"))"
   ]
  },
  {
   "cell_type": "code",
   "execution_count": null,
   "id": "2df8fa25-c784-43e0-82b4-2f31e10ecc23",
   "metadata": {},
   "outputs": [],
   "source": [
    "stop_words = set(stopwords.words('french'))\n",
    "\n",
    "words = [w for w in words if not w in stop_words]\n",
    "print(words[1030:1050])"
   ]
  },
  {
   "cell_type": "code",
   "execution_count": null,
   "id": "5d945e69-83fa-463b-93fc-e2d26c9b05c6",
   "metadata": {},
   "outputs": [],
   "source": []
  },
  {
   "cell_type": "code",
   "execution_count": null,
   "id": "bda53589-9036-43f2-9333-207d03eb18c6",
   "metadata": {},
   "outputs": [],
   "source": []
  },
  {
   "cell_type": "code",
   "execution_count": null,
   "id": "75bc29eb-aed8-407d-bb33-270d5a3b60c4",
   "metadata": {},
   "outputs": [],
   "source": []
  },
  {
   "cell_type": "code",
   "execution_count": null,
   "id": "988bfe4e-e50e-485f-9ec4-f2f4bd84ead1",
   "metadata": {},
   "outputs": [],
   "source": []
  },
  {
   "cell_type": "code",
   "execution_count": null,
   "id": "3bd885be-590c-47ea-9b9e-2c11c59828e8",
   "metadata": {},
   "outputs": [],
   "source": []
  },
  {
   "cell_type": "markdown",
   "id": "3e9a7700",
   "metadata": {},
   "source": [
    "## 2.2 - Polarisation des commentaires (Yseult)"
   ]
  },
  {
   "cell_type": "markdown",
   "id": "3a12c325",
   "metadata": {},
   "source": [
    "### 2.2.1 - Calcul de polarités"
   ]
  },
  {
   "cell_type": "markdown",
   "id": "2c23ebfb",
   "metadata": {},
   "source": [
    "Le module TextBlob est un module python de NLP utilisé pour l'analyse de sentiments et qui permet, entre autres, de calculer la polarité d'un texte. Celle-ci est définie par un nombre entre -1 et 1, et détermine le degré de satisfaction ou d'insatisfaction qui se dégage du texte. Plus la polaritée est proche de 1, plus le texte dégage un sentiment positif, et vice-versa.\n",
    "\n",
    "Nous avons calculé la polarité de chaque commentaire de deux façons. Nous avons d'une part appliqué directement la fonction du module TextBlob qui nous intéresse au commentaire. D'autre part, nous avons découpé chaque commentaire en phrases, avant d'appliquer à chacune de celles-ci la fonction qui renvoie leur polarisation, puis d'en faire la moyenne sur toutes les phrases du commentaire."
   ]
  },
  {
   "cell_type": "code",
   "execution_count": 4,
   "id": "debfe433",
   "metadata": {},
   "outputs": [],
   "source": [
    "def blober(text: str) -> float:\n",
    "    '''\n",
    "    Calcule la polarité d'un texte.\n",
    "    \n",
    "    Paramètres : \n",
    "    ----------\n",
    "    text : str\n",
    "        texte dont on veut mesurer la polarité\n",
    "        \n",
    "    Sortie :\n",
    "    ----------\n",
    "    float\n",
    "        polarisation : score entre -1 et 1.\n",
    "        Plus le score est proche de 1, plus le commentaire est positif.\n",
    "        Plus il est proche de -1, plus le commentaire est négatif.\n",
    "    '''\n",
    "    return TextBlob(text, pos_tagger=PatternTagger(), analyzer=PatternAnalyzer()).sentiment[0]\n",
    "\n",
    "blober = np.vectorize(blober)\n",
    "\n",
    "def sentences(comment: str) -> list:\n",
    "    '''\n",
    "    Découpe un texte en phrases.\n",
    "    \n",
    "    Paramètres : \n",
    "    ----------\n",
    "    comment : str\n",
    "        texte dont on veut extraire les phrases\n",
    "        \n",
    "    Sortie :\n",
    "    ----------\n",
    "    list[str]\n",
    "        liste des phrases du texte\n",
    "    '''\n",
    "    tokenizer = nltk.data.load('tokenizers/punkt/french.pickle')\n",
    "    return tokenizer.tokenize(comment)\n",
    "\n",
    "def polarisation(comment: str) -> float:\n",
    "    '''\n",
    "    Calcule la polarisation d'un commentaire en calculant d'abord la polarisation de chacune de ses \n",
    "    phrases et en en faisant la moyenne\n",
    "    \n",
    "    Paramètres : \n",
    "    ----------\n",
    "    comment : str\n",
    "        texte dont on veut la polarisation\n",
    "        \n",
    "    Sortie :\n",
    "    ----------\n",
    "    float\n",
    "        moyenne des polarisations des phrases du texte\n",
    "    '''\n",
    "    s = sentences(comment)\n",
    "    return np.mean(blober(s))\n",
    "\n",
    "polarisation = np.vectorize(polarisation)"
   ]
  },
  {
   "cell_type": "markdown",
   "id": "5a944bcb",
   "metadata": {},
   "source": [
    "Nous avons ensuite ajouté 2 nouvelles colonnes à la base de données:\n",
    "\n",
    "   - Polarity : polarité de chaque commentaire, calculée sur le commentaire entier directement\n",
    "    \n",
    "   - sentencesPolarity : polarité de chaque commentaire, calculée en prenant la moyenne des polarités sur chaque phrase que comporte le commentaire."
   ]
  },
  {
   "cell_type": "code",
   "execution_count": 5,
   "id": "2759595a",
   "metadata": {},
   "outputs": [],
   "source": [
    "data[\"Polarity\"] = data.loc[:,['textClean']].apply(blober)\n",
    "data[\"sentencesPolarity\"] = data.loc[:,['textClean']].apply(polarisation)"
   ]
  },
  {
   "cell_type": "markdown",
   "id": "d8d5bd33",
   "metadata": {},
   "source": [
    "Création d'une colonne de numéros des vidéos (ici ou partie 1)"
   ]
  },
  {
   "cell_type": "code",
   "execution_count": 6,
   "id": "04af02a6",
   "metadata": {},
   "outputs": [],
   "source": [
    "data['DBY'] = data.loc[:,['videoTitle']].apply(np.vectorize(lambda string : string[-7:]))"
   ]
  },
  {
   "cell_type": "markdown",
   "id": "a3f2ddac",
   "metadata": {},
   "source": [
    "### 2.2.2 Analyse des polarités"
   ]
  },
  {
   "cell_type": "markdown",
   "id": "79d6d31a",
   "metadata": {},
   "source": [
    "Nous avons ensuite fait la moyenne des polarités sur les 100 commentaires de chaque vidéo, ce qui nous permet de comparer les vidéos entre elles."
   ]
  },
  {
   "cell_type": "code",
   "execution_count": 12,
   "id": "ea9c4895",
   "metadata": {},
   "outputs": [
    {
     "data": {
      "text/html": [
       "<div>\n",
       "<style scoped>\n",
       "    .dataframe tbody tr th:only-of-type {\n",
       "        vertical-align: middle;\n",
       "    }\n",
       "\n",
       "    .dataframe tbody tr th {\n",
       "        vertical-align: top;\n",
       "    }\n",
       "\n",
       "    .dataframe thead th {\n",
       "        text-align: right;\n",
       "    }\n",
       "</style>\n",
       "<table border=\"1\" class=\"dataframe\">\n",
       "  <thead>\n",
       "    <tr style=\"text-align: right;\">\n",
       "      <th></th>\n",
       "      <th>videoLikeCount</th>\n",
       "      <th>Polarity</th>\n",
       "      <th>sentencesPolarity</th>\n",
       "    </tr>\n",
       "    <tr>\n",
       "      <th>DBY</th>\n",
       "      <th></th>\n",
       "      <th></th>\n",
       "      <th></th>\n",
       "    </tr>\n",
       "  </thead>\n",
       "  <tbody>\n",
       "    <tr>\n",
       "      <th>DBY #81</th>\n",
       "      <td>39998.0</td>\n",
       "      <td>0.388586</td>\n",
       "      <td>0.316646</td>\n",
       "    </tr>\n",
       "    <tr>\n",
       "      <th>DBY #72</th>\n",
       "      <td>87868.0</td>\n",
       "      <td>0.388143</td>\n",
       "      <td>0.366431</td>\n",
       "    </tr>\n",
       "    <tr>\n",
       "      <th>DBY #74</th>\n",
       "      <td>50077.0</td>\n",
       "      <td>0.371328</td>\n",
       "      <td>0.315428</td>\n",
       "    </tr>\n",
       "    <tr>\n",
       "      <th>DBY#84</th>\n",
       "      <td>49319.0</td>\n",
       "      <td>0.346526</td>\n",
       "      <td>0.290913</td>\n",
       "    </tr>\n",
       "    <tr>\n",
       "      <th>DBY #80</th>\n",
       "      <td>42331.0</td>\n",
       "      <td>0.344769</td>\n",
       "      <td>0.317818</td>\n",
       "    </tr>\n",
       "    <tr>\n",
       "      <th>DBY #76</th>\n",
       "      <td>47048.0</td>\n",
       "      <td>0.344403</td>\n",
       "      <td>0.299452</td>\n",
       "    </tr>\n",
       "    <tr>\n",
       "      <th>DBY #75</th>\n",
       "      <td>76945.0</td>\n",
       "      <td>0.339257</td>\n",
       "      <td>0.321685</td>\n",
       "    </tr>\n",
       "    <tr>\n",
       "      <th>DBY #82</th>\n",
       "      <td>45975.0</td>\n",
       "      <td>0.324370</td>\n",
       "      <td>0.287537</td>\n",
       "    </tr>\n",
       "    <tr>\n",
       "      <th>DBY #69</th>\n",
       "      <td>75458.0</td>\n",
       "      <td>0.320576</td>\n",
       "      <td>0.290094</td>\n",
       "    </tr>\n",
       "    <tr>\n",
       "      <th>DBY #77</th>\n",
       "      <td>62455.0</td>\n",
       "      <td>0.307622</td>\n",
       "      <td>0.273148</td>\n",
       "    </tr>\n",
       "    <tr>\n",
       "      <th>DBY #83</th>\n",
       "      <td>48891.0</td>\n",
       "      <td>0.301446</td>\n",
       "      <td>0.290385</td>\n",
       "    </tr>\n",
       "    <tr>\n",
       "      <th>DBY #70</th>\n",
       "      <td>100755.0</td>\n",
       "      <td>0.297198</td>\n",
       "      <td>0.253022</td>\n",
       "    </tr>\n",
       "    <tr>\n",
       "      <th>DBY #68</th>\n",
       "      <td>95735.0</td>\n",
       "      <td>0.292227</td>\n",
       "      <td>0.260381</td>\n",
       "    </tr>\n",
       "    <tr>\n",
       "      <th>DBY #79</th>\n",
       "      <td>86777.0</td>\n",
       "      <td>0.292015</td>\n",
       "      <td>0.248394</td>\n",
       "    </tr>\n",
       "    <tr>\n",
       "      <th>DBY #71</th>\n",
       "      <td>75105.0</td>\n",
       "      <td>0.289989</td>\n",
       "      <td>0.267783</td>\n",
       "    </tr>\n",
       "    <tr>\n",
       "      <th>DBY #67</th>\n",
       "      <td>100552.0</td>\n",
       "      <td>0.284478</td>\n",
       "      <td>0.261503</td>\n",
       "    </tr>\n",
       "    <tr>\n",
       "      <th>DBY #78</th>\n",
       "      <td>54068.0</td>\n",
       "      <td>0.276883</td>\n",
       "      <td>0.257082</td>\n",
       "    </tr>\n",
       "    <tr>\n",
       "      <th>DBY #86</th>\n",
       "      <td>35255.0</td>\n",
       "      <td>0.268408</td>\n",
       "      <td>0.224362</td>\n",
       "    </tr>\n",
       "    <tr>\n",
       "      <th>DBY #85</th>\n",
       "      <td>55679.0</td>\n",
       "      <td>0.249636</td>\n",
       "      <td>0.202323</td>\n",
       "    </tr>\n",
       "    <tr>\n",
       "      <th>DBY #73</th>\n",
       "      <td>64504.0</td>\n",
       "      <td>0.245916</td>\n",
       "      <td>0.227706</td>\n",
       "    </tr>\n",
       "  </tbody>\n",
       "</table>\n",
       "</div>"
      ],
      "text/plain": [
       "         videoLikeCount  Polarity  sentencesPolarity\n",
       "DBY                                                 \n",
       "DBY #81         39998.0  0.388586           0.316646\n",
       "DBY #72         87868.0  0.388143           0.366431\n",
       "DBY #74         50077.0  0.371328           0.315428\n",
       " DBY#84         49319.0  0.346526           0.290913\n",
       "DBY #80         42331.0  0.344769           0.317818\n",
       "DBY #76         47048.0  0.344403           0.299452\n",
       "DBY #75         76945.0  0.339257           0.321685\n",
       "DBY #82         45975.0  0.324370           0.287537\n",
       "DBY #69         75458.0  0.320576           0.290094\n",
       "DBY #77         62455.0  0.307622           0.273148\n",
       "DBY #83         48891.0  0.301446           0.290385\n",
       "DBY #70        100755.0  0.297198           0.253022\n",
       "DBY #68         95735.0  0.292227           0.260381\n",
       "DBY #79         86777.0  0.292015           0.248394\n",
       "DBY #71         75105.0  0.289989           0.267783\n",
       "DBY #67        100552.0  0.284478           0.261503\n",
       "DBY #78         54068.0  0.276883           0.257082\n",
       "DBY #86         35255.0  0.268408           0.224362\n",
       "DBY #85         55679.0  0.249636           0.202323\n",
       "DBY #73         64504.0  0.245916           0.227706"
      ]
     },
     "execution_count": 12,
     "metadata": {},
     "output_type": "execute_result"
    }
   ],
   "source": [
    "datapol = data.groupby(['DBY']).mean().sort_values('Polarity', ascending = False)\n",
    "datapol.loc[:, ['videoLikeCount', 'Polarity', 'sentencesPolarity']]"
   ]
  },
  {
   "cell_type": "markdown",
   "id": "3cd0c8f0",
   "metadata": {},
   "source": [
    "Tout d'abord, nous avons cherché à savoir si les résultats de polarisation restaient cohérents entre les deux méthodes utilisées."
   ]
  },
  {
   "cell_type": "code",
   "execution_count": 14,
   "id": "d4e3f162",
   "metadata": {},
   "outputs": [
    {
     "data": {
      "image/png": "[encoded data removed]",
      "text/plain": [
       "<Figure size 792x504 with 1 Axes>"
      ]
     },
     "metadata": {
      "needs_background": "light"
     },
     "output_type": "display_data"
    }
   ],
   "source": [
    "datapol.loc[:,['Polarity','sentencesPolarity']].plot(kind = 'barh', figsize = (11, 7), color = ['lightblue', 'green'], title = 'Comparaison entre polarité sur les commentaires entiers et polarité sur les phrases des commentaires', xlabel = 'Episode de DirtyBiology')\n",
    "plt.legend(labels = ['Polarité : Commentaires entiers', 'Polarité : Phrases prises une à une'])\n",
    "plt.show()"
   ]
  },
  {
   "cell_type": "markdown",
   "id": "464dd9dc",
   "metadata": {},
   "source": [
    "L'ordre des vidéos change un peu selon la définition que l'on utilise pour la polarité, mais les deux définitions semblent tout de même corrélées (globalement, la polarité prise sur chaque phrase augmente avec celle prise sur le commentaire entier).\n",
    "\n",
    "Dans la suite, on garde la polarité sur le commentaire entier."
   ]
  },
  {
   "cell_type": "markdown",
   "id": "a3ef228b",
   "metadata": {},
   "source": [
    "La polarité est un témoin du succès qu'a eu une vidéo. On cherche à présent à la comparer à un autre marqueur de ce succès, à savoir le ratio de \"likes\" qu'à reçu une vidéo par rapport à son nombre de vues."
   ]
  },
  {
   "cell_type": "code",
   "execution_count": 9,
   "id": "7bf0cee4",
   "metadata": {},
   "outputs": [
    {
     "data": {
      "image/png": "[encoded data removed]",
      "text/plain": [
       "<Figure size 432x360 with 1 Axes>"
      ]
     },
     "metadata": {
      "needs_background": "light"
     },
     "output_type": "display_data"
    }
   ],
   "source": [
    "datapol['likeRatio'] = datapol.loc[:,'videoLikeCount'].divide(datapol.loc[:,'viewCount'])\n",
    "datapol.plot(kind = 'scatter', x = 'Polarity', y = 'likeRatio',figsize = (6, 5), marker = 'd', xlabel = 'Polarité', ylabel = 'Ratio de \\\"likes\\\" par rapport au nombre de vues', title = 'Corrélation entre la polarité et le nombre de \\\"likes\\\" d\\'une vidéo')\n",
    "plt.show()"
   ]
  },
  {
   "cell_type": "markdown",
   "id": "0276aadd",
   "metadata": {},
   "source": [
    "Il semble ne pas y avoir de corrélation entre ces deux marqueurs. Cela peut être dû au fait que la polarisation ne soit pas très précise, ou que les personnes qui commentent les vidéos n'aient pas le même profil que ceux qui se contentent de \"liker\"."
   ]
  },
  {
   "cell_type": "markdown",
   "id": "c7a77610",
   "metadata": {},
   "source": [
    "## 2.3 - Sentence Transformer (Antoine)"
   ]
  }
 ],
 "metadata": {
  "kernelspec": {
   "display_name": "Python 3 (ipykernel)",
   "language": "python",
   "name": "python3"
  },
  "language_info": {
   "codemirror_mode": {
    "name": "ipython",
    "version": 3
   },
   "file_extension": ".py",
   "mimetype": "text/x-python",
   "name": "python",
   "nbconvert_exporter": "python",
   "pygments_lexer": "ipython3",
   "version": "3.9.7"
  }
 },
 "nbformat": 4,
 "nbformat_minor": 5
}
