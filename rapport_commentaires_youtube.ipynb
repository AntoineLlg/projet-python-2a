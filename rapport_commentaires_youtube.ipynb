{
 "cells": [
  {
   "cell_type": "markdown",
   "id": "9c3e5805",
   "metadata": {},
   "source": [
    "# Analyse de commentaires YouTube"
   ]
  },
  {
   "cell_type": "markdown",
   "id": "056b8786",
   "metadata": {},
   "source": [
    "Projet Python de deuxième année à l'ENSAE Paris.\n",
    "\n",
    "Antoine Lelong, Louisa Camadini, Yseult Masson"
   ]
  },
  {
   "cell_type": "markdown",
   "id": "42a44447",
   "metadata": {},
   "source": [
    "# Introduction"
   ]
  },
  {
   "cell_type": "markdown",
   "id": "c4e19eda",
   "metadata": {},
   "source": [
    "Les commentaires postés sous les vidéos YouTube sont une source d'information, complémentaire avec les \"likes\", pour les créateurs de contenu. Ils permettent au vidéaste de déterminer si son travail a plu ou non à son audience. Cependant, les Youtubeurs n'ont pas nécessairement le temps de tous les lire. Il nous a donc semblé intéressant d'analyser ces commentaires informatiquement, plutôt que de les traiter un à un.\n",
    "\n",
    "Pour ce projet, nous nous sommes penchés sur la chaîne YouTube DirtyBiology, qui fait de la vulgarisation scientifique. Notre choix a été motivé par le fait que les commentaires sous de telles vidéos étaient à la fois nombreux (car la chaîne est relativement connue), constructifs (de par le contenu scientifique) et sans trop de fautes d'ortographes. Cela nous permettait d'avoir des données exploitables pour l'analyse que nous voulions en faire."
   ]
  },
  {
   "cell_type": "code",
   "execution_count": 1,
   "id": "f37cc698",
   "metadata": {},
   "outputs": [],
   "source": [
    "#!pip install -r requirements.txt"
   ]
  },
  {
   "cell_type": "code",
   "execution_count": 2,
   "id": "290f977f",
   "metadata": {},
   "outputs": [],
   "source": [
    "# Import des modules utiles\n",
    "\n",
    "import pandas as pd\n",
    "import numpy as np\n",
    "import matplotlib.pyplot as plt"
   ]
  },
  {
   "cell_type": "markdown",
   "id": "eda8cc61",
   "metadata": {},
   "source": [
    "# 1 - Webscraping, création et nettoyage de la base de données (Antoine)"
   ]
  },
  {
   "cell_type": "markdown",
   "id": "945df210",
   "metadata": {},
   "source": [
    "## 1.1 - Webscraping"
   ]
  },
  {
   "cell_type": "markdown",
   "id": "c1314369",
   "metadata": {},
   "source": [
    "Dans un premier temps, nous avons utilisé [l'API YouTube Data](https://developers.google.com/youtube/v3), qui nous permet de récupérer les 100 commentaires les plus \"pertinents\" d'une vidéo, sur jusqu'à 20 vidéos différentes, constituant ainsi une base de données de 2000 commentaires, ainsi que quelques données supplémentaires, comme le nombre de likes, le nom d'utilisateur...  \n",
    "Le script scraper.py va chercher ces données et les stocke dans le fichier comments.csv  \n",
    "Les API Google fonctionnent avec des clés d'identification confidentielles, qui n'apparaissent par conséquent pas dans le dépot github. Pour faire fonctionner le script correctement, il faut créer un fichier s'apppelant \".env\" et y placer la ligne suivante :  \n",
    "`APIKEY=\"identifiant_de_la_clé\"`  \n",
    "Sinon, le fichier comments.csv que nous avons constitué est, lui, disponible dans le dépot."
   ]
  },
  {
   "cell_type": "code",
   "execution_count": 3,
   "id": "4956dd89",
   "metadata": {},
   "outputs": [],
   "source": [
    "#!python scraper.py"
   ]
  },
  {
   "cell_type": "markdown",
   "id": "f8e0423b",
   "metadata": {},
   "source": [
    "## 1.2 - Nettoyage de la base de données"
   ]
  },
  {
   "cell_type": "markdown",
   "id": "f35e2a7b",
   "metadata": {},
   "source": [
    "Le script cleaning est prépare les commentaires aux applications des autres parties, en retirant les majuscules, sauts de lignes..."
   ]
  },
  {
   "cell_type": "code",
   "execution_count": 4,
   "id": "d0d98aaa",
   "metadata": {},
   "outputs": [],
   "source": [
    "#!python cleaning.py"
   ]
  },
  {
   "cell_type": "code",
   "execution_count": 5,
   "id": "3bf59d99",
   "metadata": {},
   "outputs": [
    {
     "data": {
      "text/html": [
       "<div>\n",
       "<style scoped>\n",
       "    .dataframe tbody tr th:only-of-type {\n",
       "        vertical-align: middle;\n",
       "    }\n",
       "\n",
       "    .dataframe tbody tr th {\n",
       "        vertical-align: top;\n",
       "    }\n",
       "\n",
       "    .dataframe thead th {\n",
       "        text-align: right;\n",
       "    }\n",
       "</style>\n",
       "<table border=\"1\" class=\"dataframe\">\n",
       "  <thead>\n",
       "    <tr style=\"text-align: right;\">\n",
       "      <th></th>\n",
       "      <th>videoId</th>\n",
       "      <th>textDisplay</th>\n",
       "      <th>textOriginal</th>\n",
       "      <th>authorDisplayName</th>\n",
       "      <th>authorProfileImageUrl</th>\n",
       "      <th>authorChannelUrl</th>\n",
       "      <th>authorChannelId</th>\n",
       "      <th>canRate</th>\n",
       "      <th>viewerRating</th>\n",
       "      <th>publishedAt</th>\n",
       "      <th>updatedAt</th>\n",
       "      <th>commentLikeCount</th>\n",
       "      <th>viewCount</th>\n",
       "      <th>commentCount</th>\n",
       "      <th>videoLikeCount</th>\n",
       "      <th>videoTitle</th>\n",
       "      <th>videoDate</th>\n",
       "      <th>textClean</th>\n",
       "    </tr>\n",
       "  </thead>\n",
       "  <tbody>\n",
       "    <tr>\n",
       "      <th>0</th>\n",
       "      <td>EfH0oscLFhk</td>\n",
       "      <td>Du coup peut on dire qu’on a encore plus de ch...</td>\n",
       "      <td>Du coup peut on dire qu’on a encore plus de ch...</td>\n",
       "      <td>Minx</td>\n",
       "      <td>https://yt3.ggpht.com/ytc/AKedOLQAMtKSrCPfkjfg...</td>\n",
       "      <td>http://www.youtube.com/channel/UCm1YdSnO2Y7vuw...</td>\n",
       "      <td>UCm1YdSnO2Y7vuwTr6yTKwAw</td>\n",
       "      <td>True</td>\n",
       "      <td>none</td>\n",
       "      <td>2022-01-01T17:22:33Z</td>\n",
       "      <td>2022-01-01T17:22:33Z</td>\n",
       "      <td>1023</td>\n",
       "      <td>388701</td>\n",
       "      <td>849</td>\n",
       "      <td>34914</td>\n",
       "      <td>La vie est-elle un (gros) coup de chance ? - D...</td>\n",
       "      <td>2022-01-01T17:18:55Z</td>\n",
       "      <td>du coup peut on dire qu’on a encore plus de ch...</td>\n",
       "    </tr>\n",
       "    <tr>\n",
       "      <th>1</th>\n",
       "      <td>EfH0oscLFhk</td>\n",
       "      <td>J&amp;#39;ai eu ton livre à Noël, il est incroyabl...</td>\n",
       "      <td>J'ai eu ton livre à Noël, il est incroyable, m...</td>\n",
       "      <td>Maxime '</td>\n",
       "      <td>https://yt3.ggpht.com/ytc/AKedOLRol_dSsQ7cG04a...</td>\n",
       "      <td>http://www.youtube.com/channel/UCeoRNNIN1PVzIh...</td>\n",
       "      <td>UCeoRNNIN1PVzIhhoxhSDv6g</td>\n",
       "      <td>True</td>\n",
       "      <td>none</td>\n",
       "      <td>2022-01-01T17:24:31Z</td>\n",
       "      <td>2022-01-01T17:24:31Z</td>\n",
       "      <td>364</td>\n",
       "      <td>388701</td>\n",
       "      <td>849</td>\n",
       "      <td>34914</td>\n",
       "      <td>La vie est-elle un (gros) coup de chance ? - D...</td>\n",
       "      <td>2022-01-01T17:18:55Z</td>\n",
       "      <td>j'ai eu ton livre à noël, il est incroyable, m...</td>\n",
       "    </tr>\n",
       "    <tr>\n",
       "      <th>2</th>\n",
       "      <td>EfH0oscLFhk</td>\n",
       "      <td>Ton livre a Noël, meilleur cadeau ! Merci 😊</td>\n",
       "      <td>Ton livre a Noël, meilleur cadeau ! Merci 😊</td>\n",
       "      <td>Light</td>\n",
       "      <td>https://yt3.ggpht.com/8Z5CHat3_hAP1fIOHdEasFFD...</td>\n",
       "      <td>http://www.youtube.com/channel/UCdg5gH0YGsCA3T...</td>\n",
       "      <td>UCdg5gH0YGsCA3ThvnFE4jUw</td>\n",
       "      <td>True</td>\n",
       "      <td>none</td>\n",
       "      <td>2022-01-03T12:12:39Z</td>\n",
       "      <td>2022-01-03T12:12:39Z</td>\n",
       "      <td>9</td>\n",
       "      <td>388701</td>\n",
       "      <td>849</td>\n",
       "      <td>34914</td>\n",
       "      <td>La vie est-elle un (gros) coup de chance ? - D...</td>\n",
       "      <td>2022-01-01T17:18:55Z</td>\n",
       "      <td>ton livre a noël, meilleur cadeau ! merci 😊</td>\n",
       "    </tr>\n",
       "  </tbody>\n",
       "</table>\n",
       "</div>"
      ],
      "text/plain": [
       "       videoId                                        textDisplay  \\\n",
       "0  EfH0oscLFhk  Du coup peut on dire qu’on a encore plus de ch...   \n",
       "1  EfH0oscLFhk  J&#39;ai eu ton livre à Noël, il est incroyabl...   \n",
       "2  EfH0oscLFhk        Ton livre a Noël, meilleur cadeau ! Merci 😊   \n",
       "\n",
       "                                        textOriginal authorDisplayName  \\\n",
       "0  Du coup peut on dire qu’on a encore plus de ch...              Minx   \n",
       "1  J'ai eu ton livre à Noël, il est incroyable, m...          Maxime '   \n",
       "2        Ton livre a Noël, meilleur cadeau ! Merci 😊             Light   \n",
       "\n",
       "                               authorProfileImageUrl  \\\n",
       "0  https://yt3.ggpht.com/ytc/AKedOLQAMtKSrCPfkjfg...   \n",
       "1  https://yt3.ggpht.com/ytc/AKedOLRol_dSsQ7cG04a...   \n",
       "2  https://yt3.ggpht.com/8Z5CHat3_hAP1fIOHdEasFFD...   \n",
       "\n",
       "                                    authorChannelUrl  \\\n",
       "0  http://www.youtube.com/channel/UCm1YdSnO2Y7vuw...   \n",
       "1  http://www.youtube.com/channel/UCeoRNNIN1PVzIh...   \n",
       "2  http://www.youtube.com/channel/UCdg5gH0YGsCA3T...   \n",
       "\n",
       "            authorChannelId  canRate viewerRating           publishedAt  \\\n",
       "0  UCm1YdSnO2Y7vuwTr6yTKwAw     True         none  2022-01-01T17:22:33Z   \n",
       "1  UCeoRNNIN1PVzIhhoxhSDv6g     True         none  2022-01-01T17:24:31Z   \n",
       "2  UCdg5gH0YGsCA3ThvnFE4jUw     True         none  2022-01-03T12:12:39Z   \n",
       "\n",
       "              updatedAt  commentLikeCount  viewCount  commentCount  \\\n",
       "0  2022-01-01T17:22:33Z              1023     388701           849   \n",
       "1  2022-01-01T17:24:31Z               364     388701           849   \n",
       "2  2022-01-03T12:12:39Z                 9     388701           849   \n",
       "\n",
       "   videoLikeCount                                         videoTitle  \\\n",
       "0           34914  La vie est-elle un (gros) coup de chance ? - D...   \n",
       "1           34914  La vie est-elle un (gros) coup de chance ? - D...   \n",
       "2           34914  La vie est-elle un (gros) coup de chance ? - D...   \n",
       "\n",
       "              videoDate                                          textClean  \n",
       "0  2022-01-01T17:18:55Z  du coup peut on dire qu’on a encore plus de ch...  \n",
       "1  2022-01-01T17:18:55Z  j'ai eu ton livre à noël, il est incroyable, m...  \n",
       "2  2022-01-01T17:18:55Z        ton livre a noël, meilleur cadeau ! merci 😊  "
      ]
     },
     "execution_count": 5,
     "metadata": {},
     "output_type": "execute_result"
    }
   ],
   "source": [
    "data = pd.read_csv(\"comments.csv\")\n",
    "data.head(3)"
   ]
  },
  {
   "cell_type": "markdown",
   "id": "adf65751",
   "metadata": {},
   "source": [
    "# 2 - Analyse des commentaires\n",
    "## 2.1 - Analyse exploratoire quantitative"
   ]
  },
  {
   "cell_type": "markdown",
   "id": "4248fcfc",
   "metadata": {},
   "source": [
    "Par simplicité, on remplace les identifiants de vidéo par des numéros dans l'ordre de publication (1 pour la plus ancienne, 20 pour la dernière)"
   ]
  },
  {
   "cell_type": "code",
   "execution_count": 6,
   "id": "b3bd9e2b",
   "metadata": {},
   "outputs": [
    {
     "data": {
      "text/html": [
       "<div>\n",
       "<style scoped>\n",
       "    .dataframe tbody tr th:only-of-type {\n",
       "        vertical-align: middle;\n",
       "    }\n",
       "\n",
       "    .dataframe tbody tr th {\n",
       "        vertical-align: top;\n",
       "    }\n",
       "\n",
       "    .dataframe thead th {\n",
       "        text-align: right;\n",
       "    }\n",
       "</style>\n",
       "<table border=\"1\" class=\"dataframe\">\n",
       "  <thead>\n",
       "    <tr style=\"text-align: right;\">\n",
       "      <th></th>\n",
       "      <th>videoId</th>\n",
       "      <th>textDisplay</th>\n",
       "      <th>textOriginal</th>\n",
       "      <th>authorDisplayName</th>\n",
       "      <th>authorProfileImageUrl</th>\n",
       "      <th>authorChannelUrl</th>\n",
       "      <th>authorChannelId</th>\n",
       "      <th>canRate</th>\n",
       "      <th>viewerRating</th>\n",
       "      <th>publishedAt</th>\n",
       "      <th>updatedAt</th>\n",
       "      <th>commentLikeCount</th>\n",
       "      <th>viewCount</th>\n",
       "      <th>commentCount</th>\n",
       "      <th>videoLikeCount</th>\n",
       "      <th>videoTitle</th>\n",
       "      <th>videoDate</th>\n",
       "      <th>textClean</th>\n",
       "    </tr>\n",
       "  </thead>\n",
       "  <tbody>\n",
       "    <tr>\n",
       "      <th>1140</th>\n",
       "      <td>9</td>\n",
       "      <td>C’est passionnant ! 🍻 &lt;br&gt;Et cela explique en ...</td>\n",
       "      <td>C’est passionnant ! 🍻 \\nEt cela explique en pa...</td>\n",
       "      <td>G Badiano</td>\n",
       "      <td>https://yt3.ggpht.com/ytc/AKedOLSiKMvy_eF-KkzW...</td>\n",
       "      <td>http://www.youtube.com/channel/UCRK9dB4Nr-ck_Y...</td>\n",
       "      <td>UCRK9dB4Nr-ck_YpoarXyZ2g</td>\n",
       "      <td>True</td>\n",
       "      <td>none</td>\n",
       "      <td>2021-03-10T04:39:39Z</td>\n",
       "      <td>2021-03-10T04:39:39Z</td>\n",
       "      <td>0</td>\n",
       "      <td>564417</td>\n",
       "      <td>1894</td>\n",
       "      <td>47151</td>\n",
       "      <td>Comment ces champis nous ont façonnés - DBY #76</td>\n",
       "      <td>2021-03-09T11:01:25Z</td>\n",
       "      <td>c’est passionnant ! 🍻 \\net cela explique en pa...</td>\n",
       "    </tr>\n",
       "    <tr>\n",
       "      <th>1414</th>\n",
       "      <td>6</td>\n",
       "      <td>Message pour le monteur: C&amp;#39;est tellement p...</td>\n",
       "      <td>Message pour le monteur: C'est tellement propr...</td>\n",
       "      <td>Furious</td>\n",
       "      <td>https://yt3.ggpht.com/ytc/AKedOLRXpv8xcWAONa43...</td>\n",
       "      <td>http://www.youtube.com/channel/UCa9yN-UuKN5wc3...</td>\n",
       "      <td>UCa9yN-UuKN5wc3aRFpNXoaQ</td>\n",
       "      <td>True</td>\n",
       "      <td>none</td>\n",
       "      <td>2020-11-25T11:21:41Z</td>\n",
       "      <td>2020-11-25T11:21:41Z</td>\n",
       "      <td>244</td>\n",
       "      <td>705307</td>\n",
       "      <td>3259</td>\n",
       "      <td>64616</td>\n",
       "      <td>Ce virus nous manipule ? - DBY #73</td>\n",
       "      <td>2020-11-25T11:07:28Z</td>\n",
       "      <td>message pour le monteur: c'est tellement propr...</td>\n",
       "    </tr>\n",
       "    <tr>\n",
       "      <th>74</th>\n",
       "      <td>20</td>\n",
       "      <td>très intéressant comme double vidéo 👍</td>\n",
       "      <td>très intéressant comme double vidéo 👍</td>\n",
       "      <td>Sauwk</td>\n",
       "      <td>https://yt3.ggpht.com/ytc/AKedOLRzeVoQxaBlnSdT...</td>\n",
       "      <td>http://www.youtube.com/channel/UCLaykGiAyGiI33...</td>\n",
       "      <td>UCLaykGiAyGiI33Ofb7EaypA</td>\n",
       "      <td>True</td>\n",
       "      <td>none</td>\n",
       "      <td>2022-01-01T18:08:23Z</td>\n",
       "      <td>2022-01-01T18:08:23Z</td>\n",
       "      <td>0</td>\n",
       "      <td>388701</td>\n",
       "      <td>849</td>\n",
       "      <td>34914</td>\n",
       "      <td>La vie est-elle un (gros) coup de chance ? - D...</td>\n",
       "      <td>2022-01-01T17:18:55Z</td>\n",
       "      <td>très intéressant comme double vidéo 👍</td>\n",
       "    </tr>\n",
       "    <tr>\n",
       "      <th>325</th>\n",
       "      <td>17</td>\n",
       "      <td>Le montage de tes vidéos &amp;lt;3 c&amp;#39;est de l&amp;...</td>\n",
       "      <td>Le montage de tes vidéos &lt;3 c'est de l'art, et...</td>\n",
       "      <td>Christophe Guérin</td>\n",
       "      <td>https://yt3.ggpht.com/ytc/AKedOLQ764Fgf6915ZEh...</td>\n",
       "      <td>http://www.youtube.com/channel/UCU-kHQnP9QXojN...</td>\n",
       "      <td>UCU-kHQnP9QXojNAFmt1R1PQ</td>\n",
       "      <td>True</td>\n",
       "      <td>none</td>\n",
       "      <td>2021-10-16T11:33:23Z</td>\n",
       "      <td>2021-10-16T11:33:23Z</td>\n",
       "      <td>1</td>\n",
       "      <td>586535</td>\n",
       "      <td>1267</td>\n",
       "      <td>49600</td>\n",
       "      <td>La méthode pour ressusciter des espèces dispar...</td>\n",
       "      <td>2021-10-09T15:41:15Z</td>\n",
       "      <td>le montage de tes vidéos &lt;3 c'est de l'art, et...</td>\n",
       "    </tr>\n",
       "  </tbody>\n",
       "</table>\n",
       "</div>"
      ],
      "text/plain": [
       "      videoId                                        textDisplay  \\\n",
       "1140        9  C’est passionnant ! 🍻 <br>Et cela explique en ...   \n",
       "1414        6  Message pour le monteur: C&#39;est tellement p...   \n",
       "74         20              très intéressant comme double vidéo 👍   \n",
       "325        17  Le montage de tes vidéos &lt;3 c&#39;est de l&...   \n",
       "\n",
       "                                           textOriginal  authorDisplayName  \\\n",
       "1140  C’est passionnant ! 🍻 \\nEt cela explique en pa...          G Badiano   \n",
       "1414  Message pour le monteur: C'est tellement propr...            Furious   \n",
       "74                très intéressant comme double vidéo 👍              Sauwk   \n",
       "325   Le montage de tes vidéos <3 c'est de l'art, et...  Christophe Guérin   \n",
       "\n",
       "                                  authorProfileImageUrl  \\\n",
       "1140  https://yt3.ggpht.com/ytc/AKedOLSiKMvy_eF-KkzW...   \n",
       "1414  https://yt3.ggpht.com/ytc/AKedOLRXpv8xcWAONa43...   \n",
       "74    https://yt3.ggpht.com/ytc/AKedOLRzeVoQxaBlnSdT...   \n",
       "325   https://yt3.ggpht.com/ytc/AKedOLQ764Fgf6915ZEh...   \n",
       "\n",
       "                                       authorChannelUrl  \\\n",
       "1140  http://www.youtube.com/channel/UCRK9dB4Nr-ck_Y...   \n",
       "1414  http://www.youtube.com/channel/UCa9yN-UuKN5wc3...   \n",
       "74    http://www.youtube.com/channel/UCLaykGiAyGiI33...   \n",
       "325   http://www.youtube.com/channel/UCU-kHQnP9QXojN...   \n",
       "\n",
       "               authorChannelId  canRate viewerRating           publishedAt  \\\n",
       "1140  UCRK9dB4Nr-ck_YpoarXyZ2g     True         none  2021-03-10T04:39:39Z   \n",
       "1414  UCa9yN-UuKN5wc3aRFpNXoaQ     True         none  2020-11-25T11:21:41Z   \n",
       "74    UCLaykGiAyGiI33Ofb7EaypA     True         none  2022-01-01T18:08:23Z   \n",
       "325   UCU-kHQnP9QXojNAFmt1R1PQ     True         none  2021-10-16T11:33:23Z   \n",
       "\n",
       "                 updatedAt  commentLikeCount  viewCount  commentCount  \\\n",
       "1140  2021-03-10T04:39:39Z                 0     564417          1894   \n",
       "1414  2020-11-25T11:21:41Z               244     705307          3259   \n",
       "74    2022-01-01T18:08:23Z                 0     388701           849   \n",
       "325   2021-10-16T11:33:23Z                 1     586535          1267   \n",
       "\n",
       "      videoLikeCount                                         videoTitle  \\\n",
       "1140           47151    Comment ces champis nous ont façonnés - DBY #76   \n",
       "1414           64616                 Ce virus nous manipule ? - DBY #73   \n",
       "74             34914  La vie est-elle un (gros) coup de chance ? - D...   \n",
       "325            49600  La méthode pour ressusciter des espèces dispar...   \n",
       "\n",
       "                 videoDate                                          textClean  \n",
       "1140  2021-03-09T11:01:25Z  c’est passionnant ! 🍻 \\net cela explique en pa...  \n",
       "1414  2020-11-25T11:07:28Z  message pour le monteur: c'est tellement propr...  \n",
       "74    2022-01-01T17:18:55Z              très intéressant comme double vidéo 👍  \n",
       "325   2021-10-09T15:41:15Z  le montage de tes vidéos <3 c'est de l'art, et...  "
      ]
     },
     "execution_count": 6,
     "metadata": {},
     "output_type": "execute_result"
    }
   ],
   "source": [
    "dico = {data.videoId.unique()[i] : 20- i for i in range(len(data.videoId.unique()))}\n",
    "data['videoId']=data['videoId'].replace(to_replace=dico)\n",
    "data.sample(4)"
   ]
  },
  {
   "cell_type": "markdown",
   "id": "36870de3",
   "metadata": {},
   "source": [
    "Certaines données caractérisent la vidéo et non le commentaire, on les récupère dans une autre DataFrame. Elles sont égales sur une vidéo, donc égales à leur max sur ces groupes :"
   ]
  },
  {
   "cell_type": "code",
   "execution_count": 7,
   "id": "b9bf5df8",
   "metadata": {},
   "outputs": [
    {
     "data": {
      "text/html": [
       "<div>\n",
       "<style scoped>\n",
       "    .dataframe tbody tr th:only-of-type {\n",
       "        vertical-align: middle;\n",
       "    }\n",
       "\n",
       "    .dataframe tbody tr th {\n",
       "        vertical-align: top;\n",
       "    }\n",
       "\n",
       "    .dataframe thead th {\n",
       "        text-align: right;\n",
       "    }\n",
       "</style>\n",
       "<table border=\"1\" class=\"dataframe\">\n",
       "  <thead>\n",
       "    <tr style=\"text-align: right;\">\n",
       "      <th></th>\n",
       "      <th>viewCount</th>\n",
       "      <th>commentCount</th>\n",
       "      <th>videoLikeCount</th>\n",
       "      <th>videoDate</th>\n",
       "      <th>likePerView</th>\n",
       "      <th>Engagement</th>\n",
       "    </tr>\n",
       "    <tr>\n",
       "      <th>videoId</th>\n",
       "      <th></th>\n",
       "      <th></th>\n",
       "      <th></th>\n",
       "      <th></th>\n",
       "      <th></th>\n",
       "      <th></th>\n",
       "    </tr>\n",
       "  </thead>\n",
       "  <tbody>\n",
       "    <tr>\n",
       "      <th>18</th>\n",
       "      <td>793269</td>\n",
       "      <td>2551</td>\n",
       "      <td>55911</td>\n",
       "      <td>2021-11-01T13:40:00Z</td>\n",
       "      <td>0.070482</td>\n",
       "      <td>0.003216</td>\n",
       "    </tr>\n",
       "    <tr>\n",
       "      <th>19</th>\n",
       "      <td>418526</td>\n",
       "      <td>795</td>\n",
       "      <td>37787</td>\n",
       "      <td>2021-12-12T13:00:37Z</td>\n",
       "      <td>0.090286</td>\n",
       "      <td>0.001900</td>\n",
       "    </tr>\n",
       "    <tr>\n",
       "      <th>20</th>\n",
       "      <td>388701</td>\n",
       "      <td>849</td>\n",
       "      <td>34914</td>\n",
       "      <td>2022-01-01T17:18:55Z</td>\n",
       "      <td>0.089822</td>\n",
       "      <td>0.002184</td>\n",
       "    </tr>\n",
       "  </tbody>\n",
       "</table>\n",
       "</div>"
      ],
      "text/plain": [
       "         viewCount  commentCount  videoLikeCount             videoDate  \\\n",
       "videoId                                                                  \n",
       "18          793269          2551           55911  2021-11-01T13:40:00Z   \n",
       "19          418526           795           37787  2021-12-12T13:00:37Z   \n",
       "20          388701           849           34914  2022-01-01T17:18:55Z   \n",
       "\n",
       "         likePerView  Engagement  \n",
       "videoId                           \n",
       "18          0.070482    0.003216  \n",
       "19          0.090286    0.001900  \n",
       "20          0.089822    0.002184  "
      ]
     },
     "execution_count": 7,
     "metadata": {},
     "output_type": "execute_result"
    }
   ],
   "source": [
    "info_video = data.groupby('videoId')[['viewCount', 'commentCount', 'videoLikeCount','videoDate']].max()\n",
    "info_video['likePerView'] = info_video['videoLikeCount']/info_video['viewCount']\n",
    "info_video['Engagement'] = info_video['commentCount']/info_video['viewCount']\n",
    "info_video.tail(3)"
   ]
  },
  {
   "cell_type": "markdown",
   "id": "68afe2bf",
   "metadata": {},
   "source": [
    "On crée une variable correspondant au nombre de mois entre la publication de la vidéo et celle de la dernière vidéo de la base de données :"
   ]
  },
  {
   "cell_type": "code",
   "execution_count": 8,
   "id": "3dff357d",
   "metadata": {},
   "outputs": [
    {
     "data": {
      "text/html": [
       "<div>\n",
       "<style scoped>\n",
       "    .dataframe tbody tr th:only-of-type {\n",
       "        vertical-align: middle;\n",
       "    }\n",
       "\n",
       "    .dataframe tbody tr th {\n",
       "        vertical-align: top;\n",
       "    }\n",
       "\n",
       "    .dataframe thead th {\n",
       "        text-align: right;\n",
       "    }\n",
       "</style>\n",
       "<table border=\"1\" class=\"dataframe\">\n",
       "  <thead>\n",
       "    <tr style=\"text-align: right;\">\n",
       "      <th></th>\n",
       "      <th>viewCount</th>\n",
       "      <th>commentCount</th>\n",
       "      <th>videoLikeCount</th>\n",
       "      <th>videoDate</th>\n",
       "      <th>likePerView</th>\n",
       "      <th>Engagement</th>\n",
       "      <th>ancienneté</th>\n",
       "    </tr>\n",
       "    <tr>\n",
       "      <th>videoId</th>\n",
       "      <th></th>\n",
       "      <th></th>\n",
       "      <th></th>\n",
       "      <th></th>\n",
       "      <th></th>\n",
       "      <th></th>\n",
       "      <th></th>\n",
       "    </tr>\n",
       "  </thead>\n",
       "  <tbody>\n",
       "    <tr>\n",
       "      <th>1</th>\n",
       "      <td>1409977</td>\n",
       "      <td>3674</td>\n",
       "      <td>95877</td>\n",
       "      <td>2020-04-23T16:08:22Z</td>\n",
       "      <td>0.067999</td>\n",
       "      <td>0.002606</td>\n",
       "      <td>21</td>\n",
       "    </tr>\n",
       "    <tr>\n",
       "      <th>2</th>\n",
       "      <td>815210</td>\n",
       "      <td>3970</td>\n",
       "      <td>75556</td>\n",
       "      <td>2020-06-27T17:02:26Z</td>\n",
       "      <td>0.092683</td>\n",
       "      <td>0.004870</td>\n",
       "      <td>19</td>\n",
       "    </tr>\n",
       "    <tr>\n",
       "      <th>3</th>\n",
       "      <td>1229621</td>\n",
       "      <td>8193</td>\n",
       "      <td>100902</td>\n",
       "      <td>2020-07-23T10:58:44Z</td>\n",
       "      <td>0.082059</td>\n",
       "      <td>0.006663</td>\n",
       "      <td>18</td>\n",
       "    </tr>\n",
       "  </tbody>\n",
       "</table>\n",
       "</div>"
      ],
      "text/plain": [
       "         viewCount  commentCount  videoLikeCount             videoDate  \\\n",
       "videoId                                                                  \n",
       "1          1409977          3674           95877  2020-04-23T16:08:22Z   \n",
       "2           815210          3970           75556  2020-06-27T17:02:26Z   \n",
       "3          1229621          8193          100902  2020-07-23T10:58:44Z   \n",
       "\n",
       "         likePerView  Engagement  ancienneté  \n",
       "videoId                                       \n",
       "1           0.067999    0.002606          21  \n",
       "2           0.092683    0.004870          19  \n",
       "3           0.082059    0.006663          18  "
      ]
     },
     "execution_count": 8,
     "metadata": {},
     "output_type": "execute_result"
    }
   ],
   "source": [
    "nbr_mois = lambda date : 25 - (int(date[5:7])+12*int(date[3]))\n",
    "info_video['ancienneté'] = info_video.videoDate.apply(nbr_mois)\n",
    "info_video.head(3)"
   ]
  },
  {
   "cell_type": "code",
   "execution_count": 9,
   "id": "6405b1de",
   "metadata": {},
   "outputs": [
    {
     "name": "stderr",
     "output_type": "stream",
     "text": [
      "No artists with labels found to put in legend.  Note that artists whose label start with an underscore are ignored when legend() is called with no argument.\n"
     ]
    },
    {
     "data": {
      "image/png": "[encoded data removed]",
      "text/plain": [
       "<Figure size 1152x720 with 4 Axes>"
      ]
     },
     "metadata": {},
     "output_type": "display_data"
    }
   ],
   "source": [
    "from scipy.stats import linregress\n",
    "\n",
    "plt.style.use('seaborn')\n",
    "\n",
    "fig, axs = plt.subplots(2, 2, figsize=(16, 10))\n",
    "\n",
    "info_video.plot(y='likePerView', ax=axs[0][0], color='r')\n",
    "info_video.plot(y='Engagement', ax=axs[0][0], color='b')\n",
    "axs[0][0].axis([0,20,0,1])\n",
    "axs[0][0].set_title(\"Part d'engagement du public\")\n",
    "\n",
    "info_video.plot(y='likePerView', ax=axs[1][0], color='r')\n",
    "info_video.plot(y='Engagement', ax=axs[1][0], color='b')\n",
    "axs[1][0].set_title(\"Comparaison des proportions de like et commentaires\")\n",
    "\n",
    "info_video.plot(y='Engagement', ax=axs[0][1], color='b')\n",
    "axs[0][1].set_title(\"Variation de l'engagement par commentaires\")\n",
    "\n",
    "\n",
    "slope, intercept, r_value, p_value, std_err = linregress(x=info_video.ancienneté, y=info_video.Engagement)\n",
    "\n",
    "info_video.plot.scatter(x='ancienneté', y='Engagement', ax=axs[1][1])\n",
    "axs[1][1].plot(info_video.ancienneté, slope*info_video.ancienneté + intercept, color='c')\n",
    "axs[1][1].set_title(\"Regression linéaire de l'engagement en commentaires sur l'ancienneté\")\n",
    "plt.text(x=0.5, y=0.006, s=f\"lope = {slope:.2e}\\nR-squared = {r_value**2:.2f} \\nP-value = {p_value:.3f}\")\n",
    "plt.legend()\n",
    "\n",
    "\n",
    "plt.show()\n"
   ]
  },
  {
   "cell_type": "markdown",
   "id": "c44a16ff",
   "metadata": {},
   "source": [
    "Comme on peut le voir, la part de viewers qui 'likent' et commentent reste stable autour de 9% et 0.4% respectivement, soit une minorité de la totalité des viewers.  \n",
    "On remarque une tendance d'augmentation de la proportion de viewers qui commentent avec l'ancienneté de la vidéo, ce qui suggère que les personnes qui regardent la vidéo tard on plus tendance à commenter. L'interprétation de la régression linéaire donne que pour chaque mois qui passe, cette proportion augmente en moyenne de 0.001 (pour rappelle, elle varie aux alentours de 0.004 sur les observations). La P-valeur à 0.006 montre que le coefficient de la courbe est significatif au seuil 1%. "
   ]
  },
  {
   "cell_type": "markdown",
   "id": "2b89bc5f",
   "metadata": {},
   "source": [
    "## 2.2 - Thèmes majoritairement abordés dans les commentaires (Louisa)"
   ]
  },
  {
   "cell_type": "markdown",
   "id": "185a8ee5",
   "metadata": {},
   "source": [
    "Imports nécessaires pour cette partie"
   ]
  },
  {
   "cell_type": "code",
   "execution_count": 10,
   "id": "3d109aa7",
   "metadata": {},
   "outputs": [
    {
     "ename": "ModuleNotFoundError",
     "evalue": "No module named 'wordcloud'",
     "output_type": "error",
     "traceback": [
      "\u001b[1;31m---------------------------------------------------------------------------\u001b[0m",
      "\u001b[1;31mModuleNotFoundError\u001b[0m                       Traceback (most recent call last)",
      "\u001b[1;32m~\\AppData\\Local\\Temp/ipykernel_14528/1931964718.py\u001b[0m in \u001b[0;36m<module>\u001b[1;34m\u001b[0m\n\u001b[0;32m      4\u001b[0m \u001b[1;32mfrom\u001b[0m \u001b[0mnltk\u001b[0m\u001b[1;33m.\u001b[0m\u001b[0mcorpus\u001b[0m \u001b[1;32mimport\u001b[0m \u001b[0mstopwords\u001b[0m\u001b[1;33m\u001b[0m\u001b[1;33m\u001b[0m\u001b[0m\n\u001b[0;32m      5\u001b[0m \u001b[1;32mfrom\u001b[0m \u001b[0mPIL\u001b[0m \u001b[1;32mimport\u001b[0m \u001b[0mImage\u001b[0m\u001b[1;33m\u001b[0m\u001b[1;33m\u001b[0m\u001b[0m\n\u001b[1;32m----> 6\u001b[1;33m \u001b[1;32mfrom\u001b[0m \u001b[0mwordcloud\u001b[0m \u001b[1;32mimport\u001b[0m \u001b[0mWordCloud\u001b[0m\u001b[1;33m,\u001b[0m \u001b[0mSTOPWORDS\u001b[0m\u001b[1;33m,\u001b[0m \u001b[0mImageColorGenerator\u001b[0m\u001b[1;33m\u001b[0m\u001b[1;33m\u001b[0m\u001b[0m\n\u001b[0m",
      "\u001b[1;31mModuleNotFoundError\u001b[0m: No module named 'wordcloud'"
     ]
    }
   ],
   "source": [
    "import numpy as np\n",
    "import pandas as pd\n",
    "import nltk\n",
    "from nltk.corpus import stopwords\n",
    "from PIL import Image\n",
    "from wordcloud import WordCloud, STOPWORDS, ImageColorGenerator"
   ]
  },
  {
   "cell_type": "code",
   "execution_count": null,
   "id": "ac860fea",
   "metadata": {},
   "outputs": [],
   "source": [
    "nltk.download('stopwords')\n",
    "nltk.download('punkt')\n",
    "nltk.download('genesis')\n",
    "nltk.download('wordnet')"
   ]
  },
  {
   "cell_type": "markdown",
   "id": "c20c25a4",
   "metadata": {},
   "source": [
    "### Tokenisation"
   ]
  },
  {
   "cell_type": "markdown",
   "id": "838c0a3c",
   "metadata": {},
   "source": [
    "On voit que l'on va s'intéresser ici à la colonne `'textClean'` qui a été nettoyée au préalable. Chaque ligne du dataframe représente un commentaire. L'ensemble de ces lignes, c'est-à-dire tous les commentaires, correspondent donc à notre texte d'étude. Il s'agit tout d'abord de décomposer le texte en unités lexicale, afin de pouvoir analyser les impressions laissées en commentaire."
   ]
  },
  {
   "cell_type": "code",
   "execution_count": null,
   "id": "7cddd069",
   "metadata": {},
   "outputs": [],
   "source": [
    "content = \" \".join(data['textClean'])\n",
    "\n",
    "words = nltk.word_tokenize(content, language='french')\n",
    "#words[200:250]"
   ]
  },
  {
   "cell_type": "markdown",
   "id": "6d6fba8e",
   "metadata": {},
   "source": [
    "La texte a bien été décomposé en 'tokens', mais ce ne sont pas tous des mots : certains peuvent être des signes de ponctuation, des smileys... \n",
    "La méthode `isalpha()` renvoie \"True\" si tous les caractères de la chaîne sont des alphabets, on l'utilise pour ne garder que les 'tokens' qui sont des mots."
   ]
  },
  {
   "cell_type": "code",
   "execution_count": null,
   "id": "bfef0a12",
   "metadata": {},
   "outputs": [],
   "source": [
    "words = [word for word in words if word.isalpha()]\n",
    "#words[200:250]"
   ]
  },
  {
   "cell_type": "markdown",
   "id": "e98f09d9",
   "metadata": {},
   "source": [
    "Maintenant, certains mots comme les déterminants, pronoms, sont répétitifs et inutiles à l'analyse du texte. On supprime donc ce qu'on appelle les 'stopwords' :"
   ]
  },
  {
   "cell_type": "code",
   "execution_count": null,
   "id": "07242b4d",
   "metadata": {},
   "outputs": [],
   "source": [
    "stop_words = set(stopwords.words('french'))\n",
    "\n",
    "words = [w for w in words if not w in stop_words]\n",
    "print(words[200:250])"
   ]
  },
  {
   "cell_type": "markdown",
   "id": "41df9b35",
   "metadata": {},
   "source": [
    "### Création de WordClouds"
   ]
  },
  {
   "cell_type": "markdown",
   "id": "ccde4534",
   "metadata": {},
   "source": [
    "Ils permettent de synthétiser les mots et expressions qui reviennent le plus couramment dans les commentaires, et l'on voit qu'ils sont plutôt positifs pour la chaine DirtyBiology !\n",
    "Les images suivantes sont disponibles dans l'onglet [graphes](https://github.com/taucmar/projet-python-2a/tree/main/graphs) de notre dépôt GitHub."
   ]
  },
  {
   "cell_type": "code",
   "execution_count": null,
   "id": "53d5c3ff",
   "metadata": {},
   "outputs": [],
   "source": [
    "text = \" \".join(words)"
   ]
  },
  {
   "cell_type": "code",
   "execution_count": null,
   "id": "91cb0b7c",
   "metadata": {},
   "outputs": [],
   "source": [
    "# Generate a wordcloud\n",
    "wordcloud = WordCloud(max_font_size=50, max_words=100, background_color=\"white\").generate(text)\n",
    "\n",
    "plt.figure()\n",
    "plt.imshow(wordcloud, interpolation=\"bilinear\")\n",
    "plt.axis(\"off\")\n",
    "plt.show()"
   ]
  },
  {
   "cell_type": "markdown",
   "id": "00195c18",
   "metadata": {},
   "source": [
    "On a ici généré un premier nuage de points classique, composé de 100 mots qui semblent positifs dès le premier coup d'œil : vidéo, travail, merci, incroyable , bravo, intéressant...  \n",
    "On customise ce nuage de mots en l'intégrant au logo YouTube"
   ]
  },
  {
   "cell_type": "code",
   "execution_count": null,
   "id": "eb6b41f8",
   "metadata": {},
   "outputs": [],
   "source": [
    "mask = np.array(Image.open(\"mask.png\"))"
   ]
  },
  {
   "cell_type": "code",
   "execution_count": null,
   "id": "03b790a3",
   "metadata": {},
   "outputs": [],
   "source": [
    "# Create a word cloud image\n",
    "wc = WordCloud(background_color=\"white\", max_words=90, mask=mask,\n",
    "               stopwords=stop_words, contour_width=3, contour_color='firebrick')\n",
    "\n",
    "# Generate a wordcloud\n",
    "wc.generate(text)\n",
    "\n",
    "# Store to file\n",
    "wc.to_file(\"./graphs/logo_youtube.png\")\n",
    "\n",
    "# Show\n",
    "plt.figure(figsize=[10,8])\n",
    "plt.imshow(wc, interpolation='bilinear')\n",
    "plt.axis(\"off\")\n",
    "plt.show()"
   ]
  },
  {
   "cell_type": "markdown",
   "id": "e10f940c",
   "metadata": {},
   "source": [
    "Mieux encore, on peut utiliser le logo de DirtyBiology, en retravaillant des images trouvées sur [Internet](https://www.pinterest.fr/pin/148689225175699166/). L'image qui suit a été produite de la même manière."
   ]
  },
  {
   "cell_type": "code",
   "execution_count": null,
   "id": "6ca8b632",
   "metadata": {},
   "outputs": [],
   "source": [
    "from IPython.display import Image\n",
    "Image(\"./graphs/logo_dirty_bio.png\")"
   ]
  },
  {
   "cell_type": "markdown",
   "id": "6f7bd204",
   "metadata": {},
   "source": [
    "## 2.3 - Polarisation des commentaires"
   ]
  },
  {
   "cell_type": "markdown",
   "id": "e7b7d0c8",
   "metadata": {},
   "source": [
    "### 2.3.1 - Calcul de polarités"
   ]
  },
  {
   "cell_type": "markdown",
   "id": "b7b62d3c",
   "metadata": {},
   "source": [
    "Le module TextBlob est un module python de NLP utilisé pour l'analyse de sentiments et qui permet, entre autres, de calculer la polarité d'un texte. Celle-ci est définie par un nombre entre -1 et 1, et détermine le degré de satisfaction ou d'insatisfaction qui se dégage du texte. Plus la polaritée est proche de 1, plus le texte dégage un sentiment positif, et vice-versa.\n",
    "\n",
    "Nous avons calculé la polarité de chaque commentaire de deux façons. Les fonctions permettant de faire ces calculs se trouvent dans le fichier polaritation_utiles. Nous avons d'une part appliqué directement la fonction du module TextBlob qui nous intéresse au commentaire. D'autre part, nous avons découpé chaque commentaire en phrases, avant d'appliquer à chacune de celles-ci la fonction qui renvoie leur polarisation, puis d'en faire la moyenne sur toutes les phrases du commentaire."
   ]
  },
  {
   "cell_type": "code",
   "execution_count": 11,
   "id": "8fd011f9",
   "metadata": {},
   "outputs": [
    {
     "name": "stderr",
     "output_type": "stream",
     "text": [
      "[nltk_data] Downloading package punkt to\n",
      "[nltk_data]     C:\\Users\\yseul\\AppData\\Roaming\\nltk_data...\n",
      "[nltk_data]   Package punkt is already up-to-date!\n"
     ]
    }
   ],
   "source": [
    "import polarisation_utiles as pu"
   ]
  },
  {
   "cell_type": "markdown",
   "id": "e85c54bc",
   "metadata": {},
   "source": [
    "Nous avons ensuite ajouté 2 nouvelles colonnes à la base de données:\n",
    "\n",
    "   - Polarity : polarité de chaque commentaire, calculée sur le commentaire entier directement\n",
    "    \n",
    "   - sentencesPolarity : polarité de chaque commentaire, calculée en prenant la moyenne des polarités sur chaque phrase que comporte le commentaire."
   ]
  },
  {
   "cell_type": "code",
   "execution_count": 12,
   "id": "d6a8013e",
   "metadata": {},
   "outputs": [],
   "source": [
    "data[\"Polarity\"] = data.loc[:,['textClean']].apply(pu.blober)\n",
    "data[\"sentencesPolarity\"] = data.loc[:,['textClean']].apply(pu.polarisation)"
   ]
  },
  {
   "cell_type": "markdown",
   "id": "1b451cd7",
   "metadata": {},
   "source": [
    "Création d'une colonne de numéros des vidéos (ici ou partie 1)"
   ]
  },
  {
   "cell_type": "code",
   "execution_count": 13,
   "id": "5e33b46f",
   "metadata": {},
   "outputs": [],
   "source": [
    "data['DBY'] = data.loc[:,['videoTitle']].apply(np.vectorize(lambda string : string[-7:]))"
   ]
  },
  {
   "cell_type": "markdown",
   "id": "58edf163",
   "metadata": {},
   "source": [
    "### 2.3.2 Analyse des polarités"
   ]
  },
  {
   "cell_type": "markdown",
   "id": "36311841",
   "metadata": {},
   "source": [
    "**Analyse d'une vidéo**"
   ]
  },
  {
   "cell_type": "markdown",
   "id": "bea284a9",
   "metadata": {},
   "source": [
    "Dans un premier temps, on s'intéresse à la répartition des polarités pour une vidéo, ici la vidéo \"Comment ces champis nous ont façonnés - DBY #76\"."
   ]
  },
  {
   "cell_type": "code",
   "execution_count": 14,
   "id": "45e41599",
   "metadata": {},
   "outputs": [
    {
     "data": {
      "text/html": [
       "<div>\n",
       "<style scoped>\n",
       "    .dataframe tbody tr th:only-of-type {\n",
       "        vertical-align: middle;\n",
       "    }\n",
       "\n",
       "    .dataframe tbody tr th {\n",
       "        vertical-align: top;\n",
       "    }\n",
       "\n",
       "    .dataframe thead th {\n",
       "        text-align: right;\n",
       "    }\n",
       "</style>\n",
       "<table border=\"1\" class=\"dataframe\">\n",
       "  <thead>\n",
       "    <tr style=\"text-align: right;\">\n",
       "      <th></th>\n",
       "      <th>Polarity</th>\n",
       "      <th>sentencesPolarity</th>\n",
       "    </tr>\n",
       "  </thead>\n",
       "  <tbody>\n",
       "    <tr>\n",
       "      <th>count</th>\n",
       "      <td>100.000000</td>\n",
       "      <td>100.000000</td>\n",
       "    </tr>\n",
       "    <tr>\n",
       "      <th>mean</th>\n",
       "      <td>0.358376</td>\n",
       "      <td>0.308844</td>\n",
       "    </tr>\n",
       "    <tr>\n",
       "      <th>std</th>\n",
       "      <td>0.291595</td>\n",
       "      <td>0.259852</td>\n",
       "    </tr>\n",
       "    <tr>\n",
       "      <th>min</th>\n",
       "      <td>-0.200000</td>\n",
       "      <td>-0.106000</td>\n",
       "    </tr>\n",
       "    <tr>\n",
       "      <th>25%</th>\n",
       "      <td>0.145833</td>\n",
       "      <td>0.121979</td>\n",
       "    </tr>\n",
       "    <tr>\n",
       "      <th>50%</th>\n",
       "      <td>0.343125</td>\n",
       "      <td>0.252500</td>\n",
       "    </tr>\n",
       "    <tr>\n",
       "      <th>75%</th>\n",
       "      <td>0.499766</td>\n",
       "      <td>0.450833</td>\n",
       "    </tr>\n",
       "    <tr>\n",
       "      <th>max</th>\n",
       "      <td>1.000000</td>\n",
       "      <td>1.000000</td>\n",
       "    </tr>\n",
       "  </tbody>\n",
       "</table>\n",
       "</div>"
      ],
      "text/plain": [
       "         Polarity  sentencesPolarity\n",
       "count  100.000000         100.000000\n",
       "mean     0.358376           0.308844\n",
       "std      0.291595           0.259852\n",
       "min     -0.200000          -0.106000\n",
       "25%      0.145833           0.121979\n",
       "50%      0.343125           0.252500\n",
       "75%      0.499766           0.450833\n",
       "max      1.000000           1.000000"
      ]
     },
     "execution_count": 14,
     "metadata": {},
     "output_type": "execute_result"
    }
   ],
   "source": [
    "data.loc[data['DBY'] == \"DBY #76\", ['Polarity', 'sentencesPolarity']].describe()"
   ]
  },
  {
   "cell_type": "markdown",
   "id": "e013c78d",
   "metadata": {},
   "source": [
    "On voit que pour les deux types de polarité, il y a très peu de valeurs négatives. Cela implique que les commentaires de cette vidéo sont pour la plupart perçus comme positifs.\n",
    "Les écarts type sont de 0.29 et 0.26, ce qui est assez élevé pour des valeurs de polarités allant entre -0.2 (-0.1 pour \"sentencesPolarity\") et 1. Ainsi, les commentaires de cette vidéo dégagent plusieurs degrés de satisfaction, allant de neutre à très satisfait. La moitié d'entre eux sont relativement satisfaits, et ont une polarité se trouvant entre 0.15 et 0.50 (0.12 et 0.45 pour sentencesPolarity).\n",
    "\n",
    "Cela se perçoit bien sur les histogrammes ci-dessous:"
   ]
  },
  {
   "cell_type": "code",
   "execution_count": 15,
   "id": "ea69d99f",
   "metadata": {},
   "outputs": [
    {
     "data": {
      "image/png": "[encoded data removed]",
      "text/plain": [
       "<Figure size 1440x360 with 2 Axes>"
      ]
     },
     "metadata": {},
     "output_type": "display_data"
    }
   ],
   "source": [
    "fig, axs = plt.subplots(1, 2, figsize=(20, 5))\n",
    "\n",
    "data.loc[data['DBY'] == \"DBY #76\", 'Polarity'].plot.density(ax = axs[0])\n",
    "data.loc[data['DBY'] == \"DBY #76\", 'Polarity'].plot.hist(bins=20, density=True, ax = axs[0])\n",
    "\n",
    "axs[0].set_xlabel(\"Polarité calculée sur le commentaire entier\")\n",
    "axs[0].set_ylabel(\"Nombre de commentaires (renormalisé)\")\n",
    "axs[0].set_title(\"Répartition des polarités des commentaires sous la vidéo DBY #76\")\n",
    "\n",
    "data.loc[data['DBY'] == \"DBY #76\", 'sentencesPolarity'].plot.density(ax=axs[1])\n",
    "data.loc[data['DBY'] == \"DBY #76\", 'sentencesPolarity'].plot.hist(bins=20, density=True, ax=axs[1])\n",
    "\n",
    "axs[1].set_xlabel(\"Polarité calculée sur les phrases du commentaire prises une à une\")\n",
    "axs[1].set_ylabel(\"Nombre de commentaires (renormalisé)\")\n",
    "axs[1].set_title(\"Répartition des polarités des commentaires sous la vidéo DBY #76\")\n",
    "\n",
    "plt.show()\n"
   ]
  },
  {
   "cell_type": "markdown",
   "id": "b6cfe22f",
   "metadata": {},
   "source": [
    "**Relation entre le nombre de likes d'un commentaire et sa polarité**"
   ]
  },
  {
   "cell_type": "code",
   "execution_count": 16,
   "id": "ac901632",
   "metadata": {},
   "outputs": [
    {
     "data": {
      "image/png": "[encoded data removed]",
      "text/plain": [
       "<Figure size 1440x720 with 4 Axes>"
      ]
     },
     "metadata": {},
     "output_type": "display_data"
    }
   ],
   "source": [
    "data2 = data.sort_values(\"Polarity\").set_index(\"Polarity\")[\"commentLikeCount\"]\n",
    "\n",
    "fig, axs = plt.subplots(2, 2, figsize=(20, 10))\n",
    "\n",
    "for i, ax in enumerate(np.array(axs).flatten()):\n",
    "    plot_data = data2.iloc[500*i:500*(i+1)]\n",
    "    plot_data.plot.density(ax=ax)\n",
    "    plot_data.plot.hist(bins=[0]+[200 + 50*i for i in range(100)], density=True, ax=ax)\n",
    "    ax.set_xlabel(\"Nombre de likes reçus par le commentaire\")\n",
    "    ax.set_ylabel(\"Nombre de commentaires (renormalisé)\")\n",
    "    ax.set_title(\"Répartition du nombre de likes reçus par les commentaires renvoyant un sentiment \" + [\"négatif ou neutre\", \"légèrement positif\", \"positif\", \"très positif\"][i])"
   ]
  },
  {
   "cell_type": "markdown",
   "id": "670e82b9",
   "metadata": {},
   "source": [
    "Sur chacun des graphiques, la première barre représente les commentaires ayant reçu moins de 200 likes. On considère qu'un commentaire a \"percé\" lorsqu'il a reçu plus de 200 likes. Il semble que les commentaires les moins positifs (ce qui ont la polarité la plus faible) sont ceux qui ont le plus de chance d'avoir du succès. Cela pourrait être dû au fait que les commentaires émettant un avis, qui sont ceux qui reçoivent le plus de likes, sont plutôt neutres, contrairement à ceux qui indiquent que la vidéo a plu, qui dégagent un sentiment positif."
   ]
  },
  {
   "cell_type": "markdown",
   "id": "bc851b2e",
   "metadata": {},
   "source": [
    "**Comparaison des vidéos entre elles**"
   ]
  },
  {
   "cell_type": "markdown",
   "id": "39a9c0fc",
   "metadata": {},
   "source": [
    "Nous avons ensuite fait la moyenne des polarités sur les 100 commentaires de chaque vidéo, ce qui nous permet de comparer les vidéos entre elles."
   ]
  },
  {
   "cell_type": "code",
   "execution_count": 17,
   "id": "e26de99a",
   "metadata": {},
   "outputs": [
    {
     "data": {
      "text/html": [
       "<div>\n",
       "<style scoped>\n",
       "    .dataframe tbody tr th:only-of-type {\n",
       "        vertical-align: middle;\n",
       "    }\n",
       "\n",
       "    .dataframe tbody tr th {\n",
       "        vertical-align: top;\n",
       "    }\n",
       "\n",
       "    .dataframe thead th {\n",
       "        text-align: right;\n",
       "    }\n",
       "</style>\n",
       "<table border=\"1\" class=\"dataframe\">\n",
       "  <thead>\n",
       "    <tr style=\"text-align: right;\">\n",
       "      <th></th>\n",
       "      <th>videoLikeCount</th>\n",
       "      <th>Polarity</th>\n",
       "      <th>sentencesPolarity</th>\n",
       "    </tr>\n",
       "    <tr>\n",
       "      <th>DBY</th>\n",
       "      <th></th>\n",
       "      <th></th>\n",
       "      <th></th>\n",
       "    </tr>\n",
       "  </thead>\n",
       "  <tbody>\n",
       "    <tr>\n",
       "      <th>DBY #72</th>\n",
       "      <td>87990.0</td>\n",
       "      <td>0.391309</td>\n",
       "      <td>0.378558</td>\n",
       "    </tr>\n",
       "    <tr>\n",
       "      <th>DBY #81</th>\n",
       "      <td>40049.0</td>\n",
       "      <td>0.389876</td>\n",
       "      <td>0.322359</td>\n",
       "    </tr>\n",
       "    <tr>\n",
       "      <th>DBY #74</th>\n",
       "      <td>50146.0</td>\n",
       "      <td>0.374054</td>\n",
       "      <td>0.324198</td>\n",
       "    </tr>\n",
       "    <tr>\n",
       "      <th>DBY #80</th>\n",
       "      <td>42480.0</td>\n",
       "      <td>0.363191</td>\n",
       "      <td>0.331241</td>\n",
       "    </tr>\n",
       "    <tr>\n",
       "      <th>DBY #76</th>\n",
       "      <td>47151.0</td>\n",
       "      <td>0.358376</td>\n",
       "      <td>0.308844</td>\n",
       "    </tr>\n",
       "    <tr>\n",
       "      <th>DBY#84</th>\n",
       "      <td>49600.0</td>\n",
       "      <td>0.353083</td>\n",
       "      <td>0.297797</td>\n",
       "    </tr>\n",
       "    <tr>\n",
       "      <th>DBY #87</th>\n",
       "      <td>34914.0</td>\n",
       "      <td>0.346008</td>\n",
       "      <td>0.299026</td>\n",
       "    </tr>\n",
       "    <tr>\n",
       "      <th>DBY #77</th>\n",
       "      <td>62564.0</td>\n",
       "      <td>0.339487</td>\n",
       "      <td>0.299937</td>\n",
       "    </tr>\n",
       "    <tr>\n",
       "      <th>DBY #82</th>\n",
       "      <td>46060.0</td>\n",
       "      <td>0.334684</td>\n",
       "      <td>0.296303</td>\n",
       "    </tr>\n",
       "    <tr>\n",
       "      <th>DBY #75</th>\n",
       "      <td>77143.0</td>\n",
       "      <td>0.328281</td>\n",
       "      <td>0.306087</td>\n",
       "    </tr>\n",
       "    <tr>\n",
       "      <th>DBY #69</th>\n",
       "      <td>75556.0</td>\n",
       "      <td>0.322822</td>\n",
       "      <td>0.289399</td>\n",
       "    </tr>\n",
       "    <tr>\n",
       "      <th>DBY #83</th>\n",
       "      <td>49030.0</td>\n",
       "      <td>0.318974</td>\n",
       "      <td>0.300968</td>\n",
       "    </tr>\n",
       "    <tr>\n",
       "      <th>DBY #68</th>\n",
       "      <td>95877.0</td>\n",
       "      <td>0.314863</td>\n",
       "      <td>0.271384</td>\n",
       "    </tr>\n",
       "    <tr>\n",
       "      <th>DBY #70</th>\n",
       "      <td>100902.0</td>\n",
       "      <td>0.298519</td>\n",
       "      <td>0.253348</td>\n",
       "    </tr>\n",
       "    <tr>\n",
       "      <th>DBY #71</th>\n",
       "      <td>75197.0</td>\n",
       "      <td>0.298193</td>\n",
       "      <td>0.279102</td>\n",
       "    </tr>\n",
       "    <tr>\n",
       "      <th>DBY #86</th>\n",
       "      <td>37787.0</td>\n",
       "      <td>0.284150</td>\n",
       "      <td>0.238342</td>\n",
       "    </tr>\n",
       "    <tr>\n",
       "      <th>DBY #79</th>\n",
       "      <td>86993.0</td>\n",
       "      <td>0.279784</td>\n",
       "      <td>0.240925</td>\n",
       "    </tr>\n",
       "    <tr>\n",
       "      <th>DBY #78</th>\n",
       "      <td>54273.0</td>\n",
       "      <td>0.268583</td>\n",
       "      <td>0.251309</td>\n",
       "    </tr>\n",
       "    <tr>\n",
       "      <th>DBY #85</th>\n",
       "      <td>55911.0</td>\n",
       "      <td>0.252960</td>\n",
       "      <td>0.203297</td>\n",
       "    </tr>\n",
       "    <tr>\n",
       "      <th>DBY #73</th>\n",
       "      <td>64616.0</td>\n",
       "      <td>0.238850</td>\n",
       "      <td>0.222550</td>\n",
       "    </tr>\n",
       "  </tbody>\n",
       "</table>\n",
       "</div>"
      ],
      "text/plain": [
       "         videoLikeCount  Polarity  sentencesPolarity\n",
       "DBY                                                 \n",
       "DBY #72         87990.0  0.391309           0.378558\n",
       "DBY #81         40049.0  0.389876           0.322359\n",
       "DBY #74         50146.0  0.374054           0.324198\n",
       "DBY #80         42480.0  0.363191           0.331241\n",
       "DBY #76         47151.0  0.358376           0.308844\n",
       " DBY#84         49600.0  0.353083           0.297797\n",
       "DBY #87         34914.0  0.346008           0.299026\n",
       "DBY #77         62564.0  0.339487           0.299937\n",
       "DBY #82         46060.0  0.334684           0.296303\n",
       "DBY #75         77143.0  0.328281           0.306087\n",
       "DBY #69         75556.0  0.322822           0.289399\n",
       "DBY #83         49030.0  0.318974           0.300968\n",
       "DBY #68         95877.0  0.314863           0.271384\n",
       "DBY #70        100902.0  0.298519           0.253348\n",
       "DBY #71         75197.0  0.298193           0.279102\n",
       "DBY #86         37787.0  0.284150           0.238342\n",
       "DBY #79         86993.0  0.279784           0.240925\n",
       "DBY #78         54273.0  0.268583           0.251309\n",
       "DBY #85         55911.0  0.252960           0.203297\n",
       "DBY #73         64616.0  0.238850           0.222550"
      ]
     },
     "execution_count": 17,
     "metadata": {},
     "output_type": "execute_result"
    }
   ],
   "source": [
    "datapol = data.groupby(['DBY']).mean().sort_values('Polarity', ascending = False)\n",
    "datapol.loc[:, ['videoLikeCount', 'Polarity', 'sentencesPolarity']]"
   ]
  },
  {
   "cell_type": "markdown",
   "id": "59f33c1a",
   "metadata": {},
   "source": [
    "Nous avons cherché à savoir si les résultats de polarisation restaient cohérents entre les deux méthodes utilisées."
   ]
  },
  {
   "cell_type": "code",
   "execution_count": 18,
   "id": "2d50609a",
   "metadata": {
    "scrolled": true
   },
   "outputs": [
    {
     "data": {
      "image/png": "[encoded data removed]",
      "text/plain": [
       "<Figure size 792x504 with 1 Axes>"
      ]
     },
     "metadata": {},
     "output_type": "display_data"
    }
   ],
   "source": [
    "datapol.loc[:,['Polarity','sentencesPolarity']].plot(kind = 'barh', figsize = (11, 7), color = ['lightblue', 'green'], title = 'Comparaison entre polarité sur les commentaires entiers et polarité sur les phrases des commentaires', xlabel = 'Episode de DirtyBiology')\n",
    "plt.legend(labels = ['Polarité : Commentaires entiers', 'Polarité : Phrases prises une à une'])\n",
    "plt.show()"
   ]
  },
  {
   "cell_type": "markdown",
   "id": "aab1e885",
   "metadata": {},
   "source": [
    "L'ordre des vidéos change un peu selon la définition que l'on utilise pour la polarité, mais les deux définitions semblent tout de même corrélées (globalement, la polarité prise sur chaque phrase augmente avec celle prise sur le commentaire entier).\n",
    "\n",
    "Dans la suite, on garde la polarité sur le commentaire entier."
   ]
  },
  {
   "cell_type": "markdown",
   "id": "2a790b82",
   "metadata": {},
   "source": [
    "La polarité est un témoin du succès qu'a eu une vidéo. On cherche à présent à la comparer à un autre marqueur de ce succès, à savoir le ratio de \"likes\" qu'à reçu une vidéo par rapport à son nombre de vues."
   ]
  },
  {
   "cell_type": "code",
   "execution_count": 19,
   "id": "4055df77",
   "metadata": {},
   "outputs": [
    {
     "data": {
      "image/png": "[encoded data removed]",
      "text/plain": [
       "<Figure size 432x360 with 1 Axes>"
      ]
     },
     "metadata": {},
     "output_type": "display_data"
    }
   ],
   "source": [
    "datapol['likeRatio'] = datapol.loc[:,'videoLikeCount'].divide(datapol.loc[:,'viewCount'])\n",
    "datapol.plot(kind = 'scatter', x = 'Polarity', y = 'likeRatio',figsize = (6, 5), marker = 'd', xlabel = 'Polarité', ylabel = 'Ratio de \\\"likes\\\" par rapport au nombre de vues', title = 'Corrélation entre la polarité et le nombre de \\\"likes\\\" d\\'une vidéo')\n",
    "plt.show()"
   ]
  },
  {
   "cell_type": "markdown",
   "id": "e2e50f81",
   "metadata": {},
   "source": [
    "Il semble ne pas y avoir de corrélation entre ces deux marqueurs. Cela peut être dû au fait que la polarisation ne soit pas très précise, ou que les personnes qui commentent les vidéos n'aient pas le même profil que ceux qui se contentent de \"liker\"."
   ]
  },
  {
   "cell_type": "markdown",
   "id": "17d3a6a3",
   "metadata": {},
   "source": [
    "## 2.3 - Analyse en composantes principales"
   ]
  },
  {
   "cell_type": "markdown",
   "id": "45c5a2b2",
   "metadata": {},
   "source": [
    "Dans cette partie, nous utilisons la bibliothèque [Sentence Transformer](https://github.com/UKPLab/sentence-transformers) pour transformer les phrases en vecteurs réels. Cela nous permet ensuite de faire une ACP, pour visualiser les différences entre les commentaires, et étudier les plus extrêmes, puisque l'ACP conserve un maximum de variance."
   ]
  },
  {
   "cell_type": "code",
   "execution_count": null,
   "id": "3c22ee89",
   "metadata": {},
   "outputs": [],
   "source": [
    "import numpy as np\n",
    "import pandas as pd\n",
    "from sklearn.decomposition import PCA\n",
    "from sklearn.cluster import KMeans\n",
    "import matplotlib.pyplot as plt\n",
    "import seaborn as sns\n",
    "from sentence_transformers import SentenceTransformer"
   ]
  },
  {
   "cell_type": "markdown",
   "id": "608157fa",
   "metadata": {},
   "source": [
    "### A - Préparation de l'encoding\n",
    "1. On récupère les commentaires\n",
    "2. On isole le texte du reste de la base de données\n",
    "3. Dans la liste font, on fait correspondre à chaque indice de commentaire le numéro de la vidéo associée (pour faire des catégories dans l'ACP)"
   ]
  },
  {
   "cell_type": "code",
   "execution_count": null,
   "id": "ea38a770",
   "metadata": {},
   "outputs": [],
   "source": [
    "st = SentenceTransformer(\"xlm-r-bert-base-nli-stsb-mean-tokens\")\n",
    "data = pd.read_csv(\"./comments.csv\")\n",
    "\n",
    "comments = data[['textClean', 'videoId']]\n",
    "\n",
    "text = comments[\"textClean\"].values.tolist()\n",
    "\n",
    "dico_font_video = {}\n",
    "\n",
    "for i, videoid in enumerate(comments.videoId.unique()):\n",
    "    dico_font_video[videoid] = i\n",
    "\n",
    "font = [dico_font_video[videoid] for videoid in comments.videoId]"
   ]
  },
  {
   "cell_type": "markdown",
   "id": "66b25e77",
   "metadata": {},
   "source": [
    "### B -  Encoding et ACP\n",
    "\n",
    "On peut ensuite encoder le texte, ce qui les transforme en vecteurs de $\\mathbb{R}^{768}$, qu'on projette après dans $\\mathbb{R}^{2}$ :"
   ]
  },
  {
   "cell_type": "code",
   "execution_count": null,
   "id": "0c378061",
   "metadata": {},
   "outputs": [],
   "source": [
    "embs = st.encode(text)\n",
    "pca = PCA(2).fit_transform(embs)"
   ]
  },
  {
   "cell_type": "markdown",
   "id": "82b5f95c",
   "metadata": {},
   "source": [
    "### C - Clustering\n",
    "Pour une première visualisation, on réunit les commentaires par clusters (dans  $\\mathbb{R}^{768}$), et on utilise ces catégories lorsqu'on affiche sur l'ACP dans $\\mathbb{R}^{2}$. On récupère aussi les commentaires les plus proches des centroïdes afin d'avoir des commentaires \"représentants\"."
   ]
  },
  {
   "cell_type": "code",
   "execution_count": null,
   "id": "0f310e4f",
   "metadata": {},
   "outputs": [],
   "source": [
    "kmeans = KMeans(5, n_init=80, max_iter=2000).fit(embs)\n",
    "\n",
    "center_indices = [\n",
    "    int(np.argmin([np.sum((x-centroid)**2) for x in embs]))\n",
    "    for centroid in kmeans.cluster_centers_]\n",
    "\n",
    "commentaires_representants = [comments.textClean[i] for i in center_indices]\n",
    "representants = ''\n",
    "for i, comment in enumerate(commentaires_representants):\n",
    "    representants += f'{i}:{comment} \\n'"
   ]
  },
  {
   "cell_type": "markdown",
   "id": "cafc962b",
   "metadata": {},
   "source": [
    "En préparation de l'affichage de cette partie et de la suivante, on stocke toutes les informations constituées jusque là dans une DataFrame."
   ]
  },
  {
   "cell_type": "code",
   "execution_count": null,
   "id": "15dfa025",
   "metadata": {},
   "outputs": [],
   "source": [
    "data = pd.DataFrame(np.array([pca[:, 0], pca[:, 1], font, kmeans.labels_]).transpose(),\n",
    "                    columns=['x', 'y', 'video#', 'label'])\n",
    "data = data.sample(frac=1)"
   ]
  },
  {
   "cell_type": "code",
   "execution_count": null,
   "id": "0e523eee",
   "metadata": {},
   "outputs": [],
   "source": [
    "plt.style.use('default')\n",
    "plt.figure(figsize=(5,5))\n",
    "sns.scatterplot(data=data,\n",
    "                x='x',\n",
    "                y='y',\n",
    "                hue='label',\n",
    "                style='label',\n",
    "                s=30,\n",
    "                hue_norm=(0,6),\n",
    "                alpha=.8,\n",
    "                palette='hsv',\n",
    "                legend='full')\n",
    "# Mise en avant des centroides\n",
    "sns.scatterplot(x=[pca[i, 0] for i in center_indices], \n",
    "                y=[pca[i, 1] for i in center_indices],\n",
    "                style=[i for i in range(len(center_indices))],\n",
    "                s=100,\n",
    "                legend=False)\n",
    "plt.title(\"ACP des commentaires + clustering\")\n",
    "plt.show()\n",
    "print(representants)"
   ]
  },
  {
   "cell_type": "markdown",
   "id": "68187544",
   "metadata": {},
   "source": [
    "Les commentaires centroides sont tous positifs, ce qui suggère que ce qui éloigne les plus les différents clusters les uns des autres ne résident pas dans la positivité ou négativité du commentaire ."
   ]
  },
  {
   "cell_type": "markdown",
   "id": "46e3ab5b",
   "metadata": {},
   "source": [
    "### D - Affichage par vidéo"
   ]
  },
  {
   "cell_type": "code",
   "execution_count": null,
   "id": "62e2989a",
   "metadata": {},
   "outputs": [],
   "source": [
    "plt.figure(figsize=(9,9))\n",
    "sns.scatterplot(data=data,\n",
    "                x='x',\n",
    "                y='y',\n",
    "                hue='video#',\n",
    "                hue_norm=(0, 23),\n",
    "                s=50,\n",
    "                palette='hsv',\n",
    "                alpha=.5,\n",
    "                legend='full')\n",
    "plt.title(\"ACP des commentaires par video\")\n",
    "\n",
    "plt.show()"
   ]
  },
  {
   "cell_type": "markdown",
   "id": "9e55c6fc",
   "metadata": {},
   "source": [
    "Les commentaires de chaque vidéo ne semblent pas former de cluster particuliers dans l'ACP, on peut donc en déduire qu'aucune vidéo n'a suggéré de réaction particulièrement différente des autres, ou bien si des clusters sont cachés dans les dimensions perdues de la projections, c'est qu'ils ont des variances plus faibles que les différences observées dans l'ACP.  \n",
    "Pour vérfier encore ces similarités, on affiche simultannément l'ACP pour chaque nuage de point plutôt que de les superposer.\n",
    "Afin de pouvoir les comparer visuellement facilement, on entoure les nuages de points par l'enveloppe convexe du nuage total :"
   ]
  },
  {
   "cell_type": "code",
   "execution_count": null,
   "id": "c7dd9f11",
   "metadata": {},
   "outputs": [],
   "source": [
    "from scipy.spatial import ConvexHull\n",
    "\n",
    "hull = ConvexHull(pca)\n",
    "\n",
    "fig, axs = plt.subplots(4, 5, figsize=(14, 10))\n",
    "for i, ax in enumerate(np.array(axs).flatten()):\n",
    "    sns.scatterplot(x=[pca[j, 0] for j in range(len(font)) if font[j] == i],\n",
    "                    y=[pca[j, 1] for j in range(len(font)) if font[j] == i],\n",
    "                    s=50,\n",
    "                    ax=ax,\n",
    "                    alpha=0.4)\n",
    "    for simplex in hull.simplices:\n",
    "            ax.plot(pca[simplex, 0], pca[simplex, 1], 'c')\n",
    "    ax.set_title(f'Video {i+1}', fontsize=10)\n",
    "    ax.axis('off')\n",
    "plt.show()"
   ]
  },
  {
   "cell_type": "markdown",
   "id": "63db7c0d",
   "metadata": {},
   "source": [
    "Les nuages de points semblent se déplacer de gacuche à droite principalement, mais les variations ne sont pas énormes. Concrètement, les vidéos suscitent des réations similaires.  \n",
    "### E - À la frontière de l'ACP\n",
    "Les axes de l'ACP ne sont pas porteurs d'un sens clairement identifiable étant donnée la nature de la transformation des commentaires en vecteurs. On peut essayer de leur donner un sens en regardant les valeurs extrêmes de l'ACP et determiner ce qui éloigne les commentaire les plus éloignés d'un point de vue sémantique."
   ]
  },
  {
   "cell_type": "code",
   "execution_count": null,
   "id": "608c0b80",
   "metadata": {},
   "outputs": [],
   "source": [
    "plt.figure(figsize=(8,8))\n",
    "for simplex in hull.simplices:\n",
    "    plt.plot(pca[simplex, 0], pca[simplex, 1], 'c')\n",
    "bound = np.array([pca[i] for i in hull.vertices])\n",
    "plt.scatter(x=bound[:, 0], y=bound[:, 1], color='r')\n",
    "for name, vect in zip(range(len(bound)), bound):\n",
    "    plt.annotate(name+1, vect)\n",
    "plt.title(\"Frontière de l'enveloppe convexe\")\n",
    "plt.show()\n",
    "print(*[f'{i+1} : ' + text[ind]+'\\n' for i, ind in enumerate(hull.vertices)])"
   ]
  },
  {
   "cell_type": "markdown",
   "id": "e0241541",
   "metadata": {},
   "source": [
    "On remarque tout de suite que les commentaires de la région en haut à gauche (1, 2, 12, 13 et 14) partagent tous le même mot : \"merci\" et saluent la qualité et l'intérêt qu'ils ont pour la vidéo ('passionnant', 'enrichissant', 'intéressant', 'beau travail', 'travail de qualité'). Les commentaires du bas sont également élogieux. Tandis que les commentaires de la région opposée intègrent du langage fleuri (6: 'bordel', 8: 'merde') et sont moins élogieux, le commentaire le plus a droite semblant venir d'un professeur voulant se renseigner.  \n",
    "On peut donc supposer que plus on se déplace vers la partie gauche de l'espace, plus les commentaires sont élogieux, et les remerciements nombreux."
   ]
  }
 ],
 "metadata": {
  "kernelspec": {
   "display_name": "Python 3 (ipykernel)",
   "language": "python",
   "name": "python3"
  },
  "language_info": {
   "codemirror_mode": {
    "name": "ipython",
    "version": 3
   },
   "file_extension": ".py",
   "mimetype": "text/x-python",
   "name": "python",
   "nbconvert_exporter": "python",
   "pygments_lexer": "ipython3",
   "version": "3.9.7"
  }
 },
 "nbformat": 4,
 "nbformat_minor": 5
}
