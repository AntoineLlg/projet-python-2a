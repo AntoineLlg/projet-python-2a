{
 "cells": [
  {
   "cell_type": "markdown",
   "id": "a23c0569",
   "metadata": {},
   "source": [
    "# Polarisation des commentaires"
   ]
  },
  {
   "cell_type": "code",
   "execution_count": 1,
   "id": "fd52e6ce",
   "metadata": {},
   "outputs": [],
   "source": [
    "#!pip install textblob\n",
    "#!pip install textblob-fr"
   ]
  },
  {
   "cell_type": "code",
   "execution_count": 1,
   "id": "77e22c9e",
   "metadata": {},
   "outputs": [
    {
     "name": "stderr",
     "output_type": "stream",
     "text": [
      "[nltk_data] Downloading package punkt to\n",
      "[nltk_data]     C:\\Users\\yseul\\AppData\\Roaming\\nltk_data...\n",
      "[nltk_data]   Package punkt is already up-to-date!\n"
     ]
    },
    {
     "data": {
      "text/plain": [
       "True"
      ]
     },
     "execution_count": 1,
     "metadata": {},
     "output_type": "execute_result"
    }
   ],
   "source": [
    "import pandas as pd\n",
    "import numpy as np\n",
    "import matplotlib.pyplot as plt\n",
    "from textblob import TextBlob\n",
    "from textblob_fr import PatternTagger, PatternAnalyzer\n",
    "import nltk\n",
    "nltk.download('punkt')"
   ]
  },
  {
   "cell_type": "code",
   "execution_count": 2,
   "id": "472941c5",
   "metadata": {},
   "outputs": [
    {
     "name": "stdout",
     "output_type": "stream",
     "text": [
      "C:\\Users\\yseul\\Documents\\ENSAE\\2A\\Info\\projet-python-2a\n"
     ]
    }
   ],
   "source": [
    "#cd C:\\Users\\yseul\\Documents\\ENSAE\\2A\\Info\\projet-python-2a\\"
   ]
  },
  {
   "cell_type": "code",
   "execution_count": 3,
   "id": "181fb9a2",
   "metadata": {},
   "outputs": [],
   "source": [
    "data = pd.read_csv(\"comments.csv\")"
   ]
  },
  {
   "cell_type": "markdown",
   "id": "58fad76e",
   "metadata": {},
   "source": [
    "## Calcul de polarités"
   ]
  },
  {
   "cell_type": "markdown",
   "id": "d2543c20",
   "metadata": {},
   "source": [
    "Le module TextBlob est un module python de NLP utilisé pour l'analyse de sentiments et qui permet, entre autres, de calculer la polarité d'un texte. Celle-ci est définie par un nombre entre -1 et 1, et détermine le degré de satisfaction ou d'insatisfaction qui se dégage du texte. Plus la polaritée est proche de 1, plus le texte dégage un sentiment positif, et vice-versa.\n",
    "\n",
    "Nous avons calculé la polarité de chaque commentaire de deux façons. Nous avons d'une part appliqué directement la fonction du module TextBlob qui nous intéresse au commentaire. D'autre part, nous avons découpé chaque commentaire en phrases, avant d'appliquer à chacune de celles-ci la fonction qui renvoie leur polarisation, puis d'en faire la moyenne sur toutes les phrases du commentaire."
   ]
  },
  {
   "cell_type": "code",
   "execution_count": 4,
   "id": "cdcd3b6b",
   "metadata": {},
   "outputs": [],
   "source": [
    "def blober(text: str) -> float:\n",
    "    '''\n",
    "    Calcule la polarité d'un texte.\n",
    "    \n",
    "    Paramètres : \n",
    "    ----------\n",
    "    text : str\n",
    "        texte dont on veut mesurer la polarité\n",
    "        \n",
    "    Sortie :\n",
    "    ----------\n",
    "    float\n",
    "        polarisation : score entre -1 et 1.\n",
    "        Plus le score est proche de 1, plus le commentaire est positif.\n",
    "        Plus il est proche de -1, plus le commentaire est négatif.\n",
    "    '''\n",
    "    return TextBlob(text, pos_tagger=PatternTagger(), analyzer=PatternAnalyzer()).sentiment[0]\n",
    "\n",
    "blober = np.vectorize(blober)\n",
    "\n",
    "def sentences(comment: str) -> list:\n",
    "    '''\n",
    "    Découpe un texte en phrases.\n",
    "    \n",
    "    Paramètres : \n",
    "    ----------\n",
    "    comment : str\n",
    "        texte dont on veut extraire les phrases\n",
    "        \n",
    "    Sortie :\n",
    "    ----------\n",
    "    list[str]\n",
    "        liste des phrases du texte\n",
    "    '''\n",
    "    tokenizer = nltk.data.load('tokenizers/punkt/french.pickle')\n",
    "    return tokenizer.tokenize(comment)\n",
    "\n",
    "def polarisation(comment: str) -> float:\n",
    "    '''\n",
    "    Calcule la polarisation d'un commentaire en calculant d'abord la polarisation de chacune de ses \n",
    "    phrases et en en faisant la moyenne\n",
    "    \n",
    "    Paramètres : \n",
    "    ----------\n",
    "    comment : str\n",
    "        texte dont on veut la polarisation\n",
    "        \n",
    "    Sortie :\n",
    "    ----------\n",
    "    float\n",
    "        moyenne des polarisations des phrases du texte\n",
    "    '''\n",
    "    s = sentences(comment)\n",
    "    return np.mean(blober(s))\n",
    "\n",
    "polarisation = np.vectorize(polarisation)"
   ]
  },
  {
   "cell_type": "markdown",
   "id": "3745418d",
   "metadata": {},
   "source": [
    "Nous avons ensuite ajouté 2 nouvelles colonnes à la base de données:\n",
    "\n",
    "   - Polarity : polarité de chaque commentaire, calculée sur le commentaire entier directement\n",
    "    \n",
    "   - sentencesPolarity : polarité de chaque commentaire, calculée en prenant la moyenne des polarités sur chaque phrase que comporte le commentaire."
   ]
  },
  {
   "cell_type": "code",
   "execution_count": 5,
   "id": "d634d130",
   "metadata": {},
   "outputs": [],
   "source": [
    "data[\"Polarity\"] = data.loc[:,['textClean']].apply(blober)\n",
    "data[\"sentencesPolarity\"] = data.loc[:,['textClean']].apply(polarisation)"
   ]
  },
  {
   "cell_type": "markdown",
   "id": "27d9cbf8",
   "metadata": {},
   "source": [
    "Création d'une colonne de numéros des vidéos."
   ]
  },
  {
   "cell_type": "code",
   "execution_count": 6,
   "id": "39a85d35",
   "metadata": {},
   "outputs": [],
   "source": [
    "data['DBY'] = data.loc[:,['videoTitle']].apply(np.vectorize(lambda string : string[-7:]))"
   ]
  },
  {
   "cell_type": "markdown",
   "id": "24c0c66b",
   "metadata": {},
   "source": [
    "## Analyse des polarités"
   ]
  },
  {
   "cell_type": "markdown",
   "id": "bd256a8e",
   "metadata": {},
   "source": [
    "Dans un premier temps, on s'intéresse à la répartition des polarités pour une vidéo, ici la vidéo \"Comment ces champis nous ont façonnés - DBY #76\"."
   ]
  },
  {
   "cell_type": "code",
   "execution_count": 7,
   "id": "4c198c43",
   "metadata": {},
   "outputs": [
    {
     "data": {
      "text/html": [
       "<div>\n",
       "<style scoped>\n",
       "    .dataframe tbody tr th:only-of-type {\n",
       "        vertical-align: middle;\n",
       "    }\n",
       "\n",
       "    .dataframe tbody tr th {\n",
       "        vertical-align: top;\n",
       "    }\n",
       "\n",
       "    .dataframe thead th {\n",
       "        text-align: right;\n",
       "    }\n",
       "</style>\n",
       "<table border=\"1\" class=\"dataframe\">\n",
       "  <thead>\n",
       "    <tr style=\"text-align: right;\">\n",
       "      <th></th>\n",
       "      <th>Polarity</th>\n",
       "      <th>sentencesPolarity</th>\n",
       "    </tr>\n",
       "  </thead>\n",
       "  <tbody>\n",
       "    <tr>\n",
       "      <th>count</th>\n",
       "      <td>100.000000</td>\n",
       "      <td>100.000000</td>\n",
       "    </tr>\n",
       "    <tr>\n",
       "      <th>mean</th>\n",
       "      <td>0.358376</td>\n",
       "      <td>0.308844</td>\n",
       "    </tr>\n",
       "    <tr>\n",
       "      <th>std</th>\n",
       "      <td>0.291595</td>\n",
       "      <td>0.259852</td>\n",
       "    </tr>\n",
       "    <tr>\n",
       "      <th>min</th>\n",
       "      <td>-0.200000</td>\n",
       "      <td>-0.106000</td>\n",
       "    </tr>\n",
       "    <tr>\n",
       "      <th>25%</th>\n",
       "      <td>0.145833</td>\n",
       "      <td>0.121979</td>\n",
       "    </tr>\n",
       "    <tr>\n",
       "      <th>50%</th>\n",
       "      <td>0.343125</td>\n",
       "      <td>0.252500</td>\n",
       "    </tr>\n",
       "    <tr>\n",
       "      <th>75%</th>\n",
       "      <td>0.499766</td>\n",
       "      <td>0.450833</td>\n",
       "    </tr>\n",
       "    <tr>\n",
       "      <th>max</th>\n",
       "      <td>1.000000</td>\n",
       "      <td>1.000000</td>\n",
       "    </tr>\n",
       "  </tbody>\n",
       "</table>\n",
       "</div>"
      ],
      "text/plain": [
       "         Polarity  sentencesPolarity\n",
       "count  100.000000         100.000000\n",
       "mean     0.358376           0.308844\n",
       "std      0.291595           0.259852\n",
       "min     -0.200000          -0.106000\n",
       "25%      0.145833           0.121979\n",
       "50%      0.343125           0.252500\n",
       "75%      0.499766           0.450833\n",
       "max      1.000000           1.000000"
      ]
     },
     "execution_count": 7,
     "metadata": {},
     "output_type": "execute_result"
    }
   ],
   "source": [
    "data.loc[data['DBY'] == \"DBY #76\", ['Polarity', 'sentencesPolarity']].describe()"
   ]
  },
  {
   "cell_type": "markdown",
   "id": "7a49823b",
   "metadata": {},
   "source": [
    "On voit que pour les deux types de polarité, il y a très peu de valeurs négatives. Cela implique que les commentaires de cette vidéo sont pour la plupart perçus comme positifs.\n",
    "Les écarts type sont de 0.29 et 0.26, ce qui est assez élevé pour des valeurs de polarités allant entre -0.2 (-0.1 pour \"sentencesPolarity\") et 1. Ainsi, les commentaires de cette vidéo dégagent plusieurs degrés de satisfaction, allant de neutre à très satisfait. La moitié d'entre eux sont relativement satisfaits, et ont une polarité se trouvant entre 0.15 et 0.50 (0.12 et 0.45 pour sentencesPolarity).\n",
    "\n",
    "Cela se perçoit bien sur les histogrammes ci-dessous:"
   ]
  },
  {
   "cell_type": "code",
   "execution_count": 9,
   "id": "23bc6444",
   "metadata": {},
   "outputs": [
    {
     "data": {
      "image/png": "[encoded data removed]",
      "text/plain": [
       "<Figure size 432x288 with 1 Axes>"
      ]
     },
     "metadata": {
      "needs_background": "light"
     },
     "output_type": "display_data"
    }
   ],
   "source": [
    "plt.hist(data.loc[data['DBY'] == \"DBY #76\", 'Polarity'], bins = 20, color = 'green')\n",
    "plt.xlabel(\"Polarité calculée sur le commentaire entier\")\n",
    "plt.ylabel(\"Nombre de commentaires\")\n",
    "plt.title(\"Répartition des polarités des commentaires sous la vidéo DBY #76\")\n",
    "plt.savefig(\"./graphs/histogram_polarity\")\n",
    "plt.show()"
   ]
  },
  {
   "cell_type": "code",
   "execution_count": 10,
   "id": "0564adf7",
   "metadata": {
    "scrolled": true
   },
   "outputs": [
    {
     "data": {
      "image/png": "[encoded data removed]",
      "text/plain": [
       "<Figure size 432x288 with 1 Axes>"
      ]
     },
     "metadata": {
      "needs_background": "light"
     },
     "output_type": "display_data"
    }
   ],
   "source": [
    "plt.hist(data.loc[data['DBY'] == \"DBY #76\", 'sentencesPolarity'], bins = 20, color = 'lightblue')\n",
    "plt.xlabel(\"Polarité calculée sur les phrases du commentaire prises une à une\")\n",
    "plt.ylabel(\"Nombre de commentaires\")\n",
    "plt.title(\"Répartition des polarités des commentaires sous la vidéo DBY #76\")\n",
    "plt.savefig(\"./graphs/histogram_polarity_sentences\")\n",
    "plt.show()"
   ]
  },
  {
   "cell_type": "markdown",
   "id": "ce581c45",
   "metadata": {},
   "source": [
    "Nous avons ensuite fait la moyenne des polarités sur les 100 commentaires de chaque vidéo, ce qui nous permet de comparer les vidéos entre elles."
   ]
  },
  {
   "cell_type": "code",
   "execution_count": 11,
   "id": "882ae9f9",
   "metadata": {
    "scrolled": true
   },
   "outputs": [
    {
     "data": {
      "text/html": [
       "<div>\n",
       "<style scoped>\n",
       "    .dataframe tbody tr th:only-of-type {\n",
       "        vertical-align: middle;\n",
       "    }\n",
       "\n",
       "    .dataframe tbody tr th {\n",
       "        vertical-align: top;\n",
       "    }\n",
       "\n",
       "    .dataframe thead th {\n",
       "        text-align: right;\n",
       "    }\n",
       "</style>\n",
       "<table border=\"1\" class=\"dataframe\">\n",
       "  <thead>\n",
       "    <tr style=\"text-align: right;\">\n",
       "      <th></th>\n",
       "      <th>videoLikeCount</th>\n",
       "      <th>Polarity</th>\n",
       "      <th>sentencesPolarity</th>\n",
       "    </tr>\n",
       "    <tr>\n",
       "      <th>DBY</th>\n",
       "      <th></th>\n",
       "      <th></th>\n",
       "      <th></th>\n",
       "    </tr>\n",
       "  </thead>\n",
       "  <tbody>\n",
       "    <tr>\n",
       "      <th>DBY #72</th>\n",
       "      <td>87989.0</td>\n",
       "      <td>0.391309</td>\n",
       "      <td>0.378558</td>\n",
       "    </tr>\n",
       "    <tr>\n",
       "      <th>DBY #81</th>\n",
       "      <td>40049.0</td>\n",
       "      <td>0.389876</td>\n",
       "      <td>0.322359</td>\n",
       "    </tr>\n",
       "    <tr>\n",
       "      <th>DBY #74</th>\n",
       "      <td>50143.0</td>\n",
       "      <td>0.374054</td>\n",
       "      <td>0.324198</td>\n",
       "    </tr>\n",
       "    <tr>\n",
       "      <th>DBY #80</th>\n",
       "      <td>42476.0</td>\n",
       "      <td>0.363191</td>\n",
       "      <td>0.331241</td>\n",
       "    </tr>\n",
       "    <tr>\n",
       "      <th>DBY #76</th>\n",
       "      <td>47150.0</td>\n",
       "      <td>0.358376</td>\n",
       "      <td>0.308844</td>\n",
       "    </tr>\n",
       "    <tr>\n",
       "      <th>DBY#84</th>\n",
       "      <td>49593.0</td>\n",
       "      <td>0.353083</td>\n",
       "      <td>0.297797</td>\n",
       "    </tr>\n",
       "    <tr>\n",
       "      <th>DBY #77</th>\n",
       "      <td>62565.0</td>\n",
       "      <td>0.339487</td>\n",
       "      <td>0.299937</td>\n",
       "    </tr>\n",
       "    <tr>\n",
       "      <th>DBY #87</th>\n",
       "      <td>34479.0</td>\n",
       "      <td>0.338270</td>\n",
       "      <td>0.295363</td>\n",
       "    </tr>\n",
       "    <tr>\n",
       "      <th>DBY #82</th>\n",
       "      <td>46056.0</td>\n",
       "      <td>0.334684</td>\n",
       "      <td>0.296303</td>\n",
       "    </tr>\n",
       "    <tr>\n",
       "      <th>DBY #75</th>\n",
       "      <td>77139.0</td>\n",
       "      <td>0.328281</td>\n",
       "      <td>0.306087</td>\n",
       "    </tr>\n",
       "    <tr>\n",
       "      <th>DBY #69</th>\n",
       "      <td>75555.0</td>\n",
       "      <td>0.322822</td>\n",
       "      <td>0.289399</td>\n",
       "    </tr>\n",
       "    <tr>\n",
       "      <th>DBY #83</th>\n",
       "      <td>49025.0</td>\n",
       "      <td>0.318974</td>\n",
       "      <td>0.300968</td>\n",
       "    </tr>\n",
       "    <tr>\n",
       "      <th>DBY #68</th>\n",
       "      <td>95869.0</td>\n",
       "      <td>0.314863</td>\n",
       "      <td>0.271384</td>\n",
       "    </tr>\n",
       "    <tr>\n",
       "      <th>DBY #70</th>\n",
       "      <td>100900.0</td>\n",
       "      <td>0.298519</td>\n",
       "      <td>0.253348</td>\n",
       "    </tr>\n",
       "    <tr>\n",
       "      <th>DBY #71</th>\n",
       "      <td>75195.0</td>\n",
       "      <td>0.298193</td>\n",
       "      <td>0.279102</td>\n",
       "    </tr>\n",
       "    <tr>\n",
       "      <th>DBY #86</th>\n",
       "      <td>37733.0</td>\n",
       "      <td>0.285275</td>\n",
       "      <td>0.240479</td>\n",
       "    </tr>\n",
       "    <tr>\n",
       "      <th>DBY #79</th>\n",
       "      <td>86986.0</td>\n",
       "      <td>0.279617</td>\n",
       "      <td>0.237508</td>\n",
       "    </tr>\n",
       "    <tr>\n",
       "      <th>DBY #78</th>\n",
       "      <td>54267.0</td>\n",
       "      <td>0.268583</td>\n",
       "      <td>0.251309</td>\n",
       "    </tr>\n",
       "    <tr>\n",
       "      <th>DBY #85</th>\n",
       "      <td>55901.0</td>\n",
       "      <td>0.252960</td>\n",
       "      <td>0.203297</td>\n",
       "    </tr>\n",
       "    <tr>\n",
       "      <th>DBY #73</th>\n",
       "      <td>64612.0</td>\n",
       "      <td>0.244945</td>\n",
       "      <td>0.229121</td>\n",
       "    </tr>\n",
       "  </tbody>\n",
       "</table>\n",
       "</div>"
      ],
      "text/plain": [
       "         videoLikeCount  Polarity  sentencesPolarity\n",
       "DBY                                                 \n",
       "DBY #72         87989.0  0.391309           0.378558\n",
       "DBY #81         40049.0  0.389876           0.322359\n",
       "DBY #74         50143.0  0.374054           0.324198\n",
       "DBY #80         42476.0  0.363191           0.331241\n",
       "DBY #76         47150.0  0.358376           0.308844\n",
       " DBY#84         49593.0  0.353083           0.297797\n",
       "DBY #77         62565.0  0.339487           0.299937\n",
       "DBY #87         34479.0  0.338270           0.295363\n",
       "DBY #82         46056.0  0.334684           0.296303\n",
       "DBY #75         77139.0  0.328281           0.306087\n",
       "DBY #69         75555.0  0.322822           0.289399\n",
       "DBY #83         49025.0  0.318974           0.300968\n",
       "DBY #68         95869.0  0.314863           0.271384\n",
       "DBY #70        100900.0  0.298519           0.253348\n",
       "DBY #71         75195.0  0.298193           0.279102\n",
       "DBY #86         37733.0  0.285275           0.240479\n",
       "DBY #79         86986.0  0.279617           0.237508\n",
       "DBY #78         54267.0  0.268583           0.251309\n",
       "DBY #85         55901.0  0.252960           0.203297\n",
       "DBY #73         64612.0  0.244945           0.229121"
      ]
     },
     "execution_count": 11,
     "metadata": {},
     "output_type": "execute_result"
    }
   ],
   "source": [
    "datapol = data.groupby(['DBY']).mean().sort_values('Polarity', ascending = False)\n",
    "datapol.loc[:, ['videoLikeCount', 'Polarity', 'sentencesPolarity']]"
   ]
  },
  {
   "cell_type": "markdown",
   "id": "75f31303",
   "metadata": {},
   "source": [
    "Tout d'abord, nous avons cherché à savoir si les résultats de polarisation restaient cohérents entre les deux méthodes utilisées."
   ]
  },
  {
   "cell_type": "code",
   "execution_count": 12,
   "id": "d912b7f9",
   "metadata": {},
   "outputs": [
    {
     "data": {
      "image/png": "[encoded data removed]",
      "text/plain": [
       "<Figure size 792x504 with 1 Axes>"
      ]
     },
     "metadata": {
      "needs_background": "light"
     },
     "output_type": "display_data"
    }
   ],
   "source": [
    "datapol.loc[:,['Polarity','sentencesPolarity']].plot(kind = 'barh', figsize = (11, 7), color = ['lightblue', 'green'], title = 'Comparaison entre polarité sur les commentaires entiers et polarité sur les phrases des commentaires', xlabel = 'Episode de DirtyBiology')\n",
    "plt.legend(labels = ['Polarité : Commentaires entiers', 'Polarité : Phrases prises une à une'])\n",
    "plt.savefig(\"./graphs/comparaison_polarites\")\n",
    "plt.show()"
   ]
  },
  {
   "cell_type": "markdown",
   "id": "e9000e16",
   "metadata": {},
   "source": [
    "L'ordre des vidéos change un peu selon la définition que l'on utilise pour la polarité, mais les deux définitions semblent tout de même corrélées (globalement, la polarité prise sur chaque phrase augmente avec celle prise sur le commentaire entier).\n",
    "\n",
    "Dans la suite, on garde la polarité sur le commentaire entier."
   ]
  },
  {
   "cell_type": "markdown",
   "id": "1d484616",
   "metadata": {},
   "source": [
    "La polarité est un témoin du succès qu'a eu une vidéo. On cherche à présent à la comparer à un autre marqueur de ce succès, à savoir le ratio de \"likes\" qu'à reçu une vidéo par rapport à son nombre de vues."
   ]
  },
  {
   "cell_type": "code",
   "execution_count": 13,
   "id": "6b22fbc4",
   "metadata": {},
   "outputs": [
    {
     "data": {
      "image/png": "[encoded data removed]",
      "text/plain": [
       "<Figure size 432x360 with 1 Axes>"
      ]
     },
     "metadata": {
      "needs_background": "light"
     },
     "output_type": "display_data"
    }
   ],
   "source": [
    "datapol['likeRatio'] = datapol.loc[:,'videoLikeCount'].divide(datapol.loc[:,'viewCount'])\n",
    "datapol.plot(kind = 'scatter', x = 'Polarity', y = 'likeRatio',figsize = (6, 5), marker = 'd', xlabel = 'Polarité', color = 'green', ylabel = 'Ratio de \\\"likes\\\" par rapport au nombre de vues', title = 'Corrélation entre la polarité et le nombre de \\\"likes\\\" d\\'une vidéo')\n",
    "plt.savefig(\"./graphs/comparaison_polarite_likes\")\n",
    "plt.show()"
   ]
  },
  {
   "cell_type": "markdown",
   "id": "fb2385ce",
   "metadata": {},
   "source": [
    "Il semble ne pas y avoir de corrélation entre ces deux marqueurs. Cela peut être dû au fait que la polarisation ne soit pas très précise, ou que les personnes qui commentent les vidéos n'aient pas le même profil que ceux qui se contentent de \"liker\"."
   ]
  }
 ],
 "metadata": {
  "kernelspec": {
   "display_name": "Python (projetpython2a)",
   "language": "python",
   "name": "projetpython2a"
  },
  "language_info": {
   "codemirror_mode": {
    "name": "ipython",
    "version": 3
   },
   "file_extension": ".py",
   "mimetype": "text/x-python",
   "name": "python",
   "nbconvert_exporter": "python",
   "pygments_lexer": "ipython3",
   "version": "3.9.7"
  }
 },
 "nbformat": 4,
 "nbformat_minor": 5
}
